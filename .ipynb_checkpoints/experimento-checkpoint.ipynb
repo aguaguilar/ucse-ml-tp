{
 "cells": [
  {
   "cell_type": "markdown",
   "metadata": {},
   "source": [
    "# Descripción de las columnas"
   ]
  },
  {
   "cell_type": "markdown",
   "metadata": {},
   "source": []
  },
  {
   "cell_type": "code",
   "execution_count": 1,
   "metadata": {},
   "outputs": [],
   "source": [
    "import pandas as pd\n",
    "import numpy as np\n",
    "%matplotlib inline\n",
    "import matplotlib.pyplot as plt"
   ]
  },
  {
   "cell_type": "code",
   "execution_count": 2,
   "metadata": {},
   "outputs": [],
   "source": [
    "df = pd.read_csv(\"bouts_out_new.csv\")"
   ]
  },
  {
   "cell_type": "markdown",
   "metadata": {},
   "source": [
    "## Descripción de los datos"
   ]
  },
  {
   "cell_type": "code",
   "execution_count": 3,
   "metadata": {},
   "outputs": [
    {
     "data": {
      "text/plain": [
       "(387427, 26)"
      ]
     },
     "execution_count": 3,
     "metadata": {},
     "output_type": "execute_result"
    }
   ],
   "source": [
    "df.shape"
   ]
  },
  {
   "cell_type": "code",
   "execution_count": 4,
   "metadata": {},
   "outputs": [
    {
     "data": {
      "text/html": [
       "<div>\n",
       "<style scoped>\n",
       "    .dataframe tbody tr th:only-of-type {\n",
       "        vertical-align: middle;\n",
       "    }\n",
       "\n",
       "    .dataframe tbody tr th {\n",
       "        vertical-align: top;\n",
       "    }\n",
       "\n",
       "    .dataframe thead th {\n",
       "        text-align: right;\n",
       "    }\n",
       "</style>\n",
       "<table border=\"1\" class=\"dataframe\">\n",
       "  <thead>\n",
       "    <tr style=\"text-align: right;\">\n",
       "      <th></th>\n",
       "      <th>age_A</th>\n",
       "      <th>age_B</th>\n",
       "      <th>height_A</th>\n",
       "      <th>height_B</th>\n",
       "      <th>reach_A</th>\n",
       "      <th>reach_B</th>\n",
       "      <th>stance_A</th>\n",
       "      <th>stance_B</th>\n",
       "      <th>weight_A</th>\n",
       "      <th>weight_B</th>\n",
       "      <th>...</th>\n",
       "      <th>kos_A</th>\n",
       "      <th>kos_B</th>\n",
       "      <th>result</th>\n",
       "      <th>decision</th>\n",
       "      <th>judge1_A</th>\n",
       "      <th>judge1_B</th>\n",
       "      <th>judge2_A</th>\n",
       "      <th>judge2_B</th>\n",
       "      <th>judge3_A</th>\n",
       "      <th>judge3_B</th>\n",
       "    </tr>\n",
       "  </thead>\n",
       "  <tbody>\n",
       "    <tr>\n",
       "      <th>0</th>\n",
       "      <td>35.0</td>\n",
       "      <td>27.0</td>\n",
       "      <td>179.0</td>\n",
       "      <td>175.0</td>\n",
       "      <td>178.0</td>\n",
       "      <td>179.0</td>\n",
       "      <td>orthodox</td>\n",
       "      <td>orthodox</td>\n",
       "      <td>160.0</td>\n",
       "      <td>160.0</td>\n",
       "      <td>...</td>\n",
       "      <td>33</td>\n",
       "      <td>34.0</td>\n",
       "      <td>draw</td>\n",
       "      <td>SD</td>\n",
       "      <td>110.0</td>\n",
       "      <td>118.0</td>\n",
       "      <td>115.0</td>\n",
       "      <td>113.0</td>\n",
       "      <td>114.0</td>\n",
       "      <td>114.0</td>\n",
       "    </tr>\n",
       "    <tr>\n",
       "      <th>1</th>\n",
       "      <td>26.0</td>\n",
       "      <td>31.0</td>\n",
       "      <td>175.0</td>\n",
       "      <td>185.0</td>\n",
       "      <td>179.0</td>\n",
       "      <td>185.0</td>\n",
       "      <td>orthodox</td>\n",
       "      <td>orthodox</td>\n",
       "      <td>164.0</td>\n",
       "      <td>164.0</td>\n",
       "      <td>...</td>\n",
       "      <td>34</td>\n",
       "      <td>32.0</td>\n",
       "      <td>win_A</td>\n",
       "      <td>UD</td>\n",
       "      <td>120.0</td>\n",
       "      <td>108.0</td>\n",
       "      <td>120.0</td>\n",
       "      <td>108.0</td>\n",
       "      <td>120.0</td>\n",
       "      <td>108.0</td>\n",
       "    </tr>\n",
       "    <tr>\n",
       "      <th>2</th>\n",
       "      <td>28.0</td>\n",
       "      <td>26.0</td>\n",
       "      <td>176.0</td>\n",
       "      <td>175.0</td>\n",
       "      <td>NaN</td>\n",
       "      <td>179.0</td>\n",
       "      <td>orthodox</td>\n",
       "      <td>orthodox</td>\n",
       "      <td>154.0</td>\n",
       "      <td>154.0</td>\n",
       "      <td>...</td>\n",
       "      <td>13</td>\n",
       "      <td>33.0</td>\n",
       "      <td>win_B</td>\n",
       "      <td>KO</td>\n",
       "      <td>NaN</td>\n",
       "      <td>NaN</td>\n",
       "      <td>NaN</td>\n",
       "      <td>NaN</td>\n",
       "      <td>NaN</td>\n",
       "      <td>NaN</td>\n",
       "    </tr>\n",
       "    <tr>\n",
       "      <th>3</th>\n",
       "      <td>25.0</td>\n",
       "      <td>29.0</td>\n",
       "      <td>175.0</td>\n",
       "      <td>174.0</td>\n",
       "      <td>179.0</td>\n",
       "      <td>180.0</td>\n",
       "      <td>orthodox</td>\n",
       "      <td>orthodox</td>\n",
       "      <td>155.0</td>\n",
       "      <td>155.0</td>\n",
       "      <td>...</td>\n",
       "      <td>32</td>\n",
       "      <td>19.0</td>\n",
       "      <td>win_A</td>\n",
       "      <td>KO</td>\n",
       "      <td>47.0</td>\n",
       "      <td>48.0</td>\n",
       "      <td>49.0</td>\n",
       "      <td>46.0</td>\n",
       "      <td>48.0</td>\n",
       "      <td>47.0</td>\n",
       "    </tr>\n",
       "    <tr>\n",
       "      <th>4</th>\n",
       "      <td>25.0</td>\n",
       "      <td>35.0</td>\n",
       "      <td>175.0</td>\n",
       "      <td>170.0</td>\n",
       "      <td>179.0</td>\n",
       "      <td>170.0</td>\n",
       "      <td>orthodox</td>\n",
       "      <td>orthodox</td>\n",
       "      <td>155.0</td>\n",
       "      <td>NaN</td>\n",
       "      <td>...</td>\n",
       "      <td>32</td>\n",
       "      <td>33.0</td>\n",
       "      <td>win_A</td>\n",
       "      <td>UD</td>\n",
       "      <td>118.0</td>\n",
       "      <td>110.0</td>\n",
       "      <td>119.0</td>\n",
       "      <td>109.0</td>\n",
       "      <td>117.0</td>\n",
       "      <td>111.0</td>\n",
       "    </tr>\n",
       "  </tbody>\n",
       "</table>\n",
       "<p>5 rows × 26 columns</p>\n",
       "</div>"
      ],
      "text/plain": [
       "   age_A  age_B  height_A  height_B  reach_A  reach_B  stance_A  stance_B  \\\n",
       "0   35.0   27.0     179.0     175.0    178.0    179.0  orthodox  orthodox   \n",
       "1   26.0   31.0     175.0     185.0    179.0    185.0  orthodox  orthodox   \n",
       "2   28.0   26.0     176.0     175.0      NaN    179.0  orthodox  orthodox   \n",
       "3   25.0   29.0     175.0     174.0    179.0    180.0  orthodox  orthodox   \n",
       "4   25.0   35.0     175.0     170.0    179.0    170.0  orthodox  orthodox   \n",
       "\n",
       "   weight_A  weight_B   ...     kos_A  kos_B  result  decision  judge1_A  \\\n",
       "0     160.0     160.0   ...        33   34.0    draw        SD     110.0   \n",
       "1     164.0     164.0   ...        34   32.0   win_A        UD     120.0   \n",
       "2     154.0     154.0   ...        13   33.0   win_B        KO       NaN   \n",
       "3     155.0     155.0   ...        32   19.0   win_A        KO      47.0   \n",
       "4     155.0       NaN   ...        32   33.0   win_A        UD     118.0   \n",
       "\n",
       "   judge1_B  judge2_A  judge2_B judge3_A judge3_B  \n",
       "0     118.0     115.0     113.0    114.0    114.0  \n",
       "1     108.0     120.0     108.0    120.0    108.0  \n",
       "2       NaN       NaN       NaN      NaN      NaN  \n",
       "3      48.0      49.0      46.0     48.0     47.0  \n",
       "4     110.0     119.0     109.0    117.0    111.0  \n",
       "\n",
       "[5 rows x 26 columns]"
      ]
     },
     "execution_count": 4,
     "metadata": {},
     "output_type": "execute_result"
    }
   ],
   "source": [
    "df.head()"
   ]
  },
  {
   "cell_type": "code",
   "execution_count": 5,
   "metadata": {},
   "outputs": [
    {
     "data": {
      "text/plain": [
       "Index(['age_A', 'age_B', 'height_A', 'height_B', 'reach_A', 'reach_B',\n",
       "       'stance_A', 'stance_B', 'weight_A', 'weight_B', 'won_A', 'won_B',\n",
       "       'lost_A', 'lost_B', 'drawn_A', 'drawn_B', 'kos_A', 'kos_B', 'result',\n",
       "       'decision', 'judge1_A', 'judge1_B', 'judge2_A', 'judge2_B', 'judge3_A',\n",
       "       'judge3_B'],\n",
       "      dtype='object')"
      ]
     },
     "execution_count": 5,
     "metadata": {},
     "output_type": "execute_result"
    }
   ],
   "source": [
    "df.columns"
   ]
  },
  {
   "cell_type": "code",
   "execution_count": 6,
   "metadata": {},
   "outputs": [],
   "source": [
    "rename_columns = {\n",
    "    'age_A': 'edad_a', 'age_B': 'edad_b', 'height_A': 'altura_a', \n",
    "    'height_B': 'altura_b', 'reach_A': 'alcance_mano_a',\n",
    "    'reach_B': 'alcance_mano_b', 'stance_A': 'posicion_a', 'stance_B': 'posicion_b',\n",
    "    'weight_A': 'peso_a', 'weight_B': 'peso_b', 'won_A': 'ganadas_a', 'won_B': 'ganadas_b',\n",
    "       'lost_A': 'perdidas_a', 'lost_B': 'perdidas_a', 'drawn_A': 'empatadas_a', 'drawn_B':'empatadas_b',\n",
    "    'kos_A': 'kos_a', 'kos_B': 'kos_b', 'result': 'resultado', 'decision': 'decision',\n",
    "    'judge1_A': 'juez1_a', 'judge1_B': 'juez1_b', 'judge2_A': 'juez2_a', 'judge2_B': 'juez2_b', \n",
    "    'judge3_A': 'juez3_a', 'judge3_B': 'juez3_b'\n",
    "}\n",
    "df.rename(columns=rename_columns, inplace=True)"
   ]
  },
  {
   "cell_type": "code",
   "execution_count": 31,
   "metadata": {},
   "outputs": [
    {
     "data": {
      "text/html": [
       "<div>\n",
       "<style scoped>\n",
       "    .dataframe tbody tr th:only-of-type {\n",
       "        vertical-align: middle;\n",
       "    }\n",
       "\n",
       "    .dataframe tbody tr th {\n",
       "        vertical-align: top;\n",
       "    }\n",
       "\n",
       "    .dataframe thead th {\n",
       "        text-align: right;\n",
       "    }\n",
       "</style>\n",
       "<table border=\"1\" class=\"dataframe\">\n",
       "  <thead>\n",
       "    <tr style=\"text-align: right;\">\n",
       "      <th></th>\n",
       "      <th>edad_a</th>\n",
       "      <th>edad_b</th>\n",
       "      <th>altura_a</th>\n",
       "      <th>altura_b</th>\n",
       "      <th>alcance_mano_a</th>\n",
       "      <th>alcance_mano_b</th>\n",
       "      <th>peso_a</th>\n",
       "      <th>peso_b</th>\n",
       "      <th>ganadas_a</th>\n",
       "      <th>ganadas_b</th>\n",
       "      <th>...</th>\n",
       "      <th>empatadas_a</th>\n",
       "      <th>empatadas_b</th>\n",
       "      <th>kos_a</th>\n",
       "      <th>kos_b</th>\n",
       "      <th>juez1_a</th>\n",
       "      <th>juez1_b</th>\n",
       "      <th>juez2_a</th>\n",
       "      <th>juez2_b</th>\n",
       "      <th>juez3_a</th>\n",
       "      <th>juez3_b</th>\n",
       "    </tr>\n",
       "  </thead>\n",
       "  <tbody>\n",
       "    <tr>\n",
       "      <th>count</th>\n",
       "      <td>352888.000000</td>\n",
       "      <td>257935.000000</td>\n",
       "      <td>249246.000000</td>\n",
       "      <td>134640.000000</td>\n",
       "      <td>112342.000000</td>\n",
       "      <td>37873.000000</td>\n",
       "      <td>135573.000000</td>\n",
       "      <td>130358.000000</td>\n",
       "      <td>387427.000000</td>\n",
       "      <td>387427.000000</td>\n",
       "      <td>...</td>\n",
       "      <td>387427.000000</td>\n",
       "      <td>387427.000000</td>\n",
       "      <td>387427.000000</td>\n",
       "      <td>387348.000000</td>\n",
       "      <td>52248.000000</td>\n",
       "      <td>52060.000000</td>\n",
       "      <td>70371.000000</td>\n",
       "      <td>70032.000000</td>\n",
       "      <td>61231.000000</td>\n",
       "      <td>61023.000000</td>\n",
       "    </tr>\n",
       "    <tr>\n",
       "      <th>mean</th>\n",
       "      <td>24.416041</td>\n",
       "      <td>26.583345</td>\n",
       "      <td>172.786657</td>\n",
       "      <td>172.882657</td>\n",
       "      <td>178.848605</td>\n",
       "      <td>179.001030</td>\n",
       "      <td>146.340636</td>\n",
       "      <td>147.089484</td>\n",
       "      <td>23.108438</td>\n",
       "      <td>15.159080</td>\n",
       "      <td>...</td>\n",
       "      <td>2.826481</td>\n",
       "      <td>2.636375</td>\n",
       "      <td>10.338887</td>\n",
       "      <td>6.234735</td>\n",
       "      <td>62.778901</td>\n",
       "      <td>59.509700</td>\n",
       "      <td>59.560941</td>\n",
       "      <td>56.570411</td>\n",
       "      <td>60.784276</td>\n",
       "      <td>57.995215</td>\n",
       "    </tr>\n",
       "    <tr>\n",
       "      <th>std</th>\n",
       "      <td>6.523590</td>\n",
       "      <td>11.823224</td>\n",
       "      <td>9.130127</td>\n",
       "      <td>9.430631</td>\n",
       "      <td>12.002404</td>\n",
       "      <td>14.867537</td>\n",
       "      <td>30.240142</td>\n",
       "      <td>30.624890</td>\n",
       "      <td>27.629901</td>\n",
       "      <td>19.938137</td>\n",
       "      <td>...</td>\n",
       "      <td>5.584610</td>\n",
       "      <td>5.027003</td>\n",
       "      <td>12.392049</td>\n",
       "      <td>8.750690</td>\n",
       "      <td>30.337580</td>\n",
       "      <td>29.285058</td>\n",
       "      <td>31.021367</td>\n",
       "      <td>30.260935</td>\n",
       "      <td>31.910461</td>\n",
       "      <td>31.170590</td>\n",
       "    </tr>\n",
       "    <tr>\n",
       "      <th>min</th>\n",
       "      <td>-74.000000</td>\n",
       "      <td>-74.000000</td>\n",
       "      <td>2.000000</td>\n",
       "      <td>15.000000</td>\n",
       "      <td>5.000000</td>\n",
       "      <td>1.000000</td>\n",
       "      <td>10.000000</td>\n",
       "      <td>2.000000</td>\n",
       "      <td>0.000000</td>\n",
       "      <td>0.000000</td>\n",
       "      <td>...</td>\n",
       "      <td>0.000000</td>\n",
       "      <td>0.000000</td>\n",
       "      <td>0.000000</td>\n",
       "      <td>0.000000</td>\n",
       "      <td>0.000000</td>\n",
       "      <td>1.000000</td>\n",
       "      <td>0.000000</td>\n",
       "      <td>0.000000</td>\n",
       "      <td>0.000000</td>\n",
       "      <td>1.000000</td>\n",
       "    </tr>\n",
       "    <tr>\n",
       "      <th>25%</th>\n",
       "      <td>21.000000</td>\n",
       "      <td>23.000000</td>\n",
       "      <td>166.000000</td>\n",
       "      <td>167.000000</td>\n",
       "      <td>170.000000</td>\n",
       "      <td>171.000000</td>\n",
       "      <td>125.000000</td>\n",
       "      <td>126.000000</td>\n",
       "      <td>5.000000</td>\n",
       "      <td>2.000000</td>\n",
       "      <td>...</td>\n",
       "      <td>0.000000</td>\n",
       "      <td>0.000000</td>\n",
       "      <td>2.000000</td>\n",
       "      <td>0.000000</td>\n",
       "      <td>39.000000</td>\n",
       "      <td>37.000000</td>\n",
       "      <td>39.000000</td>\n",
       "      <td>36.000000</td>\n",
       "      <td>39.000000</td>\n",
       "      <td>36.000000</td>\n",
       "    </tr>\n",
       "    <tr>\n",
       "      <th>50%</th>\n",
       "      <td>24.000000</td>\n",
       "      <td>26.000000</td>\n",
       "      <td>173.000000</td>\n",
       "      <td>173.000000</td>\n",
       "      <td>178.000000</td>\n",
       "      <td>178.000000</td>\n",
       "      <td>140.000000</td>\n",
       "      <td>140.000000</td>\n",
       "      <td>14.000000</td>\n",
       "      <td>8.000000</td>\n",
       "      <td>...</td>\n",
       "      <td>1.000000</td>\n",
       "      <td>1.000000</td>\n",
       "      <td>6.000000</td>\n",
       "      <td>3.000000</td>\n",
       "      <td>59.000000</td>\n",
       "      <td>54.000000</td>\n",
       "      <td>58.000000</td>\n",
       "      <td>54.000000</td>\n",
       "      <td>58.000000</td>\n",
       "      <td>54.000000</td>\n",
       "    </tr>\n",
       "    <tr>\n",
       "      <th>75%</th>\n",
       "      <td>27.000000</td>\n",
       "      <td>30.000000</td>\n",
       "      <td>178.000000</td>\n",
       "      <td>179.000000</td>\n",
       "      <td>185.000000</td>\n",
       "      <td>185.000000</td>\n",
       "      <td>160.000000</td>\n",
       "      <td>160.000000</td>\n",
       "      <td>31.000000</td>\n",
       "      <td>21.000000</td>\n",
       "      <td>...</td>\n",
       "      <td>3.000000</td>\n",
       "      <td>3.000000</td>\n",
       "      <td>14.000000</td>\n",
       "      <td>9.000000</td>\n",
       "      <td>80.000000</td>\n",
       "      <td>79.000000</td>\n",
       "      <td>80.000000</td>\n",
       "      <td>75.000000</td>\n",
       "      <td>80.000000</td>\n",
       "      <td>78.000000</td>\n",
       "    </tr>\n",
       "    <tr>\n",
       "      <th>max</th>\n",
       "      <td>1818.000000</td>\n",
       "      <td>2016.000000</td>\n",
       "      <td>255.000000</td>\n",
       "      <td>255.000000</td>\n",
       "      <td>456.000000</td>\n",
       "      <td>456.000000</td>\n",
       "      <td>363.000000</td>\n",
       "      <td>450.000000</td>\n",
       "      <td>332.000000</td>\n",
       "      <td>251.000000</td>\n",
       "      <td>...</td>\n",
       "      <td>77.000000</td>\n",
       "      <td>76.000000</td>\n",
       "      <td>131.000000</td>\n",
       "      <td>128.000000</td>\n",
       "      <td>540.000000</td>\n",
       "      <td>291.000000</td>\n",
       "      <td>299.000000</td>\n",
       "      <td>294.000000</td>\n",
       "      <td>300.000000</td>\n",
       "      <td>295.000000</td>\n",
       "    </tr>\n",
       "  </tbody>\n",
       "</table>\n",
       "<p>8 rows × 22 columns</p>\n",
       "</div>"
      ],
      "text/plain": [
       "              edad_a         edad_b       altura_a       altura_b  \\\n",
       "count  352888.000000  257935.000000  249246.000000  134640.000000   \n",
       "mean       24.416041      26.583345     172.786657     172.882657   \n",
       "std         6.523590      11.823224       9.130127       9.430631   \n",
       "min       -74.000000     -74.000000       2.000000      15.000000   \n",
       "25%        21.000000      23.000000     166.000000     167.000000   \n",
       "50%        24.000000      26.000000     173.000000     173.000000   \n",
       "75%        27.000000      30.000000     178.000000     179.000000   \n",
       "max      1818.000000    2016.000000     255.000000     255.000000   \n",
       "\n",
       "       alcance_mano_a  alcance_mano_b         peso_a         peso_b  \\\n",
       "count   112342.000000    37873.000000  135573.000000  130358.000000   \n",
       "mean       178.848605      179.001030     146.340636     147.089484   \n",
       "std         12.002404       14.867537      30.240142      30.624890   \n",
       "min          5.000000        1.000000      10.000000       2.000000   \n",
       "25%        170.000000      171.000000     125.000000     126.000000   \n",
       "50%        178.000000      178.000000     140.000000     140.000000   \n",
       "75%        185.000000      185.000000     160.000000     160.000000   \n",
       "max        456.000000      456.000000     363.000000     450.000000   \n",
       "\n",
       "           ganadas_a      ganadas_b      ...         empatadas_a  \\\n",
       "count  387427.000000  387427.000000      ...       387427.000000   \n",
       "mean       23.108438      15.159080      ...            2.826481   \n",
       "std        27.629901      19.938137      ...            5.584610   \n",
       "min         0.000000       0.000000      ...            0.000000   \n",
       "25%         5.000000       2.000000      ...            0.000000   \n",
       "50%        14.000000       8.000000      ...            1.000000   \n",
       "75%        31.000000      21.000000      ...            3.000000   \n",
       "max       332.000000     251.000000      ...           77.000000   \n",
       "\n",
       "         empatadas_b          kos_a          kos_b       juez1_a  \\\n",
       "count  387427.000000  387427.000000  387348.000000  52248.000000   \n",
       "mean        2.636375      10.338887       6.234735     62.778901   \n",
       "std         5.027003      12.392049       8.750690     30.337580   \n",
       "min         0.000000       0.000000       0.000000      0.000000   \n",
       "25%         0.000000       2.000000       0.000000     39.000000   \n",
       "50%         1.000000       6.000000       3.000000     59.000000   \n",
       "75%         3.000000      14.000000       9.000000     80.000000   \n",
       "max        76.000000     131.000000     128.000000    540.000000   \n",
       "\n",
       "            juez1_b       juez2_a       juez2_b       juez3_a       juez3_b  \n",
       "count  52060.000000  70371.000000  70032.000000  61231.000000  61023.000000  \n",
       "mean      59.509700     59.560941     56.570411     60.784276     57.995215  \n",
       "std       29.285058     31.021367     30.260935     31.910461     31.170590  \n",
       "min        1.000000      0.000000      0.000000      0.000000      1.000000  \n",
       "25%       37.000000     39.000000     36.000000     39.000000     36.000000  \n",
       "50%       54.000000     58.000000     54.000000     58.000000     54.000000  \n",
       "75%       79.000000     80.000000     75.000000     80.000000     78.000000  \n",
       "max      291.000000    299.000000    294.000000    300.000000    295.000000  \n",
       "\n",
       "[8 rows x 22 columns]"
      ]
     },
     "execution_count": 31,
     "metadata": {},
     "output_type": "execute_result"
    }
   ],
   "source": [
    "df.describe()"
   ]
  },
  {
   "cell_type": "code",
   "execution_count": 32,
   "metadata": {},
   "outputs": [
    {
     "data": {
      "text/plain": [
       "edad_a             34539\n",
       "edad_b            129492\n",
       "altura_a          138181\n",
       "altura_b          252787\n",
       "alcance_mano_a    275085\n",
       "alcance_mano_b    349554\n",
       "posicion_a        156418\n",
       "posicion_b        156418\n",
       "peso_a            251854\n",
       "peso_b            257069\n",
       "ganadas_a              0\n",
       "ganadas_b              0\n",
       "perdidas_a             0\n",
       "perdidas_a             0\n",
       "empatadas_a            0\n",
       "empatadas_b            0\n",
       "kos_a                  0\n",
       "kos_b                 79\n",
       "resultado              0\n",
       "decision               0\n",
       "juez1_a           335179\n",
       "juez1_b           335367\n",
       "juez2_a           317056\n",
       "juez2_b           317395\n",
       "juez3_a           326196\n",
       "juez3_b           326404\n",
       "dtype: int64"
      ]
     },
     "execution_count": 32,
     "metadata": {},
     "output_type": "execute_result"
    }
   ],
   "source": [
    "df.isnull().sum()"
   ]
  },
  {
   "cell_type": "markdown",
   "metadata": {},
   "source": [
    "## Que tiene la columna a clasificar?"
   ]
  },
  {
   "cell_type": "code",
   "execution_count": 33,
   "metadata": {},
   "outputs": [
    {
     "data": {
      "text/plain": [
       "0     draw\n",
       "1    win_A\n",
       "2    win_B\n",
       "3    win_A\n",
       "4    win_A\n",
       "Name: resultado, dtype: object"
      ]
     },
     "execution_count": 33,
     "metadata": {},
     "output_type": "execute_result"
    }
   ],
   "source": [
    "df.head().resultado"
   ]
  },
  {
   "cell_type": "markdown",
   "metadata": {},
   "source": [
    "## Distribución de los datos"
   ]
  },
  {
   "cell_type": "code",
   "execution_count": 34,
   "metadata": {},
   "outputs": [
    {
     "data": {
      "text/plain": [
       "<matplotlib.axes._subplots.AxesSubplot at 0x7fb3494e9828>"
      ]
     },
     "execution_count": 34,
     "metadata": {},
     "output_type": "execute_result"
    },
    {
     "data": {
      "image/png": "[encoded data removed]",
      "text/plain": [
       "<Figure size 432x288 with 1 Axes>"
      ]
     },
     "metadata": {},
     "output_type": "display_data"
    }
   ],
   "source": [
    "df.resultado.value_counts().plot.pie()"
   ]
  },
  {
   "cell_type": "code",
   "execution_count": 35,
   "metadata": {},
   "outputs": [],
   "source": [
    "df['diff_edad_a_b'] = df.edad_a - df.edad_b"
   ]
  },
  {
   "cell_type": "code",
   "execution_count": 36,
   "metadata": {},
   "outputs": [
    {
     "data": {
      "text/html": [
       "<div>\n",
       "<style scoped>\n",
       "    .dataframe tbody tr th:only-of-type {\n",
       "        vertical-align: middle;\n",
       "    }\n",
       "\n",
       "    .dataframe tbody tr th {\n",
       "        vertical-align: top;\n",
       "    }\n",
       "\n",
       "    .dataframe thead th {\n",
       "        text-align: right;\n",
       "    }\n",
       "</style>\n",
       "<table border=\"1\" class=\"dataframe\">\n",
       "  <thead>\n",
       "    <tr style=\"text-align: right;\">\n",
       "      <th></th>\n",
       "      <th>edad_a</th>\n",
       "      <th>edad_b</th>\n",
       "      <th>altura_a</th>\n",
       "      <th>altura_b</th>\n",
       "      <th>alcance_mano_a</th>\n",
       "      <th>alcance_mano_b</th>\n",
       "      <th>posicion_a</th>\n",
       "      <th>posicion_b</th>\n",
       "      <th>peso_a</th>\n",
       "      <th>peso_b</th>\n",
       "      <th>...</th>\n",
       "      <th>kos_b</th>\n",
       "      <th>resultado</th>\n",
       "      <th>decision</th>\n",
       "      <th>juez1_a</th>\n",
       "      <th>juez1_b</th>\n",
       "      <th>juez2_a</th>\n",
       "      <th>juez2_b</th>\n",
       "      <th>juez3_a</th>\n",
       "      <th>juez3_b</th>\n",
       "      <th>diff_edad_a_b</th>\n",
       "    </tr>\n",
       "  </thead>\n",
       "  <tbody>\n",
       "    <tr>\n",
       "      <th>0</th>\n",
       "      <td>35.0</td>\n",
       "      <td>27.0</td>\n",
       "      <td>179.0</td>\n",
       "      <td>175.0</td>\n",
       "      <td>178.0</td>\n",
       "      <td>179.0</td>\n",
       "      <td>orthodox</td>\n",
       "      <td>orthodox</td>\n",
       "      <td>160.0</td>\n",
       "      <td>160.0</td>\n",
       "      <td>...</td>\n",
       "      <td>34.0</td>\n",
       "      <td>draw</td>\n",
       "      <td>SD</td>\n",
       "      <td>110.0</td>\n",
       "      <td>118.0</td>\n",
       "      <td>115.0</td>\n",
       "      <td>113.0</td>\n",
       "      <td>114.0</td>\n",
       "      <td>114.0</td>\n",
       "      <td>8.0</td>\n",
       "    </tr>\n",
       "    <tr>\n",
       "      <th>1</th>\n",
       "      <td>26.0</td>\n",
       "      <td>31.0</td>\n",
       "      <td>175.0</td>\n",
       "      <td>185.0</td>\n",
       "      <td>179.0</td>\n",
       "      <td>185.0</td>\n",
       "      <td>orthodox</td>\n",
       "      <td>orthodox</td>\n",
       "      <td>164.0</td>\n",
       "      <td>164.0</td>\n",
       "      <td>...</td>\n",
       "      <td>32.0</td>\n",
       "      <td>win_A</td>\n",
       "      <td>UD</td>\n",
       "      <td>120.0</td>\n",
       "      <td>108.0</td>\n",
       "      <td>120.0</td>\n",
       "      <td>108.0</td>\n",
       "      <td>120.0</td>\n",
       "      <td>108.0</td>\n",
       "      <td>-5.0</td>\n",
       "    </tr>\n",
       "    <tr>\n",
       "      <th>2</th>\n",
       "      <td>28.0</td>\n",
       "      <td>26.0</td>\n",
       "      <td>176.0</td>\n",
       "      <td>175.0</td>\n",
       "      <td>NaN</td>\n",
       "      <td>179.0</td>\n",
       "      <td>orthodox</td>\n",
       "      <td>orthodox</td>\n",
       "      <td>154.0</td>\n",
       "      <td>154.0</td>\n",
       "      <td>...</td>\n",
       "      <td>33.0</td>\n",
       "      <td>win_B</td>\n",
       "      <td>KO</td>\n",
       "      <td>NaN</td>\n",
       "      <td>NaN</td>\n",
       "      <td>NaN</td>\n",
       "      <td>NaN</td>\n",
       "      <td>NaN</td>\n",
       "      <td>NaN</td>\n",
       "      <td>2.0</td>\n",
       "    </tr>\n",
       "    <tr>\n",
       "      <th>3</th>\n",
       "      <td>25.0</td>\n",
       "      <td>29.0</td>\n",
       "      <td>175.0</td>\n",
       "      <td>174.0</td>\n",
       "      <td>179.0</td>\n",
       "      <td>180.0</td>\n",
       "      <td>orthodox</td>\n",
       "      <td>orthodox</td>\n",
       "      <td>155.0</td>\n",
       "      <td>155.0</td>\n",
       "      <td>...</td>\n",
       "      <td>19.0</td>\n",
       "      <td>win_A</td>\n",
       "      <td>KO</td>\n",
       "      <td>47.0</td>\n",
       "      <td>48.0</td>\n",
       "      <td>49.0</td>\n",
       "      <td>46.0</td>\n",
       "      <td>48.0</td>\n",
       "      <td>47.0</td>\n",
       "      <td>-4.0</td>\n",
       "    </tr>\n",
       "    <tr>\n",
       "      <th>4</th>\n",
       "      <td>25.0</td>\n",
       "      <td>35.0</td>\n",
       "      <td>175.0</td>\n",
       "      <td>170.0</td>\n",
       "      <td>179.0</td>\n",
       "      <td>170.0</td>\n",
       "      <td>orthodox</td>\n",
       "      <td>orthodox</td>\n",
       "      <td>155.0</td>\n",
       "      <td>NaN</td>\n",
       "      <td>...</td>\n",
       "      <td>33.0</td>\n",
       "      <td>win_A</td>\n",
       "      <td>UD</td>\n",
       "      <td>118.0</td>\n",
       "      <td>110.0</td>\n",
       "      <td>119.0</td>\n",
       "      <td>109.0</td>\n",
       "      <td>117.0</td>\n",
       "      <td>111.0</td>\n",
       "      <td>-10.0</td>\n",
       "    </tr>\n",
       "  </tbody>\n",
       "</table>\n",
       "<p>5 rows × 27 columns</p>\n",
       "</div>"
      ],
      "text/plain": [
       "   edad_a  edad_b  altura_a  altura_b  alcance_mano_a  alcance_mano_b  \\\n",
       "0    35.0    27.0     179.0     175.0           178.0           179.0   \n",
       "1    26.0    31.0     175.0     185.0           179.0           185.0   \n",
       "2    28.0    26.0     176.0     175.0             NaN           179.0   \n",
       "3    25.0    29.0     175.0     174.0           179.0           180.0   \n",
       "4    25.0    35.0     175.0     170.0           179.0           170.0   \n",
       "\n",
       "  posicion_a posicion_b  peso_a  peso_b      ...       kos_b  resultado  \\\n",
       "0   orthodox   orthodox   160.0   160.0      ...        34.0       draw   \n",
       "1   orthodox   orthodox   164.0   164.0      ...        32.0      win_A   \n",
       "2   orthodox   orthodox   154.0   154.0      ...        33.0      win_B   \n",
       "3   orthodox   orthodox   155.0   155.0      ...        19.0      win_A   \n",
       "4   orthodox   orthodox   155.0     NaN      ...        33.0      win_A   \n",
       "\n",
       "   decision  juez1_a  juez1_b  juez2_a  juez2_b  juez3_a juez3_b diff_edad_a_b  \n",
       "0        SD    110.0    118.0    115.0    113.0    114.0   114.0           8.0  \n",
       "1        UD    120.0    108.0    120.0    108.0    120.0   108.0          -5.0  \n",
       "2        KO      NaN      NaN      NaN      NaN      NaN     NaN           2.0  \n",
       "3        KO     47.0     48.0     49.0     46.0     48.0    47.0          -4.0  \n",
       "4        UD    118.0    110.0    119.0    109.0    117.0   111.0         -10.0  \n",
       "\n",
       "[5 rows x 27 columns]"
      ]
     },
     "execution_count": 36,
     "metadata": {},
     "output_type": "execute_result"
    }
   ],
   "source": [
    "df.head()"
   ]
  },
  {
   "cell_type": "code",
   "execution_count": 37,
   "metadata": {},
   "outputs": [],
   "source": [
    "df[\"gano_a\"] = df.resultado == 'win_A'"
   ]
  },
  {
   "cell_type": "code",
   "execution_count": 38,
   "metadata": {},
   "outputs": [],
   "source": [
    "df[\"gano_b\"] = df.resultado == \"win_B\""
   ]
  },
  {
   "cell_type": "code",
   "execution_count": 39,
   "metadata": {},
   "outputs": [],
   "source": [
    "df[\"empataron\"] = df.resultado == \"draw\""
   ]
  },
  {
   "cell_type": "code",
   "execution_count": 40,
   "metadata": {},
   "outputs": [
    {
     "data": {
      "text/plain": [
       "False    362655\n",
       "True      24772\n",
       "Name: empataron, dtype: int64"
      ]
     },
     "execution_count": 40,
     "metadata": {},
     "output_type": "execute_result"
    }
   ],
   "source": [
    "df.empataron.value_counts()"
   ]
  },
  {
   "cell_type": "code",
   "execution_count": 41,
   "metadata": {},
   "outputs": [
    {
     "data": {
      "text/plain": [
       "True     321661\n",
       "False     65766\n",
       "Name: gano_a, dtype: int64"
      ]
     },
     "execution_count": 41,
     "metadata": {},
     "output_type": "execute_result"
    }
   ],
   "source": [
    "df.gano_a.value_counts()"
   ]
  },
  {
   "cell_type": "code",
   "execution_count": 42,
   "metadata": {},
   "outputs": [
    {
     "data": {
      "text/plain": [
       "False    346433\n",
       "True      40994\n",
       "Name: gano_b, dtype: int64"
      ]
     },
     "execution_count": 42,
     "metadata": {},
     "output_type": "execute_result"
    }
   ],
   "source": [
    "df.gano_b.value_counts()"
   ]
  },
  {
   "cell_type": "markdown",
   "metadata": {},
   "source": [
    "## Infiere la edad?"
   ]
  },
  {
   "cell_type": "code",
   "execution_count": 43,
   "metadata": {},
   "outputs": [
    {
     "data": {
      "text/plain": [
       "<matplotlib.axes._subplots.AxesSubplot at 0x7fb349493198>"
      ]
     },
     "execution_count": 43,
     "metadata": {},
     "output_type": "execute_result"
    },
    {
     "data": {
      "image/png": "[encoded data removed]",
      "text/plain": [
       "<Figure size 432x288 with 1 Axes>"
      ]
     },
     "metadata": {},
     "output_type": "display_data"
    }
   ],
   "source": [
    "df[df.diff_edad_a_b>0].diff_edad_a_b.value_counts().sort_index().plot.bar()\n"
   ]
  },
  {
   "cell_type": "code",
   "execution_count": 44,
   "metadata": {},
   "outputs": [
    {
     "data": {
      "text/plain": [
       "<matplotlib.axes._subplots.AxesSubplot at 0x7fb34942e4a8>"
      ]
     },
     "execution_count": 44,
     "metadata": {},
     "output_type": "execute_result"
    },
    {
     "data": {
      "image/png": "[encoded data removed]",
      "text/plain": [
       "<Figure size 432x288 with 1 Axes>"
      ]
     },
     "metadata": {},
     "output_type": "display_data"
    }
   ],
   "source": [
    "df[df.diff_edad_a_b>0].diff_edad_a_b.value_counts().sort_index().plot.bar()"
   ]
  },
  {
   "cell_type": "code",
   "execution_count": 45,
   "metadata": {},
   "outputs": [
    {
     "data": {
      "text/plain": [
       "<matplotlib.axes._subplots.AxesSubplot at 0x7fb3494930b8>"
      ]
     },
     "execution_count": 45,
     "metadata": {},
     "output_type": "execute_result"
    },
    {
     "data": {
      "image/png": "[encoded data removed]",
      "text/plain": [
       "<Figure size 432x288 with 1 Axes>"
      ]
     },
     "metadata": {},
     "output_type": "display_data"
    }
   ],
   "source": [
    "df[df.diff_edad_a_b<0].diff_edad_a_b.value_counts().sort_index().plot.bar()\n"
   ]
  },
  {
   "cell_type": "code",
   "execution_count": 46,
   "metadata": {},
   "outputs": [
    {
     "data": {
      "text/plain": [
       "<matplotlib.axes._subplots.AxesSubplot at 0x7fb3492c33c8>"
      ]
     },
     "execution_count": 46,
     "metadata": {},
     "output_type": "execute_result"
    },
    {
     "data": {
      "image/png": "[encoded data removed]",
      "text/plain": [
       "<Figure size 1152x432 with 3 Axes>"
      ]
     },
     "metadata": {},
     "output_type": "display_data"
    }
   ],
   "source": [
    "f,ax=plt.subplots(1,3,figsize=(16,6))\n",
    "ax[0].set_title(\"# de victorias de A cuando era Menor a B\")\n",
    "df[df.diff_edad_a_b<0].gano_a.value_counts().sort_index().plot.bar(ax=ax[0])\n",
    "ax[1].set_title('# de victorias de A cuando era Mayor a B')\n",
    "df[df.diff_edad_a_b>0].gano_a.value_counts().sort_index().plot.bar(ax=ax[1])\n",
    "ax[2].set_title('% de A>B por victoria de A')\n",
    "(df[df.diff_edad_a_b > 0].gano_a.value_counts().sort_index() / df.gano_a.value_counts().sort_index()).plot.bar(ax=ax[2])"
   ]
  },
  {
   "cell_type": "markdown",
   "metadata": {},
   "source": [
    " En el primer gráfico podemos observar que hay mayor cantidad de victorias de A cuando es menor que B\n",
    " En el segundo gráfico podemos denotar que hay más victorias de A cuando era mayor a B, lo cuál podría llegar a contradecir la afirmación anterior. Para eso, haremos un gráfico porcentual.\n",
    " En el tercer gráfico podemos ver que el porcentaje de una victoria de A cuando A>B en edad es menor que si B>A."
   ]
  },
  {
   "cell_type": "markdown",
   "metadata": {},
   "source": [
    "## ¿Qué relación tendrá la altura con respecto al resultado?"
   ]
  },
  {
   "cell_type": "code",
   "execution_count": 47,
   "metadata": {},
   "outputs": [],
   "source": [
    "df[\"diff_altura_a_b\"] = df.altura_a - df.altura_b"
   ]
  },
  {
   "cell_type": "code",
   "execution_count": 49,
   "metadata": {},
   "outputs": [
    {
     "data": {
      "text/plain": [
       "<matplotlib.axes._subplots.AxesSubplot at 0x7fb349289160>"
      ]
     },
     "execution_count": 49,
     "metadata": {},
     "output_type": "execute_result"
    },
    {
     "data": {
      "image/png": "[encoded data removed]",
      "text/plain": [
       "<Figure size 432x288 with 1 Axes>"
      ]
     },
     "metadata": {},
     "output_type": "display_data"
    }
   ],
   "source": [
    "df[df.diff_altura_a_b>0].diff_altura_a_b.value_counts().plot.bar()"
   ]
  },
  {
   "cell_type": "code",
   "execution_count": 50,
   "metadata": {},
   "outputs": [
    {
     "data": {
      "text/plain": [
       "<matplotlib.axes._subplots.AxesSubplot at 0x7fb3491922e8>"
      ]
     },
     "execution_count": 50,
     "metadata": {},
     "output_type": "execute_result"
    },
    {
     "data": {
      "image/png": "[encoded data removed]",
      "text/plain": [
       "<Figure size 432x288 with 1 Axes>"
      ]
     },
     "metadata": {},
     "output_type": "display_data"
    }
   ],
   "source": [
    "df[df.diff_altura_a_b<0].diff_altura_a_b.value_counts().plot.bar()"
   ]
  },
  {
   "cell_type": "code",
   "execution_count": 52,
   "metadata": {},
   "outputs": [
    {
     "data": {
      "text/plain": [
       "<matplotlib.axes._subplots.AxesSubplot at 0x7fb3490fe1d0>"
      ]
     },
     "execution_count": 52,
     "metadata": {},
     "output_type": "execute_result"
    },
    {
     "data": {
      "image/png": "[encoded data removed]",
      "text/plain": [
       "<Figure size 432x288 with 1 Axes>"
      ]
     },
     "metadata": {},
     "output_type": "display_data"
    }
   ],
   "source": [
    "df[df.diff_altura_a_b==0].diff_altura_a_b.value_counts().plot.bar()"
   ]
  },
  {
   "cell_type": "code",
   "execution_count": 53,
   "metadata": {},
   "outputs": [
    {
     "data": {
      "text/plain": [
       "<matplotlib.axes._subplots.AxesSubplot at 0x7fb34907a160>"
      ]
     },
     "execution_count": 53,
     "metadata": {},
     "output_type": "execute_result"
    },
    {
     "data": {
      "image/png": "[encoded data removed]",
      "text/plain": [
       "<Figure size 1152x432 with 3 Axes>"
      ]
     },
     "metadata": {},
     "output_type": "display_data"
    }
   ],
   "source": [
    "f,ax=plt.subplots(1,3,figsize=(16,6))\n",
    "ax[0].set_title(\"# de victorias de A cuando era mas bajo que B\")\n",
    "df[df.diff_altura_a_b<0].gano_a.value_counts().sort_index().plot.bar(ax=ax[0])\n",
    "ax[1].set_title('# de victorias de A cuando era mas alto que B')\n",
    "df[df.diff_altura_a_b>0].gano_a.value_counts().sort_index().plot.bar(ax=ax[1])\n",
    "ax[2].set_title('% de A mas alto que B por victoria de A')\n",
    "(df[df.diff_altura_a_b > 0].gano_a.value_counts().sort_index() / df.gano_a.value_counts().sort_index()).plot.bar(ax=ax[2])"
   ]
  },
  {
   "cell_type": "markdown",
   "metadata": {},
   "source": [
    "Aquí podemos denotar claramente que la altura no va a inferir en el resultado"
   ]
  },
  {
   "cell_type": "markdown",
   "metadata": {},
   "source": [
    "## Y el alcance de la mano?"
   ]
  },
  {
   "cell_type": "code",
   "execution_count": 54,
   "metadata": {},
   "outputs": [],
   "source": [
    "df[\"diff_alcance_mano_a_b\"] = df.alcance_mano_a - df.alcance_mano_b"
   ]
  },
  {
   "cell_type": "code",
   "execution_count": 56,
   "metadata": {},
   "outputs": [
    {
     "data": {
      "text/plain": [
       "<matplotlib.axes._subplots.AxesSubplot at 0x7fb348f5cb00>"
      ]
     },
     "execution_count": 56,
     "metadata": {},
     "output_type": "execute_result"
    },
    {
     "data": {
      "image/png": "[encoded data removed]",
      "text/plain": [
       "<Figure size 432x288 with 1 Axes>"
      ]
     },
     "metadata": {},
     "output_type": "display_data"
    }
   ],
   "source": [
    "df[df.diff_altura_a_b>0].diff_altura_a_b.value_counts().plot.bar()"
   ]
  },
  {
   "cell_type": "code",
   "execution_count": 57,
   "metadata": {},
   "outputs": [
    {
     "data": {
      "text/plain": [
       "<matplotlib.axes._subplots.AxesSubplot at 0x7fb348db4208>"
      ]
     },
     "execution_count": 57,
     "metadata": {},
     "output_type": "execute_result"
    },
    {
     "data": {
      "image/png": "[encoded data removed]",
      "text/plain": [
       "<Figure size 1152x432 with 3 Axes>"
      ]
     },
     "metadata": {},
     "output_type": "display_data"
    }
   ],
   "source": [
    "f,ax=plt.subplots(1,3,figsize=(16,6))\n",
    "ax[0].set_title(\"# de victorias de A cuando era < B\")\n",
    "df[df.diff_alcance_mano_a_b<0].gano_a.value_counts().sort_index().plot.bar(ax=ax[0])\n",
    "ax[1].set_title('# de victorias de A cuando era > B')\n",
    "df[df.diff_alcance_mano_a_b>0].gano_a.value_counts().sort_index().plot.bar(ax=ax[1])\n",
    "ax[2].set_title('% de A > B por victoria de A')\n",
    "(df[df.diff_alcance_mano_a_b > 0].gano_a.value_counts().sort_index() / df.gano_a.value_counts().sort_index()).plot.bar(ax=ax[2])"
   ]
  },
  {
   "cell_type": "code",
   "execution_count": 63,
   "metadata": {},
   "outputs": [
    {
     "data": {
      "text/plain": [
       "True     0.022772\n",
       "False    0.030304\n",
       "Name: gano_a, dtype: float64"
      ]
     },
     "execution_count": 63,
     "metadata": {},
     "output_type": "execute_result"
    }
   ],
   "source": [
    "df[df.diff_alcance_mano_a_b<0].gano_a.value_counts() / df.gano_a.value_counts()"
   ]
  },
  {
   "cell_type": "code",
   "execution_count": null,
   "metadata": {},
   "outputs": [],
   "source": []
  },
  {
   "cell_type": "code",
   "execution_count": 7,
   "metadata": {},
   "outputs": [],
   "source": [
    "df[\"gano\"] = df.resultado == 'win_A'"
   ]
  },
  {
   "cell_type": "code",
   "execution_count": 12,
   "metadata": {},
   "outputs": [
    {
     "data": {
      "text/plain": [
       "draw    24772\n",
       "Name: resultado, dtype: int64"
      ]
     },
     "execution_count": 12,
     "metadata": {},
     "output_type": "execute_result"
    }
   ],
   "source": [
    "df[df.resultado == 'draw'].resultado.value_counts()"
   ]
  },
  {
   "cell_type": "code",
   "execution_count": null,
   "metadata": {},
   "outputs": [],
   "source": []
  }
 ],
 "metadata": {
  "kernelspec": {
   "display_name": "Python 3",
   "language": "python",
   "name": "python3"
  },
  "language_info": {
   "codemirror_mode": {
    "name": "ipython",
    "version": 3
   },
   "file_extension": ".py",
   "mimetype": "text/x-python",
   "name": "python",
   "nbconvert_exporter": "python",
   "pygments_lexer": "ipython3",
   "version": "3.5.2"
  }
 },
 "nbformat": 4,
 "nbformat_minor": 2
}
