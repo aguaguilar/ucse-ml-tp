{
 "cells": [
  {
   "cell_type": "markdown",
   "metadata": {},
   "source": [
    "Variables de entrada\n",
    "\n",
    "edad_a: Representa la edad del boxeador A. Se eliminaron todas las filas que tenian este campo en nulo.\n",
    "edad_b: Representa la edad del boxeador B. Se eliminaron todas las filas que tenian este campo en nulo.\n",
    "altura_a: Representa la altura del boxeador A. Se eliminaron todas las filas que tenian este campo en nulo.\n",
    "altura_b: Representa la altura del boxeador B. Se eliminaron todas las filas que tenian este campo en nulo.\n",
    "ganadas_a: Representa la cantidad de victorias históricas del boxeador A.\n",
    "ganadas_b: Representa la cantidad de victorias históricas del boxeador B.\n",
    "perdidas_a: Representa la cantidad de derrotas históricas del boxeador A.\n",
    "perdidas_b: Representa la cantidad de derrotas históricas del boxeador B.\n",
    "kos_a: Representa la cantidad de knock outs realizados por el boxeador A.\n",
    "kos_b: Representa la cantidad de knock outs realizados por el boxeador B.\n",
    "posicion_a: Representa si el boxeador A es zurdo o derecho.\n",
    "posicion_b: Representa si el boxeador B es zurdo o derecho.\n",
    "    \n",
    "\n",
    "Variables de salida\n",
    "\n",
    "gano: Valores True o False. Representa si el boxeador gano o perdió la pelea.\n",
    "\n",
    "    \n",
    "Variables no utilizadas\n",
    "decision:\n",
    "juez1_a:\n",
    "juez1_b:\n",
    "juez2_a:\n",
    "juez2_b:\n",
    "juez3_a:\n",
    "juez3_b:\n",
    "alcance_mano_a:\n",
    "alcance_mano_b:\n",
    "empatadas_a: Representa la cantidad de empates históricos del boxeador A.\n",
    "empatadas_b: Representa la cantidad de empates históricos del boxeador B.\n",
    "peso_a: Representa el peso del boxeador A.\n",
    "peso_b: Representa el peso del boxeador B.    "
   ]
  },
  {
   "cell_type": "code",
   "execution_count": 2,
   "metadata": {},
   "outputs": [],
   "source": [
    "import pandas as pd\n",
    "import numpy as np\n",
    "%matplotlib inline\n",
    "import matplotlib.pyplot as plt\n",
    "from utils import clean_dataframe"
   ]
  },
  {
   "cell_type": "code",
   "execution_count": 3,
   "metadata": {
    "scrolled": true
   },
   "outputs": [],
   "source": [
    "df = pd.read_csv(\"bouts_out_new.csv\")"
   ]
  },
  {
   "cell_type": "code",
   "execution_count": 4,
   "metadata": {},
   "outputs": [],
   "source": [
    "df = clean_dataframe(df)"
   ]
  },
  {
   "cell_type": "code",
   "execution_count": 12,
   "metadata": {},
   "outputs": [
    {
     "data": {
      "text/html": [
       "<div>\n",
       "<style scoped>\n",
       "    .dataframe tbody tr th:only-of-type {\n",
       "        vertical-align: middle;\n",
       "    }\n",
       "\n",
       "    .dataframe tbody tr th {\n",
       "        vertical-align: top;\n",
       "    }\n",
       "\n",
       "    .dataframe thead th {\n",
       "        text-align: right;\n",
       "    }\n",
       "</style>\n",
       "<table border=\"1\" class=\"dataframe\">\n",
       "  <thead>\n",
       "    <tr style=\"text-align: right;\">\n",
       "      <th></th>\n",
       "      <th>edad_a</th>\n",
       "      <th>edad_b</th>\n",
       "      <th>altura_a</th>\n",
       "      <th>altura_b</th>\n",
       "      <th>posicion_a</th>\n",
       "      <th>posicion_b</th>\n",
       "      <th>ganadas_a</th>\n",
       "      <th>ganadas_b</th>\n",
       "      <th>perdidas_a</th>\n",
       "      <th>perdidas_b</th>\n",
       "      <th>empatadas_a</th>\n",
       "      <th>empatadas_b</th>\n",
       "      <th>kos_a</th>\n",
       "      <th>kos_b</th>\n",
       "      <th>resultado</th>\n",
       "      <th>gano</th>\n",
       "    </tr>\n",
       "  </thead>\n",
       "  <tbody>\n",
       "    <tr>\n",
       "      <th>0</th>\n",
       "      <td>35.0</td>\n",
       "      <td>27.0</td>\n",
       "      <td>179.0</td>\n",
       "      <td>175.0</td>\n",
       "      <td>orthodox</td>\n",
       "      <td>orthodox</td>\n",
       "      <td>37</td>\n",
       "      <td>49</td>\n",
       "      <td>0</td>\n",
       "      <td>1</td>\n",
       "      <td>0</td>\n",
       "      <td>1</td>\n",
       "      <td>33</td>\n",
       "      <td>34.0</td>\n",
       "      <td>draw</td>\n",
       "      <td>False</td>\n",
       "    </tr>\n",
       "    <tr>\n",
       "      <th>1</th>\n",
       "      <td>26.0</td>\n",
       "      <td>31.0</td>\n",
       "      <td>175.0</td>\n",
       "      <td>185.0</td>\n",
       "      <td>orthodox</td>\n",
       "      <td>orthodox</td>\n",
       "      <td>48</td>\n",
       "      <td>50</td>\n",
       "      <td>1</td>\n",
       "      <td>2</td>\n",
       "      <td>1</td>\n",
       "      <td>1</td>\n",
       "      <td>34</td>\n",
       "      <td>32.0</td>\n",
       "      <td>win_A</td>\n",
       "      <td>True</td>\n",
       "    </tr>\n",
       "    <tr>\n",
       "      <th>2</th>\n",
       "      <td>28.0</td>\n",
       "      <td>26.0</td>\n",
       "      <td>176.0</td>\n",
       "      <td>175.0</td>\n",
       "      <td>orthodox</td>\n",
       "      <td>orthodox</td>\n",
       "      <td>23</td>\n",
       "      <td>47</td>\n",
       "      <td>0</td>\n",
       "      <td>1</td>\n",
       "      <td>1</td>\n",
       "      <td>1</td>\n",
       "      <td>13</td>\n",
       "      <td>33.0</td>\n",
       "      <td>win_B</td>\n",
       "      <td>False</td>\n",
       "    </tr>\n",
       "    <tr>\n",
       "      <th>3</th>\n",
       "      <td>25.0</td>\n",
       "      <td>29.0</td>\n",
       "      <td>175.0</td>\n",
       "      <td>174.0</td>\n",
       "      <td>orthodox</td>\n",
       "      <td>orthodox</td>\n",
       "      <td>46</td>\n",
       "      <td>31</td>\n",
       "      <td>1</td>\n",
       "      <td>3</td>\n",
       "      <td>1</td>\n",
       "      <td>0</td>\n",
       "      <td>32</td>\n",
       "      <td>19.0</td>\n",
       "      <td>win_A</td>\n",
       "      <td>True</td>\n",
       "    </tr>\n",
       "    <tr>\n",
       "      <th>4</th>\n",
       "      <td>25.0</td>\n",
       "      <td>35.0</td>\n",
       "      <td>175.0</td>\n",
       "      <td>170.0</td>\n",
       "      <td>orthodox</td>\n",
       "      <td>orthodox</td>\n",
       "      <td>45</td>\n",
       "      <td>40</td>\n",
       "      <td>1</td>\n",
       "      <td>4</td>\n",
       "      <td>1</td>\n",
       "      <td>0</td>\n",
       "      <td>32</td>\n",
       "      <td>33.0</td>\n",
       "      <td>win_A</td>\n",
       "      <td>True</td>\n",
       "    </tr>\n",
       "  </tbody>\n",
       "</table>\n",
       "</div>"
      ],
      "text/plain": [
       "   edad_a  edad_b  altura_a  altura_b posicion_a posicion_b  ganadas_a  \\\n",
       "0    35.0    27.0     179.0     175.0   orthodox   orthodox         37   \n",
       "1    26.0    31.0     175.0     185.0   orthodox   orthodox         48   \n",
       "2    28.0    26.0     176.0     175.0   orthodox   orthodox         23   \n",
       "3    25.0    29.0     175.0     174.0   orthodox   orthodox         46   \n",
       "4    25.0    35.0     175.0     170.0   orthodox   orthodox         45   \n",
       "\n",
       "   ganadas_b  perdidas_a  perdidas_b  empatadas_a  empatadas_b  kos_a  kos_b  \\\n",
       "0         49           0           1            0            1     33   34.0   \n",
       "1         50           1           2            1            1     34   32.0   \n",
       "2         47           0           1            1            1     13   33.0   \n",
       "3         31           1           3            1            0     32   19.0   \n",
       "4         40           1           4            1            0     32   33.0   \n",
       "\n",
       "  resultado   gano  \n",
       "0      draw  False  \n",
       "1     win_A   True  \n",
       "2     win_B  False  \n",
       "3     win_A   True  \n",
       "4     win_A   True  "
      ]
     },
     "execution_count": 12,
     "metadata": {},
     "output_type": "execute_result"
    }
   ],
   "source": [
    "df.head()"
   ]
  },
  {
   "cell_type": "code",
   "execution_count": 21,
   "metadata": {},
   "outputs": [
    {
     "data": {
      "text/plain": [
       "<matplotlib.axes._subplots.AxesSubplot at 0x7fc2ff772fd0>"
      ]
     },
     "execution_count": 21,
     "metadata": {},
     "output_type": "execute_result"
    },
    {
     "data": {
      "image/png": "[encoded data removed]",
      "text/plain": [
       "<Figure size 576x576 with 1 Axes>"
      ]
     },
     "metadata": {},
     "output_type": "display_data"
    }
   ],
   "source": [
    "df.gano.value_counts().plot.pie(autopct='%1.0f%%', figsize=(8,8))"
   ]
  },
  {
   "cell_type": "markdown",
   "metadata": {},
   "source": [
    "Los datos se encuentran desbalanceados, ya que el 81% de los mismos corresponde a una victoria por parte del boxeador A, y solo el 19% de los datos corresponden a victoria del boxeador B.\n",
    "\n",
    "Como consecuencia, el modelo tendrá dificultades a la hora de predecir una derrota."
   ]
  },
  {
   "cell_type": "code",
   "execution_count": 9,
   "metadata": {},
   "outputs": [],
   "source": [
    "df['diff_ganadas_a_b'] = df.ganadas_a - df.ganadas_b"
   ]
  },
  {
   "cell_type": "code",
   "execution_count": 11,
   "metadata": {
    "scrolled": false
   },
   "outputs": [
    {
     "data": {
      "text/plain": [
       "<matplotlib.axes._subplots.AxesSubplot at 0x7fc288042208>"
      ]
     },
     "execution_count": 11,
     "metadata": {},
     "output_type": "execute_result"
    },
    {
     "data": {
      "image/png": "[encoded data removed]",
      "text/plain": [
       "<Figure size 1152x432 with 2 Axes>"
      ]
     },
     "metadata": {},
     "output_type": "display_data"
    }
   ],
   "source": [
    "f,ax=plt.subplots(1,2,figsize=(16,6))\n",
    "ax[0].set_title('# Victorias cuando el boxeador tiene mayor cantidad de victorias historicas')\n",
    "df[df.diff_ganadas_a_b > 0].gano.value_counts().sort_index().plot.bar(ax=ax[0])\n",
    "ax[1].set_title('% victorias cuando el boxeador tiene mas victorias historicas')\n",
    "df[df.diff_ganadas_a_b > 0].gano.value_counts(normalize = True).sort_index().plot.bar(ax=ax[1])"
   ]
  },
  {
   "cell_type": "markdown",
   "metadata": {},
   "source": [
    "Se puede observar que cuando un boxeador tiene mayor cantidad de victorias históricas, el 80% de las veces gana la pelea."
   ]
  },
  {
   "cell_type": "code",
   "execution_count": 14,
   "metadata": {},
   "outputs": [],
   "source": [
    "df['diff_perdidas_a_b'] = df.perdidas_a - df.perdidas_b"
   ]
  },
  {
   "cell_type": "code",
   "execution_count": 15,
   "metadata": {},
   "outputs": [
    {
     "data": {
      "text/plain": [
       "<matplotlib.axes._subplots.AxesSubplot at 0x7fc287f16cc0>"
      ]
     },
     "execution_count": 15,
     "metadata": {},
     "output_type": "execute_result"
    },
    {
     "data": {
      "image/png": "[encoded data removed]",
      "text/plain": [
       "<Figure size 1152x432 with 2 Axes>"
      ]
     },
     "metadata": {},
     "output_type": "display_data"
    }
   ],
   "source": [
    "f,ax=plt.subplots(1,2,figsize=(16,6))\n",
    "ax[0].set_title('# Victorias cuando el boxeador tiene mayor cantidad de derrotas historicas')\n",
    "df[df.diff_perdidas_a_b > 0].gano.value_counts().sort_index().plot.bar(ax=ax[0])\n",
    "ax[1].set_title('% victorias cuando el boxeador tiene mas derrotas historicas')\n",
    "df[df.diff_perdidas_a_b > 0].gano.value_counts(normalize = True).sort_index().plot.bar(ax=ax[1])"
   ]
  },
  {
   "cell_type": "markdown",
   "metadata": {},
   "source": [
    "Se puede observar que cuando un boxeador tiene mayor cantidad de derrotas históricas, el 67% de las veces gana la pelea."
   ]
  },
  {
   "cell_type": "code",
   "execution_count": 16,
   "metadata": {},
   "outputs": [],
   "source": [
    "df['diff_empatadas_a_b'] = df.empatadas_a - df.empatadas_b"
   ]
  },
  {
   "cell_type": "code",
   "execution_count": 17,
   "metadata": {
    "scrolled": true
   },
   "outputs": [
    {
     "data": {
      "text/plain": [
       "<matplotlib.axes._subplots.AxesSubplot at 0x7fc287e52d30>"
      ]
     },
     "execution_count": 17,
     "metadata": {},
     "output_type": "execute_result"
    },
    {
     "data": {
      "image/png": "[encoded data removed]",
      "text/plain": [
       "<Figure size 1152x432 with 2 Axes>"
      ]
     },
     "metadata": {},
     "output_type": "display_data"
    }
   ],
   "source": [
    "f,ax=plt.subplots(1,2,figsize=(16,6))\n",
    "ax[0].set_title('# Victorias cuando el boxeador tiene mayor cantidad de empates historicos')\n",
    "df[df.diff_empatadas_a_b > 0].gano.value_counts().sort_index().plot.bar(ax=ax[0])\n",
    "ax[1].set_title('% victorias cuando el boxeador tiene mas empates historicos')\n",
    "df[df.diff_empatadas_a_b > 0].gano.value_counts(normalize = True).sort_index().plot.bar(ax=ax[1])"
   ]
  },
  {
   "cell_type": "markdown",
   "metadata": {},
   "source": [
    "Se puede observar que cuando un boxeador tiene mayor cantidad de empates históricos, el 71% de las veces gana la pelea."
   ]
  }
 ],
 "metadata": {
  "kernelspec": {
   "display_name": "Python 3",
   "language": "python",
   "name": "python3"
  },
  "language_info": {
   "codemirror_mode": {
    "name": "ipython",
    "version": 3
   },
   "file_extension": ".py",
   "mimetype": "text/x-python",
   "name": "python",
   "nbconvert_exporter": "python",
   "pygments_lexer": "ipython3",
   "version": "3.6.5"
  }
 },
 "nbformat": 4,
 "nbformat_minor": 2
}
