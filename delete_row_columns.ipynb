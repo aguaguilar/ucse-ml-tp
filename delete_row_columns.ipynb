{
 "cells": [
  {
   "cell_type": "code",
   "execution_count": null,
   "metadata": {},
   "outputs": [],
   "source": [
    "import pandas as pd\n",
    "import numpy as np\n",
    "%matplotlib inline\n",
    "import matplotlib.pyplot as plt\n"
   ]
  },
  {
   "cell_type": "code",
   "execution_count": null,
   "metadata": {},
   "outputs": [],
   "source": [
    "df = pd.read_csv(\"bouts_out_new.csv\")"
   ]
  },
  {
   "cell_type": "code",
   "execution_count": null,
   "metadata": {},
   "outputs": [],
   "source": [
    "rename_columns = {\n",
    "    'age_A': 'edad_a', 'age_B': 'edad_b', 'height_A': 'altura_a', \n",
    "    'height_B': 'altura_b', 'reach_A': 'alcance_mano_a',\n",
    "    'reach_B': 'alcance_mano_b', 'stance_A': 'posicion_a', 'stance_B': 'posicion_b',\n",
    "    'weight_A': 'peso_a', 'weight_B': 'peso_b', 'won_A': 'ganadas_a', 'won_B': 'ganadas_b',\n",
    "       'lost_A': 'perdidas_a', 'lost_B': 'perdidas_b', 'drawn_A': 'empatadas_a', 'drawn_B':'empatadas_b',\n",
    "    'kos_A': 'kos_a', 'kos_B': 'kos_b', 'result': 'resultado', 'decision': 'decision',\n",
    "    'judge1_A': 'juez1_a', 'judge1_B': 'juez1_b', 'judge2_A': 'juez2_a', 'judge2_B': 'juez2_b', \n",
    "    'judge3_A': 'juez3_a', 'judge3_B': 'juez3_b'\n",
    "}\n",
    "df.rename(columns=rename_columns, inplace=True)"
   ]
  },
  {
   "cell_type": "code",
   "execution_count": null,
   "metadata": {},
   "outputs": [],
   "source": [
    "df.shape"
   ]
  },
  {
   "cell_type": "markdown",
   "metadata": {},
   "source": [
    "## Nulos en edad"
   ]
  },
  {
   "cell_type": "markdown",
   "metadata": {},
   "source": [
    "Vamos a eliminar todas las columnas que tengan edad nula. Creemos que no es buena opcion colocar edades random."
   ]
  },
  {
   "cell_type": "code",
   "execution_count": null,
   "metadata": {},
   "outputs": [],
   "source": [
    "df = df.drop(df[(df['edad_a'].isnull()) | (df['edad_b'].isnull())].index)"
   ]
  },
  {
   "cell_type": "code",
   "execution_count": null,
   "metadata": {},
   "outputs": [],
   "source": [
    "df.shape"
   ]
  },
  {
   "cell_type": "markdown",
   "metadata": {},
   "source": [
    "## Valores nulos en altura"
   ]
  },
  {
   "cell_type": "markdown",
   "metadata": {},
   "source": [
    "Creemos que no es inferible a partir del resto de las variables la altura. La edad no nos dice nada al respecto ni tampoco el peso"
   ]
  },
  {
   "cell_type": "code",
   "execution_count": null,
   "metadata": {},
   "outputs": [],
   "source": [
    "df = df.drop(df[(df['altura_a'].isnull()) | (df['altura_b'].isnull())].index)"
   ]
  },
  {
   "cell_type": "markdown",
   "metadata": {},
   "source": [
    "## Alcance de mano"
   ]
  },
  {
   "cell_type": "markdown",
   "metadata": {},
   "source": [
    "Entendemos que Anatómicamente la distanca de una mano a la otra, es igual a la altura. Para evitar darle datos redundantes a nuestro modelo, vamos a eliminarla."
   ]
  },
  {
   "cell_type": "markdown",
   "metadata": {},
   "source": [
    "<img src=\"img/vitruvian-man-black-silhouette.svg\" width=\"350px\">"
   ]
  },
  {
   "cell_type": "code",
   "execution_count": null,
   "metadata": {},
   "outputs": [],
   "source": [
    "df = df.drop([\"alcance_mano_a\", \"alcance_mano_b\"], axis=1)"
   ]
  },
  {
   "cell_type": "markdown",
   "metadata": {},
   "source": [
    "## Columnas que consideramos innecesarias"
   ]
  },
  {
   "cell_type": "markdown",
   "metadata": {},
   "source": [
    "Consideramos que las columnas que hacen referencia a la decision que toma el jurado no van a definir si el boxeador evaluado gana o no "
   ]
  },
  {
   "cell_type": "code",
   "execution_count": null,
   "metadata": {},
   "outputs": [],
   "source": [
    "df = df.drop([\"decision\", \"juez1_a\", \"juez1_b\", \"juez2_a\", \"juez2_b\", \"juez3_a\", \"juez3_b\"], axis=1)"
   ]
  },
  {
   "cell_type": "markdown",
   "metadata": {},
   "source": [
    "## Definimos la variable a predecir"
   ]
  },
  {
   "cell_type": "code",
   "execution_count": null,
   "metadata": {},
   "outputs": [],
   "source": [
    "df[\"gano\"] = df.resultado == 'win_A'"
   ]
  },
  {
   "cell_type": "code",
   "execution_count": null,
   "metadata": {},
   "outputs": [],
   "source": [
    "df.gano.value_counts()"
   ]
  },
  {
   "cell_type": "markdown",
   "metadata": {},
   "source": [
    "## Peso?"
   ]
  },
  {
   "cell_type": "markdown",
   "metadata": {},
   "source": [
    "Mirando los datos notamos que los combates se realizan solamente con personas del mismo pesaje. Por tanto, podemos decir que no va a ser necesario el peso."
   ]
  },
  {
   "cell_type": "code",
   "execution_count": null,
   "metadata": {},
   "outputs": [],
   "source": [
    "ax = df[df.gano==1].plot.scatter(x='peso_a', y='peso_b', color='DarkBlue', label='Gano',figsize=(16,16));\n",
    "df[df.gano==0].plot.scatter(x='peso_a', y='peso_b', color='DarkGreen', label='No gano', ax=ax,  figsize=(16,16));"
   ]
  },
  {
   "cell_type": "code",
   "execution_count": null,
   "metadata": {},
   "outputs": [],
   "source": [
    "df = df.drop([\"peso_a\", \"peso_b\"], axis=1)"
   ]
  },
  {
   "cell_type": "code",
   "execution_count": null,
   "metadata": {},
   "outputs": [],
   "source": [
    "df.shape"
   ]
  },
  {
   "cell_type": "markdown",
   "metadata": {},
   "source": [
    "## Ganados?"
   ]
  },
  {
   "cell_type": "code",
   "execution_count": null,
   "metadata": {},
   "outputs": [],
   "source": [
    "df[\"diff_ganadas_a_b\"] = df.ganadas_a - df.ganadas_b"
   ]
  },
  {
   "cell_type": "code",
   "execution_count": null,
   "metadata": {},
   "outputs": [],
   "source": [
    "ax = df[df.gano==1].plot.scatter(x='ganadas_a', y='ganadas_b', color='DarkBlue', label='Gano', figsize=(16,16));\n",
    "df[df.gano==0].plot.scatter(x='ganadas_a', y='ganadas_b', color='DarkGreen', label='No gano', ax=ax, figsize=(16,16));"
   ]
  },
  {
   "cell_type": "code",
   "execution_count": null,
   "metadata": {},
   "outputs": [],
   "source": [
    "df[\"diff_ganadas_a_b\"] = df.ganadas_a - df.ganadas_b"
   ]
  },
  {
   "cell_type": "code",
   "execution_count": null,
   "metadata": {},
   "outputs": [],
   "source": [
    "f,ax=plt.subplots(1,3,figsize=(16,6))\n",
    "ax[0].set_title('# de victorias cuando A>B')\n",
    "df[df.diff_ganadas_a_b>0].gano.value_counts().plot.bar(ax=ax[0])\n",
    "ax[1].set_title('# de victorias cuando A<B')\n",
    "df[df.diff_ganadas_a_b<0].gano.value_counts().plot.bar(ax=ax[1])\n",
    "ax[2].set_title('% de victorias cuando A>B')\n",
    "(df[df.diff_ganadas_a_b > 0].gano.value_counts().sort_index() / df.gano.value_counts().sort_index()).plot.bar(ax=ax[2])"
   ]
  },
  {
   "cell_type": "code",
   "execution_count": null,
   "metadata": {},
   "outputs": [],
   "source": []
  },
  {
   "cell_type": "code",
   "execution_count": null,
   "metadata": {},
   "outputs": [],
   "source": []
  }
 ],
 "metadata": {
  "kernelspec": {
   "display_name": "Python 3",
   "language": "python",
   "name": "python3"
  },
  "language_info": {
   "codemirror_mode": {
    "name": "ipython",
    "version": 3
   },
   "file_extension": ".py",
   "mimetype": "text/x-python",
   "name": "python",
   "nbconvert_exporter": "python",
   "pygments_lexer": "ipython3",
   "version": "3.5.2"
  }
 },
 "nbformat": 4,
 "nbformat_minor": 2
}
