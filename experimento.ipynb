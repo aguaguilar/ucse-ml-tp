{
 "cells": [
  {
   "cell_type": "markdown",
   "metadata": {},
   "source": [
    "# Descripción de las columnas"
   ]
  },
  {
   "cell_type": "markdown",
   "metadata": {},
   "source": []
  },
  {
   "cell_type": "code",
   "execution_count": null,
   "metadata": {},
   "outputs": [],
   "source": [
    "import pandas as pd\n",
    "import numpy as np\n",
    "%matplotlib inline\n",
    "import matplotlib.pyplot as plt"
   ]
  },
  {
   "cell_type": "code",
   "execution_count": null,
   "metadata": {},
   "outputs": [],
   "source": [
    "df = pd.read_csv(\"bouts_out_new.csv\")"
   ]
  },
  {
   "cell_type": "markdown",
   "metadata": {},
   "source": [
    "## Descripción de los datos"
   ]
  },
  {
   "cell_type": "code",
   "execution_count": null,
   "metadata": {},
   "outputs": [],
   "source": [
    "df.shape"
   ]
  },
  {
   "cell_type": "code",
   "execution_count": null,
   "metadata": {},
   "outputs": [],
   "source": [
    "df.head()"
   ]
  },
  {
   "cell_type": "code",
   "execution_count": null,
   "metadata": {},
   "outputs": [],
   "source": [
    "df.columns"
   ]
  },
  {
   "cell_type": "code",
   "execution_count": null,
   "metadata": {},
   "outputs": [],
   "source": [
    "rename_columns = {\n",
    "    'age_A': 'edad_a', 'age_B': 'edad_b', 'height_A': 'altura_a', \n",
    "    'height_B': 'altura_b', 'reach_A': 'alcance_mano_a',\n",
    "    'reach_B': 'alcance_mano_b', 'stance_A': 'posicion_a', 'stance_B': 'posicion_b',\n",
    "    'weight_A': 'peso_a', 'weight_B': 'peso_b', 'won_A': 'ganadas_a', 'won_B': 'ganadas_b',\n",
    "       'lost_A': 'perdidas_a', 'lost_B': 'perdidas_a', 'drawn_A': 'empatadas_a', 'drawn_B':'empatadas_b',\n",
    "    'kos_A': 'kos_a', 'kos_B': 'kos_b', 'result': 'resultado', 'decision': 'decision',\n",
    "    'judge1_A': 'juez1_a', 'judge1_B': 'juez1_b', 'judge2_A': 'juez2_a', 'judge2_B': 'juez2_b', \n",
    "    'judge3_A': 'juez3_a', 'judge3_B': 'juez3_b'\n",
    "}\n",
    "df.rename(columns=rename_columns, inplace=True)"
   ]
  },
  {
   "cell_type": "code",
   "execution_count": null,
   "metadata": {},
   "outputs": [],
   "source": [
    "df.describe()"
   ]
  },
  {
   "cell_type": "code",
   "execution_count": null,
   "metadata": {},
   "outputs": [],
   "source": [
    "df.isnull().sum()"
   ]
  },
  {
   "cell_type": "markdown",
   "metadata": {},
   "source": [
    "## Que tiene la columna a clasificar?"
   ]
  },
  {
   "cell_type": "code",
   "execution_count": null,
   "metadata": {},
   "outputs": [],
   "source": [
    "df.head().resultado"
   ]
  },
  {
   "cell_type": "markdown",
   "metadata": {},
   "source": [
    "## Distribución de los datos"
   ]
  },
  {
   "cell_type": "code",
   "execution_count": null,
   "metadata": {},
   "outputs": [],
   "source": [
    "df.resultado.value_counts().plot.pie()"
   ]
  },
  {
   "cell_type": "code",
   "execution_count": null,
   "metadata": {},
   "outputs": [],
   "source": [
    "df['diff_edad_a_b'] = df.edad_a - df.edad_b"
   ]
  },
  {
   "cell_type": "code",
   "execution_count": null,
   "metadata": {},
   "outputs": [],
   "source": [
    "df.head()"
   ]
  },
  {
   "cell_type": "code",
   "execution_count": null,
   "metadata": {},
   "outputs": [],
   "source": [
    "df[\"gano_a\"] = df.resultado == 'win_A'"
   ]
  },
  {
   "cell_type": "code",
   "execution_count": null,
   "metadata": {},
   "outputs": [],
   "source": [
    "df[\"gano_b\"] = df.resultado == \"win_B\""
   ]
  },
  {
   "cell_type": "code",
   "execution_count": null,
   "metadata": {},
   "outputs": [],
   "source": [
    "df[\"empataron\"] = df.resultado == \"draw\""
   ]
  },
  {
   "cell_type": "code",
   "execution_count": null,
   "metadata": {},
   "outputs": [],
   "source": [
    "df.empataron.value_counts()"
   ]
  },
  {
   "cell_type": "code",
   "execution_count": null,
   "metadata": {},
   "outputs": [],
   "source": [
    "df.gano_a.value_counts()"
   ]
  },
  {
   "cell_type": "code",
   "execution_count": null,
   "metadata": {},
   "outputs": [],
   "source": [
    "df.gano_b.value_counts()"
   ]
  },
  {
   "cell_type": "markdown",
   "metadata": {},
   "source": [
    "## Infiere la edad?"
   ]
  },
  {
   "cell_type": "code",
   "execution_count": null,
   "metadata": {},
   "outputs": [],
   "source": [
    "df[df.diff_edad_a_b>0].diff_edad_a_b.value_counts().sort_index().plot.bar()\n"
   ]
  },
  {
   "cell_type": "code",
   "execution_count": null,
   "metadata": {},
   "outputs": [],
   "source": [
    "df[df.diff_edad_a_b>0].diff_edad_a_b.value_counts().sort_index().plot.bar()"
   ]
  },
  {
   "cell_type": "code",
   "execution_count": null,
   "metadata": {},
   "outputs": [],
   "source": [
    "df[df.diff_edad_a_b<0].diff_edad_a_b.value_counts().sort_index().plot.bar()\n"
   ]
  },
  {
   "cell_type": "code",
   "execution_count": null,
   "metadata": {},
   "outputs": [],
   "source": [
    "f,ax=plt.subplots(1,3,figsize=(16,6))\n",
    "ax[0].set_title(\"# de victorias de A cuando era Menor a B\")\n",
    "df[df.diff_edad_a_b<0].gano_a.value_counts().sort_index().plot.bar(ax=ax[0])\n",
    "ax[1].set_title('# de victorias de A cuando era Mayor a B')\n",
    "df[df.diff_edad_a_b>0].gano_a.value_counts().sort_index().plot.bar(ax=ax[1])\n",
    "ax[2].set_title('% de A>B por victoria de A')\n",
    "(df[df.diff_edad_a_b > 0].gano_a.value_counts().sort_index() / df.gano_a.value_counts().sort_index()).plot.bar(ax=ax[2])"
   ]
  },
  {
   "cell_type": "markdown",
   "metadata": {},
   "source": [
    " En el primer gráfico podemos observar que hay mayor cantidad de victorias de A cuando es menor que B\n",
    " En el segundo gráfico podemos denotar que hay más victorias de A cuando era mayor a B, lo cuál podría llegar a contradecir la afirmación anterior. Para eso, haremos un gráfico porcentual.\n",
    " En el tercer gráfico podemos ver que el porcentaje de una victoria de A cuando A>B en edad es menor que si B>A."
   ]
  },
  {
   "cell_type": "markdown",
   "metadata": {},
   "source": [
    "## ¿Qué relación tendrá la altura con respecto al resultado?"
   ]
  },
  {
   "cell_type": "code",
   "execution_count": null,
   "metadata": {},
   "outputs": [],
   "source": [
    "df[\"diff_altura_a_b\"] = df.altura_a - df.altura_b"
   ]
  },
  {
   "cell_type": "code",
   "execution_count": null,
   "metadata": {},
   "outputs": [],
   "source": [
    "df[df.diff_altura_a_b>0].diff_altura_a_b.value_counts().plot.bar()"
   ]
  },
  {
   "cell_type": "code",
   "execution_count": null,
   "metadata": {},
   "outputs": [],
   "source": [
    "df[df.diff_altura_a_b<0].diff_altura_a_b.value_counts().plot.bar()"
   ]
  },
  {
   "cell_type": "code",
   "execution_count": null,
   "metadata": {},
   "outputs": [],
   "source": [
    "df[df.diff_altura_a_b==0].diff_altura_a_b.value_counts().plot.bar()"
   ]
  },
  {
   "cell_type": "code",
   "execution_count": null,
   "metadata": {},
   "outputs": [],
   "source": [
    "f,ax=plt.subplots(1,3,figsize=(16,6))\n",
    "ax[0].set_title(\"# de victorias de A cuando era mas bajo que B\")\n",
    "df[df.diff_altura_a_b<0].gano_a.value_counts().sort_index().plot.bar(ax=ax[0])\n",
    "ax[1].set_title('# de victorias de A cuando era mas alto que B')\n",
    "df[df.diff_altura_a_b>0].gano_a.value_counts().sort_index().plot.bar(ax=ax[1])\n",
    "ax[2].set_title('% de A mas alto que B por victoria de A')\n",
    "(df[df.diff_altura_a_b > 0].gano_a.value_counts().sort_index() / df.gano_a.value_counts().sort_index()).plot.bar(ax=ax[2])"
   ]
  },
  {
   "cell_type": "markdown",
   "metadata": {},
   "source": [
    "Aquí podemos denotar claramente que la altura no va a inferir en el resultado"
   ]
  },
  {
   "cell_type": "markdown",
   "metadata": {},
   "source": [
    "## Y el alcance de la mano?"
   ]
  },
  {
   "cell_type": "code",
   "execution_count": null,
   "metadata": {},
   "outputs": [],
   "source": [
    "df[\"diff_alcance_mano_a_b\"] = df.alcance_mano_a - df.alcance_mano_b"
   ]
  },
  {
   "cell_type": "code",
   "execution_count": null,
   "metadata": {},
   "outputs": [],
   "source": [
    "df[df.diff_altura_a_b>0].diff_altura_a_b.value_counts().plot.bar()"
   ]
  },
  {
   "cell_type": "code",
   "execution_count": null,
   "metadata": {},
   "outputs": [],
   "source": [
    "f,ax=plt.subplots(1,3,figsize=(16,6))\n",
    "ax[0].set_title(\"# de victorias de A cuando era < B\")\n",
    "df[df.diff_alcance_mano_a_b<0].gano_a.value_counts().sort_index().plot.bar(ax=ax[0])\n",
    "ax[1].set_title('# de victorias de A cuando era > B')\n",
    "df[df.diff_alcance_mano_a_b>0].gano_a.value_counts().sort_index().plot.bar(ax=ax[1])\n",
    "ax[2].set_title('% de A > B por victoria de A')\n",
    "(df[df.diff_alcance_mano_a_b > 0].gano_a.value_counts().sort_index() / df.gano_a.value_counts().sort_index()).plot.bar(ax=ax[2])"
   ]
  },
  {
   "cell_type": "code",
   "execution_count": null,
   "metadata": {},
   "outputs": [],
   "source": [
    "df[df.diff_alcance_mano_a_b<0].gano_a.value_counts() / df.gano_a.value_counts()"
   ]
  },
  {
   "cell_type": "code",
   "execution_count": null,
   "metadata": {},
   "outputs": [],
   "source": []
  },
  {
   "cell_type": "code",
   "execution_count": null,
   "metadata": {},
   "outputs": [],
   "source": [
    "df[\"gano\"] = df.resultado == 'win_A'"
   ]
  },
  {
   "cell_type": "code",
   "execution_count": null,
   "metadata": {},
   "outputs": [],
   "source": [
    "df[df.resultado == 'draw'].resultado.value_counts()"
   ]
  },
  {
   "cell_type": "code",
   "execution_count": null,
   "metadata": {},
   "outputs": [],
   "source": []
  }
 ],
 "metadata": {
  "kernelspec": {
   "display_name": "Python 3",
   "language": "python",
   "name": "python3"
  },
  "language_info": {
   "codemirror_mode": {
    "name": "ipython",
    "version": 3
   },
   "file_extension": ".py",
   "mimetype": "text/x-python",
   "name": "python",
   "nbconvert_exporter": "python",
   "pygments_lexer": "ipython3",
   "version": "3.5.2"
  }
 },
 "nbformat": 4,
 "nbformat_minor": 2
}
