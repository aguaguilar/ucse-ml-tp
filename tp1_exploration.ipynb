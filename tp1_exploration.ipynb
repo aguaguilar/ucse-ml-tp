{
 "cells": [
  {
   "cell_type": "code",
   "execution_count": 1,
   "metadata": {},
   "outputs": [],
   "source": [
    "import pandas as pd\n",
    "import numpy as np\n",
    "%matplotlib inline\n",
    "import matplotlib.pyplot as plt"
   ]
  },
  {
   "cell_type": "markdown",
   "metadata": {},
   "source": [
    "## Trabajo práctico N° 1 2018: Análisis exploratorio"
   ]
  },
  {
   "cell_type": "markdown",
   "metadata": {},
   "source": [
    "#### Integrantes\n",
    "<ul>\n",
    "    <li>Aguilar, Agustín</li>\n",
    "    <li>Ferrari, Nicolás</li>\n",
    "    <li>Sosa, Emiliano</li>\n",
    "</ul>"
   ]
  },
  {
   "cell_type": "markdown",
   "metadata": {},
   "source": [
    "### Dataset seleccionado: Boxing bouts\n",
    "El dataset presenta datos pertenecientes a peleas de boxeo. Acompañado a ésta podemos encontrar el resultado de la misma.\n",
    "<img src=\"img/dos-guantes-de-boxeo.svg\" width=\"220px\">"
   ]
  },
  {
   "cell_type": "code",
   "execution_count": 2,
   "metadata": {},
   "outputs": [],
   "source": [
    "df = pd.read_csv(\"bouts_out_new.csv\")"
   ]
  },
  {
   "cell_type": "markdown",
   "metadata": {},
   "source": [
    "#### Diccionario de datos:\n",
    "<table width=\"100%\">\n",
    "  <tr>\n",
    "    <th>Nombre variable</th>\n",
    "    <th>Descripción</th>\n",
    "    <th>Valores Posibles</th>\n",
    "  </tr>\n",
    "  <tr>\n",
    "    <td>age_A y age_B</td>\n",
    "    <td>Edad del boxeador a y b</td>\n",
    "    <td>en años</td>\n",
    "  </tr>\n",
    "  <tr>\n",
    "    <td>height_A y height_B</td>\n",
    "    <td>Altura del boxeador a y b</td>\n",
    "    <td>en cm</td>\n",
    "  </tr>\n",
    "  <tr>\n",
    "    <td>reach_A y reach_b</td>\n",
    "    <td>Distancia de una mano a la otra con los brazos estirados</td>\n",
    "    <td>en cm</td>\n",
    "  </tr>\n",
    "  <tr>\n",
    "    <td>stance_A y stance_B</td>\n",
    "    <td>Postura de los boxeadores</td>\n",
    "    <td>orthodox/southpaw</td>\n",
    "  </tr>\n",
    "  <tr>\n",
    "    <td>weight_A, weight_B</td>\n",
    "    <td>Peso de los boxeadores</td>\n",
    "    <td>en libras</td>\n",
    "  </tr>\n",
    "  <tr>\n",
    "    <td>won_A, won_B</td>\n",
    "    <td>N° de victorias pasadas</td>\n",
    "    <td></td>\n",
    "  </tr>\n",
    "  <tr>\n",
    "    <td>lost_A y lost_B</td>\n",
    "    <td>N° de derrotas pasadas</td>\n",
    "    <td></td>\n",
    "  </tr>\n",
    "  <tr>\n",
    "    <td>drawn_A y drawn_B</td>\n",
    "    <td>N° de empates pasados</td>\n",
    "    <td></td>\n",
    "  </tr>\n",
    "  <tr>\n",
    "    <td>result</td>\n",
    "    <td>Resultado del combate</td>\n",
    "    <td>win_A/win_B/draw</td>\n",
    "  </tr>\n",
    "  <tr>\n",
    "    <td>decision</td>\n",
    "    <td>Tipo de decisión del jurado</td>\n",
    "    <td>SD (decisión dividida), MD (decisión de la mayoria), UD (decisión unánime), KO: (knock out), TKO (knock out tecnico), DQ (descalificado), RTD (adversario se retira)</td>\n",
    "  </tr>\n",
    "      <tr>\n",
    "    <td>judge</td>\n",
    "    <td>Puntaje de los 3 jurados</td>\n",
    "    <td>en cm</td>\n",
    "  </tr>\n",
    "</table>\n",
    "\n",
    "Más adelante daremos a conocer el diccionario de datos final para usar en nuestro modelo"
   ]
  },
  {
   "cell_type": "markdown",
   "metadata": {},
   "source": [
    "### Variable de salida\n",
    "Queremos predecir, <b>dada las diferencias entre carácteristicas de un boxeador y su adversario (diferencia de altura por ejemplo) si va a ganar o no</b>. Para ello, necesitaremos generar nuestra columna de salida, en este caso haremos referencia a que el boxeador ganó cuando A gana y que perdió cuando A no gana. Esto podría ser a la inversa ya que tenemos un dataset de \"victorias de peleas de boxeo\".\n",
    "Los valores posibles que puede tomar son 1 si gano, y 0 si no ganó."
   ]
  },
  {
   "cell_type": "code",
   "execution_count": 3,
   "metadata": {},
   "outputs": [],
   "source": [
    "rename_columns = {\n",
    "    'age_A': 'edad_a', 'age_B': 'edad_b', 'height_A': 'altura_a', \n",
    "    'height_B': 'altura_b', 'reach_A': 'alcance_mano_a',\n",
    "    'reach_B': 'alcance_mano_b', 'stance_A': 'posicion_a', 'stance_B': 'posicion_b',\n",
    "    'weight_A': 'peso_a', 'weight_B': 'peso_b', 'won_A': 'ganadas_a', 'won_B': 'ganadas_b',\n",
    "       'lost_A': 'perdidas_a', 'lost_B': 'perdidas_b', 'drawn_A': 'empatadas_a', 'drawn_B':'empatadas_b',\n",
    "    'kos_A': 'kos_a', 'kos_B': 'kos_b', 'result': 'resultado', 'decision': 'decision',\n",
    "    'judge1_A': 'juez1_a', 'judge1_B': 'juez1_b', 'judge2_A': 'juez2_a', 'judge2_B': 'juez2_b', \n",
    "    'judge3_A': 'juez3_a', 'judge3_B': 'juez3_b'\n",
    "}\n",
    "df.rename(columns=rename_columns, inplace=True)\n"
   ]
  },
  {
   "cell_type": "code",
   "execution_count": 4,
   "metadata": {},
   "outputs": [],
   "source": [
    "df[\"gano\"] = df.resultado == 'win_A'"
   ]
  },
  {
   "cell_type": "code",
   "execution_count": 5,
   "metadata": {},
   "outputs": [
    {
     "data": {
      "text/plain": [
       "<matplotlib.axes._subplots.AxesSubplot at 0x7fa65f4d0748>"
      ]
     },
     "execution_count": 5,
     "metadata": {},
     "output_type": "execute_result"
    },
    {
     "data": {
      "image/png": "[encoded data removed]",
      "text/plain": [
       "<Figure size 576x576 with 1 Axes>"
      ]
     },
     "metadata": {},
     "output_type": "display_data"
    }
   ],
   "source": [
    "df.gano.value_counts().plot.pie(autopct='%1.0f%%', figsize=(8,8))"
   ]
  },
  {
   "cell_type": "markdown",
   "metadata": {},
   "source": [
    "Los datos se encuentran desbalanceados, ya que el 81% de los mismos corresponde a una victoria por parte del boxeador A, y solo el 19% de los datos corresponden a victoria del boxeador B.\n",
    "\n",
    "Como consecuencia, el modelo tendrá dificultades a la hora de predecir una derrota."
   ]
  },
  {
   "cell_type": "markdown",
   "metadata": {},
   "source": [
    "### Valores nulos"
   ]
  },
  {
   "cell_type": "code",
   "execution_count": 6,
   "metadata": {},
   "outputs": [
    {
     "data": {
      "text/plain": [
       "edad_a             34539\n",
       "edad_b            129492\n",
       "altura_a          138181\n",
       "altura_b          252787\n",
       "alcance_mano_a    275085\n",
       "alcance_mano_b    349554\n",
       "posicion_a        156418\n",
       "posicion_b        156418\n",
       "peso_a            251854\n",
       "peso_b            257069\n",
       "ganadas_a              0\n",
       "ganadas_b              0\n",
       "perdidas_a             0\n",
       "perdidas_b             0\n",
       "empatadas_a            0\n",
       "empatadas_b            0\n",
       "kos_a                  0\n",
       "kos_b                 79\n",
       "resultado              0\n",
       "decision               0\n",
       "juez1_a           335179\n",
       "juez1_b           335367\n",
       "juez2_a           317056\n",
       "juez2_b           317395\n",
       "juez3_a           326196\n",
       "juez3_b           326404\n",
       "gano                   0\n",
       "dtype: int64"
      ]
     },
     "execution_count": 6,
     "metadata": {},
     "output_type": "execute_result"
    }
   ],
   "source": [
    "df.isnull().sum()"
   ]
  },
  {
   "cell_type": "markdown",
   "metadata": {},
   "source": [
    "### Anlizamos las variables de edad\n",
    "Trataremos de tener una visión de las edades de los boxeadores con respecto a si gano o no."
   ]
  },
  {
   "cell_type": "code",
   "execution_count": 7,
   "metadata": {},
   "outputs": [
    {
     "data": {
      "image/png": "[encoded data removed]",
      "text/plain": [
       "<Figure size 576x576 with 1 Axes>"
      ]
     },
     "metadata": {},
     "output_type": "display_data"
    }
   ],
   "source": [
    "ax = df[df.gano==1].plot.scatter(x='edad_a', y='edad_b', color='DarkBlue', label='Gano',figsize=(8,8));\n",
    "df[df.gano==0].plot.scatter(x='edad_a', y='edad_b', color='DarkGreen', label='No gano', ax=ax,  figsize=(8,8));"
   ]
  },
  {
   "cell_type": "markdown",
   "metadata": {},
   "source": [
    "El siguiente gráfico deja en evidencia la presencia de outliers, por lo tanto vamos a poceder a eliminarlos. También, como vimos anteriormente, hay muchos valores nulos en la edad. Teniendo en cuenta que con el resto de las variables es muy dificil inferir valores de edad, vamos a eliminarlos también."
   ]
  },
  {
   "cell_type": "code",
   "execution_count": 8,
   "metadata": {},
   "outputs": [],
   "source": [
    "df = df.drop(df[(df['edad_a'] >= 75) | (df['edad_b'] >= 75)].index)\n",
    "df = df.drop(df[(df['edad_a'] <= 16) | (df['edad_b'] <= 16)].index)\n",
    "\n",
    "df = df.drop(df[(df['edad_a'].isnull()) | (df['edad_b'].isnull())].index)"
   ]
  },
  {
   "cell_type": "markdown",
   "metadata": {},
   "source": [
    "### Anlizamos las variables de altura\n",
    "Trataremos de tener una visión de las alturas de los boxeadores con respecto a si gano o no."
   ]
  },
  {
   "cell_type": "code",
   "execution_count": 9,
   "metadata": {},
   "outputs": [
    {
     "data": {
      "image/png": "[encoded data removed]",
      "text/plain": [
       "<Figure size 576x576 with 1 Axes>"
      ]
     },
     "metadata": {},
     "output_type": "display_data"
    }
   ],
   "source": [
    "ax = df[df.gano==1].plot.scatter(x='altura_a', y='altura_b', color='DarkBlue', label='Gano',figsize=(8,8));\n",
    "df[df.gano==0].plot.scatter(x='altura_a', y='altura_b', color='DarkGreen', label='No gano', ax=ax,  figsize=(8,8));"
   ]
  },
  {
   "cell_type": "markdown",
   "metadata": {},
   "source": [
    "El siguiente gráfico deja en evidencia la presencia de outliers, por lo tanto vamos a poceder a eliminarlos. También, como vimos anteriormente, hay muchos valores nulos en la altura. Teniendo en cuenta que con el resto de las variables es muy dificil inferir valores de edad, vamos a eliminarlos también."
   ]
  },
  {
   "cell_type": "code",
   "execution_count": 10,
   "metadata": {},
   "outputs": [],
   "source": [
    "df = df.drop(df[(df['altura_a'] <= 100) | (df['altura_b'] <= 100)].index)\n",
    "df = df.drop(df[(df['altura_a'] >= 250) | (df['altura_b'] >= 250)].index)\n",
    "\n",
    "df = df.drop(df[(df['altura_a'].isnull()) | (df['altura_b'].isnull())].index)"
   ]
  },
  {
   "cell_type": "code",
   "execution_count": 11,
   "metadata": {},
   "outputs": [],
   "source": [
    "df[\"diff_altura_a_b\"] = df[\"altura_a\"] - df[\"altura_b\"]"
   ]
  },
  {
   "cell_type": "markdown",
   "metadata": {},
   "source": [
    "### Variables que no vamos a usar\n",
    "Algunas de las variables que no vamos a utilizar son decision, juez1_a, juez1_b, juez2_a, juez2_b, juez3_a, juez3_b. Esto se debe a que implicitamente está diciendo el resultado de la pelea. El modelo podría darse cuenta de esto y sobreentrenar."
   ]
  },
  {
   "cell_type": "code",
   "execution_count": 12,
   "metadata": {},
   "outputs": [],
   "source": [
    "df = df.drop([\"decision\", \"juez1_a\", \"juez1_b\", \"juez2_a\", \"juez2_b\", \"juez3_a\", \"juez3_b\"], axis=1)"
   ]
  },
  {
   "cell_type": "markdown",
   "metadata": {},
   "source": [
    "Además, el alcance de una mano a otra con los brazos estirados es igual o muy parecida a la altura. Esto significaría darle al modelo datos redundantes"
   ]
  },
  {
   "cell_type": "code",
   "execution_count": 13,
   "metadata": {},
   "outputs": [],
   "source": [
    "df = df.drop([\"alcance_mano_a\", \"alcance_mano_b\"], axis=1)"
   ]
  },
  {
   "cell_type": "markdown",
   "metadata": {},
   "source": [
    "Creemos que las peleas empatadas historícas no nos van a dar una idea de si el boxeador puede llegar a ganar o no."
   ]
  },
  {
   "cell_type": "code",
   "execution_count": 14,
   "metadata": {},
   "outputs": [],
   "source": [
    "df = df.drop([\"empatadas_a\", \"empatadas_b\"], axis=1)"
   ]
  },
  {
   "cell_type": "markdown",
   "metadata": {},
   "source": [
    "### Variables de entrada\n",
    "A nuestras variables de entradas <b>vamos a tener que generarlas a partir de las variables que tenemos</b> actualmente en el dataset. Esto se debe a que si le pasamos tal cual está la data al modelo, seguramente tarde demasiado en converger. Por ejemplo: actualmente tenemos la edad de A y B en columnas separas, si queremos predecir si A gano a B, vamos a tener que generar una columna que haga referencia a la 'diferencia de edad entre A y B'."
   ]
  },
  {
   "cell_type": "markdown",
   "metadata": {},
   "source": [
    "#### 1) Analizaremos la diferencia entre las edades"
   ]
  },
  {
   "cell_type": "code",
   "execution_count": 15,
   "metadata": {},
   "outputs": [],
   "source": [
    "df['diff_edad_a_b'] = df.edad_a - df.edad_b\n"
   ]
  },
  {
   "cell_type": "code",
   "execution_count": 16,
   "metadata": {},
   "outputs": [
    {
     "data": {
      "text/plain": [
       "<matplotlib.axes._subplots.AxesSubplot at 0x7fa65f47e668>"
      ]
     },
     "execution_count": 16,
     "metadata": {},
     "output_type": "execute_result"
    },
    {
     "data": {
      "image/png": "[encoded data removed]",
      "text/plain": [
       "<Figure size 1152x432 with 3 Axes>"
      ]
     },
     "metadata": {},
     "output_type": "display_data"
    }
   ],
   "source": [
    "f,ax=plt.subplots(1,3,figsize=(16,6))\n",
    "ax[0].set_title(\"# de victorias cuando era < que su adversario\")\n",
    "df[df.diff_edad_a_b<0].gano.value_counts().sort_index().plot.bar(ax=ax[0])\n",
    "ax[1].set_title('# de victorias cuando era > que su adversario')\n",
    "df[df.diff_edad_a_b>0].gano.value_counts().sort_index().plot.bar(ax=ax[1])\n",
    "ax[2].set_title('% victoria cuando es mayor al rival')\n",
    "(df[df.diff_edad_a_b > 0].gano.value_counts().sort_index() / df.gano.value_counts().sort_index()).plot.bar(ax=ax[2])"
   ]
  },
  {
   "cell_type": "markdown",
   "metadata": {},
   "source": [
    " En el primer gráfico podemos observar que hay mayor cantidad de victorias cuando el boxeador es menor a su rival.\n",
    " En el segundo gráfico podemos denotar que hay más victorias cuando el boxeador es mayor a su rival, lo cuál podría llegar a contradecir la afirmación anterior. Para eso, haremos un gráfico porcentual.\n",
    " En el tercer gráfico podemos ver que el porcentaje de victorias cuando el boxeador es más grande que su adversario en edad es menor que si que si fuera más chico. <b>Está variable, será una entrada para nuestro modelo.</b>"
   ]
  },
  {
   "cell_type": "markdown",
   "metadata": {},
   "source": [
    "#### 2) Analizaremos la diferencia entre los pesos.\n",
    "Mirando los datos, podemos generar la hipótesis de que el peso no va a inferir ya que los boxeadores siempre pelean con adversarios que tienen el mismo peso, veamos si esto es cierto:"
   ]
  },
  {
   "cell_type": "code",
   "execution_count": 17,
   "metadata": {},
   "outputs": [],
   "source": [
    "df['diff_peso_a_b'] = df.peso_a - df.peso_b"
   ]
  },
  {
   "cell_type": "code",
   "execution_count": 18,
   "metadata": {},
   "outputs": [
    {
     "data": {
      "text/plain": [
       "<matplotlib.axes._subplots.AxesSubplot at 0x7fa65f3a26a0>"
      ]
     },
     "execution_count": 18,
     "metadata": {},
     "output_type": "execute_result"
    },
    {
     "data": {
      "image/png": "[encoded data removed]",
      "text/plain": [
       "<Figure size 1152x432 with 3 Axes>"
      ]
     },
     "metadata": {},
     "output_type": "display_data"
    }
   ],
   "source": [
    "f,ax=plt.subplots(1,3,figsize=(16,6))\n",
    "ax[0].set_title(\"# de victorias cuando era < que su adversario\")\n",
    "df[df.diff_peso_a_b<0].gano.value_counts().sort_index().plot.bar(ax=ax[0])\n",
    "ax[1].set_title('# de victorias cuando era > que su adversario')\n",
    "df[df.diff_peso_a_b>0].gano.value_counts().sort_index().plot.bar(ax=ax[1])\n",
    "ax[2].set_title('% victoria cuando es > al rival')\n",
    "(df[df.diff_peso_a_b > 0].gano.value_counts().sort_index() / df.gano.value_counts().sort_index()).plot.bar(ax=ax[2])"
   ]
  },
  {
   "cell_type": "markdown",
   "metadata": {},
   "source": [
    "Tal como describimos en nuestra hipótesis, la diferencia que existe porcentualmente entra las victorias y derrotas cuando difiere el peso es apenas del 2%, lo cual no consideramos que sea significante. <b>Descartamos el peso</b>"
   ]
  },
  {
   "cell_type": "code",
   "execution_count": 19,
   "metadata": {},
   "outputs": [],
   "source": [
    "df = df.drop([\"peso_a\", \"peso_b\", \"diff_peso_a_b\"], axis=1)"
   ]
  },
  {
   "cell_type": "markdown",
   "metadata": {},
   "source": [
    "#### 3) Analizaremos los knockouts"
   ]
  },
  {
   "cell_type": "code",
   "execution_count": 20,
   "metadata": {},
   "outputs": [],
   "source": [
    "df['diff_kos_a_b'] = df.kos_a - df.kos_b"
   ]
  },
  {
   "cell_type": "code",
   "execution_count": 21,
   "metadata": {},
   "outputs": [
    {
     "data": {
      "text/plain": [
       "<matplotlib.axes._subplots.AxesSubplot at 0x7fa65bf4cc50>"
      ]
     },
     "execution_count": 21,
     "metadata": {},
     "output_type": "execute_result"
    },
    {
     "data": {
      "image/png": "[encoded data removed]",
      "text/plain": [
       "<Figure size 1152x432 with 3 Axes>"
      ]
     },
     "metadata": {},
     "output_type": "display_data"
    }
   ],
   "source": [
    "f,ax=plt.subplots(1,3,figsize=(16,6))\n",
    "ax[0].set_title('# de victorias cuando tiene mas kos que el rival')\n",
    "df[df.diff_kos_a_b>0].gano.value_counts().sort_index().plot.bar(ax=ax[0])\n",
    "ax[1].set_title('# de victorias cuando tiene mas kos que el rival')\n",
    "df[df.diff_kos_a_b<0].gano.value_counts().sort_index().plot.bar(ax=ax[1])\n",
    "ax[2].set_title('% de victorias cuando tiene mas kos que el rival')\n",
    "(df[df.diff_kos_a_b > 0].gano.value_counts().sort_index() / df.gano.value_counts().sort_index()).plot.bar(ax=ax[2])"
   ]
  },
  {
   "cell_type": "markdown",
   "metadata": {},
   "source": [
    "La diferencia porcentual es del 5%. Eso se puede deber a que la diferencia de knockouts era de -1 y fue victoria. Esto es algo muy común ya que no generaría más probabilidad de victoria en un boxeador tener una diferencia de 1 KO. A su vez, están los casos en los cuales la diferencia de KO era de 120, por ejemplo, y fue victoria, lo cual resulta más obvia la tendencia a la victoria. <b>Vamos a incluir en las variables de entrada a la diferencia de KOS</b>"
   ]
  },
  {
   "cell_type": "markdown",
   "metadata": {},
   "source": [
    "#### 4) Análisis de victorias históricas"
   ]
  },
  {
   "cell_type": "code",
   "execution_count": 22,
   "metadata": {},
   "outputs": [],
   "source": [
    "df['diff_ganadas_a_b'] = df.ganadas_a - df.ganadas_b"
   ]
  },
  {
   "cell_type": "code",
   "execution_count": 23,
   "metadata": {},
   "outputs": [
    {
     "data": {
      "text/plain": [
       "<matplotlib.axes._subplots.AxesSubplot at 0x7fa65f2ed128>"
      ]
     },
     "execution_count": 23,
     "metadata": {},
     "output_type": "execute_result"
    },
    {
     "data": {
      "image/png": "[encoded data removed]",
      "text/plain": [
       "<Figure size 1152x432 with 3 Axes>"
      ]
     },
     "metadata": {},
     "output_type": "display_data"
    }
   ],
   "source": [
    "f,ax=plt.subplots(1,3,figsize=(16,6))\n",
    "ax[0].set_title('# Victorias cuando el boxeador tiene mayor cantidad de victorias historicas')\n",
    "df[df.diff_ganadas_a_b > 0].gano.value_counts().sort_index().plot.bar(ax=ax[0])\n",
    "ax[1].set_title('# Victorias cuando el boxeador tiene menos victorias historicas')\n",
    "df[df.diff_ganadas_a_b < 0].gano.value_counts().sort_index().plot.bar(ax=ax[1])\n",
    "ax[2].set_title('% de victorias tiene más peleas ganadas que el rival')\n",
    "(df[df.diff_ganadas_a_b > 0].gano.value_counts().sort_index() / df.gano.value_counts().sort_index()).plot.bar(ax=ax[2])"
   ]
  },
  {
   "cell_type": "markdown",
   "metadata": {},
   "source": [
    "En esta gráfica podemos ver que si bien la diferencia porcentual es mínima, daría más probabilidades de victoria a un boxeador que ganó muchas peleas. <b>Consideraremos como variable de entrada las victorias históricas</b>"
   ]
  },
  {
   "cell_type": "markdown",
   "metadata": {},
   "source": [
    "#### 5) Análisis de pérdidas histŕocias"
   ]
  },
  {
   "cell_type": "code",
   "execution_count": 24,
   "metadata": {},
   "outputs": [],
   "source": [
    "df['diff_perdidas_a_b'] = df.perdidas_a - df.perdidas_b"
   ]
  },
  {
   "cell_type": "code",
   "execution_count": 25,
   "metadata": {},
   "outputs": [
    {
     "data": {
      "text/plain": [
       "<matplotlib.axes._subplots.AxesSubplot at 0x7fa65f28e0b8>"
      ]
     },
     "execution_count": 25,
     "metadata": {},
     "output_type": "execute_result"
    },
    {
     "data": {
      "image/png": "[encoded data removed]",
      "text/plain": [
       "<Figure size 1152x432 with 3 Axes>"
      ]
     },
     "metadata": {},
     "output_type": "display_data"
    }
   ],
   "source": [
    "f,ax=plt.subplots(1,3,figsize=(16,6))\n",
    "ax[0].set_title('# Derrotas cuando el boxeador tiene mayor cantidad de derrotas historicas')\n",
    "df[df.diff_perdidas_a_b > 0].gano.value_counts().sort_index().plot.bar(ax=ax[0])\n",
    "ax[1].set_title('# Derrotas cuando el boxeador tiene menos derrotas historicas')\n",
    "df[df.diff_perdidas_a_b < 0].gano.value_counts().sort_index().plot.bar(ax=ax[1])\n",
    "ax[2].set_title('% de derrotas tiene más peleas perdidas que el rival')\n",
    "(df[df.diff_perdidas_a_b > 0].gano.value_counts().sort_index() / df.gano.value_counts().sort_index()).plot.bar(ax=ax[2])"
   ]
  },
  {
   "cell_type": "markdown",
   "metadata": {},
   "source": [
    "Como podemos observar en el gráfico, la cantidad de derrotas acumuladas historicamente va a inferir en el resultado final. <b>Va a ser una entrada para nuestros modelos</b>"
   ]
  },
  {
   "cell_type": "markdown",
   "metadata": {},
   "source": [
    "## Preparando el dataset final"
   ]
  },
  {
   "cell_type": "code",
   "execution_count": 26,
   "metadata": {},
   "outputs": [],
   "source": [
    "df = df.drop([\n",
    "    \"edad_a\", \n",
    "    \"edad_b\",\n",
    "    \"altura_a\",\n",
    "    \"altura_b\",\n",
    "    \"ganadas_a\",\n",
    "    \"ganadas_b\",\n",
    "    \"perdidas_a\",\n",
    "    \"perdidas_b\",\n",
    "    \"kos_a\",\n",
    "    \"kos_b\",\n",
    "    \"resultado\"\n",
    "], axis=1)"
   ]
  },
  {
   "cell_type": "code",
   "execution_count": 27,
   "metadata": {},
   "outputs": [
    {
     "data": {
      "text/plain": [
       "orthodox    65456\n",
       "southpaw    13489\n",
       "Name: posicion_a, dtype: int64"
      ]
     },
     "execution_count": 27,
     "metadata": {},
     "output_type": "execute_result"
    }
   ],
   "source": [
    "df.posicion_a.value_counts()"
   ]
  },
  {
   "cell_type": "code",
   "execution_count": 28,
   "metadata": {},
   "outputs": [],
   "source": [
    "df[\"orthodox_boxeador\"] = df[\"posicion_a\"] == \"orthodox\"\n",
    "df[\"southpaw_boxeador\"] = df[\"posicion_a\"] == \"southpaw\"\n",
    "df[\"orthodox_rival\"] = df[\"posicion_b\"] == \"orthodox\"\n",
    "df[\"southpaw_rival\"] = df[\"posicion_b\"] == \"southpaw\""
   ]
  },
  {
   "cell_type": "code",
   "execution_count": 29,
   "metadata": {},
   "outputs": [],
   "source": [
    "df = df.drop([\"posicion_a\", \"posicion_b\"], axis=1)"
   ]
  },
  {
   "cell_type": "code",
   "execution_count": 30,
   "metadata": {},
   "outputs": [],
   "source": [
    "df.gano = df.gano.astype(int)\n",
    "df.orthodox_boxeador = df.orthodox_boxeador.astype(int)\n",
    "df.southpaw_boxeador = df.southpaw_boxeador.astype(int)\n",
    "df.orthodox_rival = df.orthodox_rival.astype(int)\n",
    "df.southpaw_rival = df.southpaw_rival.astype(int)"
   ]
  },
  {
   "cell_type": "markdown",
   "metadata": {},
   "source": [
    "## Diccionario de datos final:"
   ]
  },
  {
   "cell_type": "markdown",
   "metadata": {},
   "source": [
    "<table width=\"100%\">\n",
    "  <tr>\n",
    "    <th>Nombre variable</th>\n",
    "    <th>Descripción</th>\n",
    "    <th>Valores Posibles</th>\n",
    "  </tr>\n",
    "  <tr>\n",
    "    <td>diff_edad_a_b</td>\n",
    "    <td>Diferencia de edad entre boxeadores</td>\n",
    "    <td>en años</td>\n",
    "  </tr>\n",
    "  <tr>\n",
    "    <td>diff_altura_a_b</td>\n",
    "    <td>Diferencia de altura entre altura</td>\n",
    "    <td>en cm</td>\n",
    "  </tr>\n",
    "  <tr>\n",
    "    <td>orthodox_boxeador</td>\n",
    "    <td>Posición ortodoxa</td>\n",
    "    <td>0 y 1</td>\n",
    "  </tr>\n",
    "  <tr>\n",
    "    <td>southpaw_boxeador</td>\n",
    "    <td>Posición southpaw</td>\n",
    "    <td>0 y 1</td>\n",
    "  </tr>\n",
    "    \n",
    "  <tr>\n",
    "    <td>orthodox_rival</td>\n",
    "    <td>Posición ortodoxa del rival</td>\n",
    "    <td>0 y 1</td>\n",
    "  </tr>\n",
    "  <tr>\n",
    "    <td>southpaw_rival</td>\n",
    "    <td>Posición southpaw del rival</td>\n",
    "    <td>0 y 1</td>\n",
    "  </tr>\n",
    "  <tr>\n",
    "    <td>diff_ganadas_a_b</td>\n",
    "    <td>Diferencia N° de victorias pasadas</td>\n",
    "    <td></td>\n",
    "  </tr>\n",
    "  <tr>\n",
    "    <td>diff_perdidas_a_b</td>\n",
    "    <td>Diferencia N° de derrotas pasadas</td>\n",
    "    <td></td>\n",
    "  </tr>\n",
    "  <tr>\n",
    "    <td>diff_kos_a_b</td>\n",
    "    <td>Diferencia N° de kos pasados</td>\n",
    "    <td></td>\n",
    "  </tr>\n",
    "  <tr>\n",
    "    <td>gano</td>\n",
    "    <td>Resultado del combate</td>\n",
    "    <td>0 y 1</td>\n",
    "  </tr>\n",
    "</table>"
   ]
  },
  {
   "cell_type": "code",
   "execution_count": 31,
   "metadata": {},
   "outputs": [
    {
     "data": {
      "text/html": [
       "<div>\n",
       "<style scoped>\n",
       "    .dataframe tbody tr th:only-of-type {\n",
       "        vertical-align: middle;\n",
       "    }\n",
       "\n",
       "    .dataframe tbody tr th {\n",
       "        vertical-align: top;\n",
       "    }\n",
       "\n",
       "    .dataframe thead th {\n",
       "        text-align: right;\n",
       "    }\n",
       "</style>\n",
       "<table border=\"1\" class=\"dataframe\">\n",
       "  <thead>\n",
       "    <tr style=\"text-align: right;\">\n",
       "      <th></th>\n",
       "      <th>gano</th>\n",
       "      <th>diff_altura_a_b</th>\n",
       "      <th>diff_edad_a_b</th>\n",
       "      <th>diff_kos_a_b</th>\n",
       "      <th>diff_ganadas_a_b</th>\n",
       "      <th>diff_perdidas_a_b</th>\n",
       "      <th>orthodox_boxeador</th>\n",
       "      <th>southpaw_boxeador</th>\n",
       "      <th>orthodox_rival</th>\n",
       "      <th>southpaw_rival</th>\n",
       "    </tr>\n",
       "  </thead>\n",
       "  <tbody>\n",
       "    <tr>\n",
       "      <th>0</th>\n",
       "      <td>0</td>\n",
       "      <td>4.0</td>\n",
       "      <td>8.0</td>\n",
       "      <td>-1.0</td>\n",
       "      <td>-12</td>\n",
       "      <td>-1</td>\n",
       "      <td>1</td>\n",
       "      <td>0</td>\n",
       "      <td>1</td>\n",
       "      <td>0</td>\n",
       "    </tr>\n",
       "    <tr>\n",
       "      <th>1</th>\n",
       "      <td>1</td>\n",
       "      <td>-10.0</td>\n",
       "      <td>-5.0</td>\n",
       "      <td>2.0</td>\n",
       "      <td>-2</td>\n",
       "      <td>-1</td>\n",
       "      <td>1</td>\n",
       "      <td>0</td>\n",
       "      <td>1</td>\n",
       "      <td>0</td>\n",
       "    </tr>\n",
       "    <tr>\n",
       "      <th>2</th>\n",
       "      <td>0</td>\n",
       "      <td>1.0</td>\n",
       "      <td>2.0</td>\n",
       "      <td>-20.0</td>\n",
       "      <td>-24</td>\n",
       "      <td>-1</td>\n",
       "      <td>1</td>\n",
       "      <td>0</td>\n",
       "      <td>1</td>\n",
       "      <td>0</td>\n",
       "    </tr>\n",
       "    <tr>\n",
       "      <th>3</th>\n",
       "      <td>1</td>\n",
       "      <td>1.0</td>\n",
       "      <td>-4.0</td>\n",
       "      <td>13.0</td>\n",
       "      <td>15</td>\n",
       "      <td>-2</td>\n",
       "      <td>1</td>\n",
       "      <td>0</td>\n",
       "      <td>1</td>\n",
       "      <td>0</td>\n",
       "    </tr>\n",
       "    <tr>\n",
       "      <th>4</th>\n",
       "      <td>1</td>\n",
       "      <td>5.0</td>\n",
       "      <td>-10.0</td>\n",
       "      <td>-1.0</td>\n",
       "      <td>5</td>\n",
       "      <td>-3</td>\n",
       "      <td>1</td>\n",
       "      <td>0</td>\n",
       "      <td>1</td>\n",
       "      <td>0</td>\n",
       "    </tr>\n",
       "  </tbody>\n",
       "</table>\n",
       "</div>"
      ],
      "text/plain": [
       "   gano  diff_altura_a_b  diff_edad_a_b  diff_kos_a_b  diff_ganadas_a_b  \\\n",
       "0     0              4.0            8.0          -1.0               -12   \n",
       "1     1            -10.0           -5.0           2.0                -2   \n",
       "2     0              1.0            2.0         -20.0               -24   \n",
       "3     1              1.0           -4.0          13.0                15   \n",
       "4     1              5.0          -10.0          -1.0                 5   \n",
       "\n",
       "   diff_perdidas_a_b  orthodox_boxeador  southpaw_boxeador  orthodox_rival  \\\n",
       "0                 -1                  1                  0               1   \n",
       "1                 -1                  1                  0               1   \n",
       "2                 -1                  1                  0               1   \n",
       "3                 -2                  1                  0               1   \n",
       "4                 -3                  1                  0               1   \n",
       "\n",
       "   southpaw_rival  \n",
       "0               0  \n",
       "1               0  \n",
       "2               0  \n",
       "3               0  \n",
       "4               0  "
      ]
     },
     "execution_count": 31,
     "metadata": {},
     "output_type": "execute_result"
    }
   ],
   "source": [
    "df.head()"
   ]
  },
  {
   "cell_type": "code",
   "execution_count": null,
   "metadata": {},
   "outputs": [],
   "source": []
  }
 ],
 "metadata": {
  "kernelspec": {
   "display_name": "Python 3",
   "language": "python",
   "name": "python3"
  },
  "language_info": {
   "codemirror_mode": {
    "name": "ipython",
    "version": 3
   },
   "file_extension": ".py",
   "mimetype": "text/x-python",
   "name": "python",
   "nbconvert_exporter": "python",
   "pygments_lexer": "ipython3",
   "version": "3.5.2"
  }
 },
 "nbformat": 4,
 "nbformat_minor": 2
}
