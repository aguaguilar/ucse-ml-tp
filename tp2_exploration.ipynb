{
 "cells": [
  {
   "cell_type": "markdown",
   "metadata": {},
   "source": [
    "### Trabajo práctico N° 2: Experimentación\n",
    "INTEGRANTES:\n",
    "<ul>\n",
    "    <li>Agustín Aguilar</li>\n",
    "    <li>Nicolás Ferrari</li>\n",
    "    <li>Emiliano Sosa</li>\n",
    "</ul>\n",
    "Vamos a intentar predecir si un boxeador va a ganar una pelea a partir de ciertos datos.\n",
    "En principio nuestro conjunto de datos lucía de la siguiente manera:\n",
    "\n",
    "<table width=\"100%\">\n",
    "  <tr>\n",
    "    <th>Nombre variable</th>\n",
    "    <th>Descripción</th>\n",
    "    <th>Valores Posibles</th>\n",
    "  </tr>\n",
    "  <tr>\n",
    "    <td>age_A y age_B</td>\n",
    "    <td>Edad del boxeador a y b</td>\n",
    "    <td>en años</td>\n",
    "  </tr>\n",
    "  <tr>\n",
    "    <td>height_A y height_B</td>\n",
    "    <td>Altura del boxeador a y b</td>\n",
    "    <td>en cm</td>\n",
    "  </tr>\n",
    "  <tr>\n",
    "    <td>reach_A y reach_b</td>\n",
    "    <td>Distancia de una mano a la otra con los brazos estirados</td>\n",
    "    <td>en cm</td>\n",
    "  </tr>\n",
    "  <tr>\n",
    "    <td>stance_A y stance_B</td>\n",
    "    <td>Postura de los boxeadores</td>\n",
    "    <td>orthodox/southpaw</td>\n",
    "  </tr>\n",
    "  <tr>\n",
    "    <td>weight_A, weight_B</td>\n",
    "    <td>Peso de los boxeadores</td>\n",
    "    <td>en libras</td>\n",
    "  </tr>\n",
    "  <tr>\n",
    "    <td>won_A, won_B</td>\n",
    "    <td>N° de victorias pasadas</td>\n",
    "    <td></td>\n",
    "  </tr>\n",
    "  <tr>\n",
    "    <td>lost_A y lost_B</td>\n",
    "    <td>N° de derrotas pasadas</td>\n",
    "    <td></td>\n",
    "  </tr>\n",
    "  <tr>\n",
    "    <td>drawn_A y drawn_B</td>\n",
    "    <td>N° de empates pasados</td>\n",
    "    <td></td>\n",
    "  </tr>\n",
    "  <tr>\n",
    "    <td>result</td>\n",
    "    <td>Resultado del combate</td>\n",
    "    <td>win_A/win_B/draw</td>\n",
    "  </tr>\n",
    "  <tr>\n",
    "    <td>decision</td>\n",
    "    <td>Tipo de decisión del jurado</td>\n",
    "    <td>SD (decisión dividida), MD (decisión de la mayoria), UD (decisión unánime), KO: (knock out), TKO (knock out tecnico), DQ (descalificado), RTD (adversario se retira)</td>\n",
    "  </tr>\n",
    "      <tr>\n",
    "    <td>judge</td>\n",
    "    <td>Puntaje de los 3 jurados</td>\n",
    "    <td>en cm</td>\n",
    "  </tr>\n",
    "</table>\n",
    "\n",
    "Luego de un <a href=\"tp1_exploration.ipynb\">análisis exploratorio de datos</a> llegamos a la conclusión de que muchas variables no iban a aportar nada a la causa, como por ejemplo, la decisión que tome el jurado.\n",
    "\n",
    "Aplicamos algunas técnicas de feature engineer como por ejemplo:\n",
    "<ul>\n",
    "    <li>Limpieza de columnas con muchos valores nulos</li>\n",
    "    <li>Limpieza de filas con valores nulos</li>\n",
    "    <li>Relación entre columnas, por ejemplo: La columna altura_a y altura_b, paso a ser: diff_altura_a_b. Con esto le podemos ahorrar al modelo encontrar una relación entre las columnas anteriores</li>\n",
    "    <li>Descartar los empates ya que eran pocos los casos y no valía la pena predecirlos</li>\n",
    "</ul>\n",
    "\n",
    "Logrando un dataset de la siguiente forma:\n",
    "\n",
    "<table width=\"100%\">\n",
    "  <tr>\n",
    "    <th>Nombre variable</th>\n",
    "    <th>Descripción</th>\n",
    "    <th>Valores Posibles</th>\n",
    "  </tr>\n",
    "  <tr>\n",
    "    <td>diff_edad_a_b</td>\n",
    "    <td>Diferencia de edad entre boxeadores</td>\n",
    "    <td>en años</td>\n",
    "  </tr>\n",
    "  <tr>\n",
    "    <td>diff_altura_a_b</td>\n",
    "    <td>Diferencia de altura entre altura</td>\n",
    "    <td>en cm</td>\n",
    "  </tr>\n",
    "  <tr>\n",
    "    <td>posicion_a_orthodox</td>\n",
    "    <td>Posición ortodoxa</td>\n",
    "    <td>0 y 1</td>\n",
    "  </tr>\n",
    "  <tr>\n",
    "    <td>posicion_a_southpaw</td>\n",
    "    <td>Posición southpaw</td>\n",
    "    <td>0 y 1</td>\n",
    "  </tr>\n",
    "  <tr>\n",
    "    <td>posicion_b_orthodox</td>\n",
    "    <td>Posición ortodoxa</td>\n",
    "    <td>0 y 1</td>\n",
    "  </tr>\n",
    "  <tr>\n",
    "    <td>posicion_a_southpaw</td>\n",
    "    <td>Posición southpaw</td>\n",
    "    <td>0 y 1</td>\n",
    "  </tr>\n",
    "  <tr>\n",
    "    <td>diff_ganadas_a_b</td>\n",
    "    <td>Diferencia N° de victorias pasadas</td>\n",
    "    <td></td>\n",
    "  </tr>\n",
    "  <tr>\n",
    "    <td>diff_perdidas_a_b</td>\n",
    "    <td>Diferencia N° de derrotas pasadas</td>\n",
    "    <td></td>\n",
    "  </tr>\n",
    "  <tr>\n",
    "    <td>diff_kos_a_b</td>\n",
    "    <td>Diferencia N° de kos pasados</td>\n",
    "    <td></td>\n",
    "  </tr>\n",
    "  <tr>\n",
    "    <td>gano</td>\n",
    "    <td>Resultado del combate</td>\n",
    "    <td>0 y 1</td>\n",
    "  </tr>\n",
    "</table>\n",
    "\n"
   ]
  },
  {
   "cell_type": "markdown",
   "metadata": {},
   "source": [
    "Luego de todas las limpiezas tenemos un dataset de victorias y derrotas del box. Masomenos un 83% de victorias y 17% de derrotas. Nos pareció algo muuuy desbalanceado.\n",
    "Pero, si en mi variable de salida dice 'perdió' y mis datos de entradas son los datos de los dos boxeadores, puedo transformar las derrotas en victorias y viceversa. Por lo que creamos un conjunto de datos donde tenemos 50% victorias y 50% derrotas. Los valores diferenciales se calcularon de la siguiente manera:\n",
    "<b>diff_ganadas_a_b = ganadas_del_ganador - ganadas_del_perdedor</b>"
   ]
  },
  {
   "cell_type": "markdown",
   "metadata": {},
   "source": [
    "Al tener un conjunto de datos perfectamente balanceado, vamos a usar como métrica al <b>accuracy</b>. Es una buena métrica para la claficiación, y viendo las características de nuestro conjunto de datos (balanceo perfecto) evitaremos que entre en conflictos conocidos como por ej, que prediga siempre la misma clase. \n",
    "Tampoco vamos a tener problemas si la predicción falla en cualquiera de las dos clases.\n",
    "<b>Accuracy</b>, nos va a expresar el porcentaje de aciertos en las predicciones."
   ]
  },
  {
   "cell_type": "markdown",
   "metadata": {},
   "source": [
    "### Imports & libs"
   ]
  },
  {
   "cell_type": "code",
   "execution_count": 1,
   "metadata": {},
   "outputs": [
    {
     "name": "stderr",
     "output_type": "stream",
     "text": [
      "/home/lenovo2/Documentos/dev/ml/.venv/lib/python3.5/site-packages/h5py/__init__.py:36: FutureWarning: Conversion of the second argument of issubdtype from `float` to `np.floating` is deprecated. In future, it will be treated as `np.float64 == np.dtype(float).type`.\n",
      "  from ._conv import register_converters as _register_converters\n",
      "Using TensorFlow backend.\n"
     ]
    }
   ],
   "source": [
    "import numpy as np\n",
    "import pandas as pd\n",
    "from matplotlib import pyplot as plt\n",
    "\n",
    "from keras.models import Sequential\n",
    "from keras.layers import Dense, Activation, Input, Dropout\n",
    "\n",
    "from sklearn.metrics import accuracy_score, precision_score, recall_score, confusion_matrix\n",
    "from sklearn.model_selection import train_test_split\n",
    "from sklearn.neighbors import KNeighborsClassifier\n",
    "from sklearn.linear_model import LogisticRegression\n",
    "from sklearn.preprocessing import StandardScaler\n",
    "from sklearn.pipeline import Pipeline\n",
    "\n",
    "\n",
    "%matplotlib inline"
   ]
  },
  {
   "cell_type": "markdown",
   "metadata": {},
   "source": [
    "### Leemos data"
   ]
  },
  {
   "cell_type": "code",
   "execution_count": 2,
   "metadata": {},
   "outputs": [],
   "source": [
    "df = pd.read_csv(\"box_data_ready.csv\")"
   ]
  },
  {
   "cell_type": "code",
   "execution_count": 3,
   "metadata": {},
   "outputs": [],
   "source": [
    "df = df.drop(['Unnamed: 0'], axis=1)"
   ]
  },
  {
   "cell_type": "code",
   "execution_count": 4,
   "metadata": {
    "scrolled": true
   },
   "outputs": [
    {
     "data": {
      "text/html": [
       "<div>\n",
       "<style scoped>\n",
       "    .dataframe tbody tr th:only-of-type {\n",
       "        vertical-align: middle;\n",
       "    }\n",
       "\n",
       "    .dataframe tbody tr th {\n",
       "        vertical-align: top;\n",
       "    }\n",
       "\n",
       "    .dataframe thead th {\n",
       "        text-align: right;\n",
       "    }\n",
       "</style>\n",
       "<table border=\"1\" class=\"dataframe\">\n",
       "  <thead>\n",
       "    <tr style=\"text-align: right;\">\n",
       "      <th></th>\n",
       "      <th>gano</th>\n",
       "      <th>diff_altura_a_b</th>\n",
       "      <th>diff_edad_a_b</th>\n",
       "      <th>diff_kos_a_b</th>\n",
       "      <th>diff_ganadas_a_b</th>\n",
       "      <th>diff_perdidas_a_b</th>\n",
       "      <th>posicion_a_orthodox</th>\n",
       "      <th>posicion_a_southpaw</th>\n",
       "      <th>posicion_b_orthodox</th>\n",
       "      <th>posicion_b_southpaw</th>\n",
       "    </tr>\n",
       "  </thead>\n",
       "  <tbody>\n",
       "    <tr>\n",
       "      <th>0</th>\n",
       "      <td>1</td>\n",
       "      <td>-1.0</td>\n",
       "      <td>-12.0</td>\n",
       "      <td>8.0</td>\n",
       "      <td>6</td>\n",
       "      <td>-13</td>\n",
       "      <td>True</td>\n",
       "      <td>False</td>\n",
       "      <td>True</td>\n",
       "      <td>False</td>\n",
       "    </tr>\n",
       "    <tr>\n",
       "      <th>1</th>\n",
       "      <td>1</td>\n",
       "      <td>-7.0</td>\n",
       "      <td>-8.0</td>\n",
       "      <td>-41.0</td>\n",
       "      <td>-51</td>\n",
       "      <td>-9</td>\n",
       "      <td>False</td>\n",
       "      <td>True</td>\n",
       "      <td>False</td>\n",
       "      <td>True</td>\n",
       "    </tr>\n",
       "    <tr>\n",
       "      <th>2</th>\n",
       "      <td>1</td>\n",
       "      <td>5.0</td>\n",
       "      <td>-4.0</td>\n",
       "      <td>-4.0</td>\n",
       "      <td>-6</td>\n",
       "      <td>-7</td>\n",
       "      <td>True</td>\n",
       "      <td>False</td>\n",
       "      <td>True</td>\n",
       "      <td>False</td>\n",
       "    </tr>\n",
       "    <tr>\n",
       "      <th>3</th>\n",
       "      <td>1</td>\n",
       "      <td>1.0</td>\n",
       "      <td>-9.0</td>\n",
       "      <td>1.0</td>\n",
       "      <td>-1</td>\n",
       "      <td>-2</td>\n",
       "      <td>False</td>\n",
       "      <td>True</td>\n",
       "      <td>False</td>\n",
       "      <td>True</td>\n",
       "    </tr>\n",
       "    <tr>\n",
       "      <th>4</th>\n",
       "      <td>1</td>\n",
       "      <td>-3.0</td>\n",
       "      <td>2.0</td>\n",
       "      <td>-1.0</td>\n",
       "      <td>-1</td>\n",
       "      <td>-7</td>\n",
       "      <td>False</td>\n",
       "      <td>True</td>\n",
       "      <td>False</td>\n",
       "      <td>True</td>\n",
       "    </tr>\n",
       "  </tbody>\n",
       "</table>\n",
       "</div>"
      ],
      "text/plain": [
       "   gano  diff_altura_a_b  diff_edad_a_b  diff_kos_a_b  diff_ganadas_a_b  \\\n",
       "0     1             -1.0          -12.0           8.0                 6   \n",
       "1     1             -7.0           -8.0         -41.0               -51   \n",
       "2     1              5.0           -4.0          -4.0                -6   \n",
       "3     1              1.0           -9.0           1.0                -1   \n",
       "4     1             -3.0            2.0          -1.0                -1   \n",
       "\n",
       "   diff_perdidas_a_b  posicion_a_orthodox  posicion_a_southpaw  \\\n",
       "0                -13                 True                False   \n",
       "1                 -9                False                 True   \n",
       "2                 -7                 True                False   \n",
       "3                 -2                False                 True   \n",
       "4                 -7                False                 True   \n",
       "\n",
       "   posicion_b_orthodox  posicion_b_southpaw  \n",
       "0                 True                False  \n",
       "1                False                 True  \n",
       "2                 True                False  \n",
       "3                False                 True  \n",
       "4                False                 True  "
      ]
     },
     "execution_count": 4,
     "metadata": {},
     "output_type": "execute_result"
    }
   ],
   "source": [
    "df.head()"
   ]
  },
  {
   "cell_type": "code",
   "execution_count": 5,
   "metadata": {
    "scrolled": true
   },
   "outputs": [
    {
     "data": {
      "text/plain": [
       "<matplotlib.axes._subplots.AxesSubplot at 0x7f383249f780>"
      ]
     },
     "execution_count": 5,
     "metadata": {},
     "output_type": "execute_result"
    },
    {
     "data": {
      "image/png": "[encoded data removed]",
      "text/plain": [
       "<Figure size 432x288 with 1 Axes>"
      ]
     },
     "metadata": {},
     "output_type": "display_data"
    }
   ],
   "source": [
    "df.gano.value_counts().plot.pie()"
   ]
  },
  {
   "cell_type": "code",
   "execution_count": 6,
   "metadata": {},
   "outputs": [],
   "source": [
    "train, not_train = train_test_split(df, test_size=0.4)\n",
    "validation, test = train_test_split(not_train, test_size=0.5)"
   ]
  },
  {
   "cell_type": "markdown",
   "metadata": {},
   "source": [
    "### Funciones útiles"
   ]
  },
  {
   "cell_type": "code",
   "execution_count": 7,
   "metadata": {},
   "outputs": [],
   "source": [
    "INPUTS_COLUMNS = [\n",
    "    \"posicion_a_orthodox\",\n",
    "    \"posicion_a_southpaw\",\n",
    "    \"posicion_b_orthodox\",\n",
    "    \"posicion_b_southpaw\",\n",
    "    \"diff_altura_a_b\",\n",
    "    \"diff_edad_a_b\",\n",
    "    \"diff_kos_a_b\",\n",
    "    \"diff_ganadas_a_b\",\n",
    "    \"diff_perdidas_a_b\"\n",
    "]"
   ]
  },
  {
   "cell_type": "code",
   "execution_count": 8,
   "metadata": {},
   "outputs": [],
   "source": [
    "def evaluate_model(model, extract_inputs_function, extract_outputs_function, include_validation=False, nn=False):\n",
    "    sets = [('train', train), ('test', test), ('validation', validation)]\n",
    "    if include_validation:\n",
    "        sets.append(('validation', validation))\n",
    "        \n",
    "    for set_name, set_data in sets:\n",
    "        inputs = extract_inputs_function(set_data)\n",
    "        outputs = extract_outputs_function(set_data)\n",
    "        predictions = model.predict(inputs)\n",
    "        if nn:\n",
    "            predictions = np.around(predictions)\n",
    "        \n",
    "        print(set_name, '#' * 80)\n",
    "        \n",
    "        # print metrics\n",
    "        \n",
    "        print('Accuracy:', accuracy_score(outputs, predictions))\n",
    "        print()\n",
    "        \n",
    "        # plot confussion matrix\n",
    "        \n",
    "        plt.figure(figsize=(3,4))\n",
    "        \n",
    "        plt.xticks([0, 1], ['perdió', 'ganó'], rotation=45)\n",
    "        plt.yticks([0, 1], ['perdió', 'ganó'])\n",
    "        plt.xlabel('Predicted class')\n",
    "        plt.ylabel('True class')\n",
    "\n",
    "        plt.title(set_name)\n",
    "\n",
    "        plt.imshow(\n",
    "            confusion_matrix(outputs, predictions), \n",
    "            cmap=plt.cm.Blues, \n",
    "            interpolation='nearest',\n",
    "        )\n",
    "\n",
    "        plt.show()"
   ]
  },
  {
   "cell_type": "code",
   "execution_count": 9,
   "metadata": {},
   "outputs": [],
   "source": [
    "def search_k_evaluate_model(model, extract_inputs_function, extract_outputs_function):\n",
    "    accuracy = {}\n",
    "    sets = [('train', train), ('test', test), ('validation', validation)]\n",
    "        \n",
    "    for set_name, set_data in sets:\n",
    "        inputs = extract_inputs_function(set_data)\n",
    "        outputs = extract_outputs_function(set_data)\n",
    "        predictions = model.predict(inputs)\n",
    "        accuracy[set_name] = accuracy_score(outputs, predictions)\n",
    "    \n",
    "    return accuracy    "
   ]
  },
  {
   "cell_type": "markdown",
   "metadata": {},
   "source": [
    "### Regresión Logística"
   ]
  },
  {
   "cell_type": "code",
   "execution_count": 14,
   "metadata": {},
   "outputs": [],
   "source": [
    "def lr_extract_inputs(df):\n",
    "    return df[INPUTS_COLUMNS].values.astype(np.float64)\n",
    "\n",
    "def lr_extract_outputs(df):\n",
    "    return df.gano.values"
   ]
  },
  {
   "cell_type": "code",
   "execution_count": 18,
   "metadata": {},
   "outputs": [],
   "source": [
    "lr_model = Pipeline([\n",
    "    ('scaler', StandardScaler()),\n",
    "    ('classifier', LogisticRegression(random_state=30, solver='liblinear')),\n",
    "])"
   ]
  },
  {
   "cell_type": "code",
   "execution_count": 19,
   "metadata": {},
   "outputs": [
    {
     "data": {
      "text/plain": [
       "Pipeline(memory=None,\n",
       "     steps=[('scaler', StandardScaler(copy=True, with_mean=True, with_std=True)), ('classifier', LogisticRegression(C=1.0, class_weight=None, dual=False, fit_intercept=True,\n",
       "          intercept_scaling=1, max_iter=100, multi_class='ovr', n_jobs=1,\n",
       "          penalty='l2', random_state=30, solver='liblinear', tol=0.0001,\n",
       "          verbose=0, warm_start=False))])"
      ]
     },
     "execution_count": 19,
     "metadata": {},
     "output_type": "execute_result"
    }
   ],
   "source": [
    "lr_model.fit(\n",
    "    lr_extract_inputs(train),\n",
    "    lr_extract_outputs(train),\n",
    ")"
   ]
  },
  {
   "cell_type": "code",
   "execution_count": 20,
   "metadata": {},
   "outputs": [
    {
     "name": "stdout",
     "output_type": "stream",
     "text": [
      "train ################################################################################\n",
      "Accuracy: 0.7679724780823438\n",
      "\n"
     ]
    },
    {
     "data": {
      "image/png": "[encoded data removed]",
      "text/plain": [
       "<Figure size 216x288 with 1 Axes>"
      ]
     },
     "metadata": {},
     "output_type": "display_data"
    },
    {
     "name": "stdout",
     "output_type": "stream",
     "text": [
      "test ################################################################################\n",
      "Accuracy: 0.776416539050536\n",
      "\n"
     ]
    },
    {
     "data": {
      "image/png": "[encoded data removed]",
      "text/plain": [
       "<Figure size 216x288 with 1 Axes>"
      ]
     },
     "metadata": {},
     "output_type": "display_data"
    },
    {
     "name": "stdout",
     "output_type": "stream",
     "text": [
      "validation ################################################################################\n",
      "Accuracy: 0.7731388999866826\n",
      "\n"
     ]
    },
    {
     "data": {
      "image/png": "[encoded data removed]",
      "text/plain": [
       "<Figure size 216x288 with 1 Axes>"
      ]
     },
     "metadata": {},
     "output_type": "display_data"
    }
   ],
   "source": [
    "evaluate_model(lr_model, lr_extract_inputs, lr_extract_outputs)"
   ]
  },
  {
   "cell_type": "markdown",
   "metadata": {},
   "source": [
    "#### Conclusión\n",
    "Obtuvimos un 77% en validation. Lo cuál está por encima de nuestro baseline (50%) y se considera aceptable.\n"
   ]
  },
  {
   "cell_type": "markdown",
   "metadata": {},
   "source": [
    "### KNN, encontrando un K óptimo"
   ]
  },
  {
   "cell_type": "code",
   "execution_count": 21,
   "metadata": {},
   "outputs": [
    {
     "data": {
      "image/png": "[encoded data removed]",
      "text/plain": [
       "<Figure size 432x288 with 1 Axes>"
      ]
     },
     "metadata": {},
     "output_type": "display_data"
    }
   ],
   "source": [
    "y_train_accuracy = []\n",
    "y_test_accuracy = []\n",
    "y_validation_accuracy = []\n",
    "x_k = []\n",
    "\n",
    "for i in list(range(2, 50)):\n",
    "    K = i\n",
    "    x_k.append(K)\n",
    "    knn_model = Pipeline([\n",
    "        ('scaler', StandardScaler()),\n",
    "        ('classifier', KNeighborsClassifier(n_neighbors=K)),\n",
    "    ])\n",
    "    knn_model.fit(\n",
    "        lr_extract_inputs(train),\n",
    "        lr_extract_outputs(train),\n",
    "    )\n",
    "    results = search_k_evaluate_model(knn_model, lr_extract_inputs, lr_extract_outputs)\n",
    "    y_train_accuracy.append(results[\"train\"])\n",
    "    y_test_accuracy.append(results[\"test\"])\n",
    "    y_validation_accuracy.append(results[\"validation\"])\n",
    "\n",
    "plt.plot(x_k, y_train_accuracy)\n",
    "plt.plot(x_k, y_test_accuracy)\n",
    "plt.plot(x_k, y_validation_accuracy)\n",
    "plt.legend(['Acc. Train', 'Acc. Test', 'Acc. Validation'], loc='upper left')\n",
    "plt.xlabel(\"Valor de K\")\n",
    "plt.ylabel(\"Accuracy\")\n",
    "plt.show()\n"
   ]
  },
  {
   "cell_type": "code",
   "execution_count": 23,
   "metadata": {},
   "outputs": [
    {
     "name": "stdout",
     "output_type": "stream",
     "text": [
      "train ################################################################################\n",
      "Accuracy: 0.7747863722117412\n",
      "\n"
     ]
    },
    {
     "data": {
      "image/png": "[encoded data removed]",
      "text/plain": [
       "<Figure size 216x288 with 1 Axes>"
      ]
     },
     "metadata": {},
     "output_type": "display_data"
    },
    {
     "name": "stdout",
     "output_type": "stream",
     "text": [
      "test ################################################################################\n",
      "Accuracy: 0.7686264065517012\n",
      "\n"
     ]
    },
    {
     "data": {
      "image/png": "[encoded data removed]",
      "text/plain": [
       "<Figure size 216x288 with 1 Axes>"
      ]
     },
     "metadata": {},
     "output_type": "display_data"
    },
    {
     "name": "stdout",
     "output_type": "stream",
     "text": [
      "validation ################################################################################\n",
      "Accuracy: 0.7674790251697963\n",
      "\n"
     ]
    },
    {
     "data": {
      "image/png": "[encoded data removed]",
      "text/plain": [
       "<Figure size 216x288 with 1 Axes>"
      ]
     },
     "metadata": {},
     "output_type": "display_data"
    }
   ],
   "source": [
    "K = 35\n",
    "knn_model = Pipeline([\n",
    "    ('scaler', StandardScaler()),\n",
    "    ('classifier', KNeighborsClassifier(n_neighbors=K)),\n",
    "])\n",
    "knn_model.fit(\n",
    "    lr_extract_inputs(train),\n",
    "    lr_extract_outputs(train),\n",
    ")\n",
    "evaluate_model(knn_model, lr_extract_inputs, lr_extract_outputs)"
   ]
  },
  {
   "cell_type": "markdown",
   "metadata": {},
   "source": [
    "Con éste modelo obtuvimos 76% de accuracy en validation, lo cual consideramos válido ya que se encuentra por encima del baseline.\n",
    "Seguramente no puede lograr un mejor resultado que regresión logística ya que las features de los datos no permiten una separación clara de los mismos."
   ]
  },
  {
   "cell_type": "markdown",
   "metadata": {},
   "source": [
    "### Redes neuronales"
   ]
  },
  {
   "cell_type": "code",
   "execution_count": 25,
   "metadata": {},
   "outputs": [],
   "source": [
    "model = Sequential([   \n",
    "    Dense(64, input_shape=(len(INPUTS_COLUMNS), )),\n",
    "    Activation('tanh'),\n",
    "    Dense(32),\n",
    "    Activation('relu'),\n",
    "    Dropout(0.25),\n",
    "    Dense(16),\n",
    "    Activation('tanh'),\n",
    "    Dropout(0.3),\n",
    "    Dense(1),\n",
    "    Activation('sigmoid'),\n",
    "])\n",
    "\n",
    "model.compile(\n",
    "    optimizer='adam',\n",
    "    loss='binary_crossentropy',\n",
    "    metrics=['accuracy',],\n",
    ")"
   ]
  },
  {
   "cell_type": "code",
   "execution_count": 26,
   "metadata": {},
   "outputs": [
    {
     "name": "stdout",
     "output_type": "stream",
     "text": [
      "Train on 45055 samples, validate on 15019 samples\n",
      "Epoch 1/250\n",
      "45055/45055 [==============================] - 1s 28us/step - loss: 0.5197 - acc: 0.7480 - val_loss: 0.4727 - val_acc: 0.7788\n",
      "Epoch 2/250\n",
      "45055/45055 [==============================] - 1s 20us/step - loss: 0.4882 - acc: 0.7711 - val_loss: 0.4709 - val_acc: 0.7805\n",
      "Epoch 3/250\n",
      "45055/45055 [==============================] - 1s 20us/step - loss: 0.4851 - acc: 0.7718 - val_loss: 0.4682 - val_acc: 0.7829\n",
      "Epoch 4/250\n",
      "45055/45055 [==============================] - 1s 19us/step - loss: 0.4808 - acc: 0.7747 - val_loss: 0.4688 - val_acc: 0.7815\n",
      "Epoch 5/250\n",
      "45055/45055 [==============================] - 1s 20us/step - loss: 0.4801 - acc: 0.7748 - val_loss: 0.4675 - val_acc: 0.7821\n",
      "Epoch 6/250\n",
      "45055/45055 [==============================] - 1s 20us/step - loss: 0.4787 - acc: 0.7764 - val_loss: 0.4679 - val_acc: 0.7790\n",
      "Epoch 7/250\n",
      "45055/45055 [==============================] - 1s 20us/step - loss: 0.4775 - acc: 0.7775 - val_loss: 0.4674 - val_acc: 0.7819\n",
      "Epoch 8/250\n",
      "45055/45055 [==============================] - 1s 20us/step - loss: 0.4770 - acc: 0.7781 - val_loss: 0.4669 - val_acc: 0.7840\n",
      "Epoch 9/250\n",
      "45055/45055 [==============================] - 1s 22us/step - loss: 0.4768 - acc: 0.7772 - val_loss: 0.4687 - val_acc: 0.7799\n",
      "Epoch 10/250\n",
      "45055/45055 [==============================] - 1s 19us/step - loss: 0.4761 - acc: 0.7778 - val_loss: 0.4661 - val_acc: 0.7843\n",
      "Epoch 11/250\n",
      "45055/45055 [==============================] - 1s 20us/step - loss: 0.4747 - acc: 0.7774 - val_loss: 0.4664 - val_acc: 0.7818\n",
      "Epoch 12/250\n",
      "45055/45055 [==============================] - 1s 18us/step - loss: 0.4755 - acc: 0.7770 - val_loss: 0.4664 - val_acc: 0.7822\n",
      "Epoch 13/250\n",
      "45055/45055 [==============================] - 1s 23us/step - loss: 0.4761 - acc: 0.7781 - val_loss: 0.4668 - val_acc: 0.7832\n",
      "Epoch 14/250\n",
      "45055/45055 [==============================] - 1s 21us/step - loss: 0.4748 - acc: 0.7776 - val_loss: 0.4666 - val_acc: 0.7819\n",
      "Epoch 15/250\n",
      "45055/45055 [==============================] - 1s 18us/step - loss: 0.4741 - acc: 0.7781 - val_loss: 0.4666 - val_acc: 0.7829\n",
      "Epoch 16/250\n",
      "45055/45055 [==============================] - 1s 18us/step - loss: 0.4745 - acc: 0.7787 - val_loss: 0.4668 - val_acc: 0.7821\n",
      "Epoch 17/250\n",
      "45055/45055 [==============================] - 1s 17us/step - loss: 0.4725 - acc: 0.7796 - val_loss: 0.4670 - val_acc: 0.7809\n",
      "Epoch 18/250\n",
      "45055/45055 [==============================] - 1s 17us/step - loss: 0.4730 - acc: 0.7792 - val_loss: 0.4661 - val_acc: 0.7837\n",
      "Epoch 19/250\n",
      "45055/45055 [==============================] - 1s 17us/step - loss: 0.4730 - acc: 0.7790 - val_loss: 0.4665 - val_acc: 0.7806\n",
      "Epoch 20/250\n",
      "45055/45055 [==============================] - 1s 17us/step - loss: 0.4730 - acc: 0.7804 - val_loss: 0.4671 - val_acc: 0.7831\n",
      "Epoch 21/250\n",
      "45055/45055 [==============================] - 1s 17us/step - loss: 0.4723 - acc: 0.7800 - val_loss: 0.4676 - val_acc: 0.7825\n",
      "Epoch 22/250\n",
      "45055/45055 [==============================] - 1s 17us/step - loss: 0.4715 - acc: 0.7791 - val_loss: 0.4665 - val_acc: 0.7832\n",
      "Epoch 23/250\n",
      "45055/45055 [==============================] - 1s 17us/step - loss: 0.4707 - acc: 0.7795 - val_loss: 0.4670 - val_acc: 0.7831\n",
      "Epoch 24/250\n",
      "45055/45055 [==============================] - 1s 17us/step - loss: 0.4710 - acc: 0.7805 - val_loss: 0.4661 - val_acc: 0.7839\n",
      "Epoch 25/250\n",
      "45055/45055 [==============================] - 1s 17us/step - loss: 0.4711 - acc: 0.7791 - val_loss: 0.4666 - val_acc: 0.7821\n",
      "Epoch 26/250\n",
      "45055/45055 [==============================] - 1s 17us/step - loss: 0.4706 - acc: 0.7803 - val_loss: 0.4663 - val_acc: 0.7834\n",
      "Epoch 27/250\n",
      "45055/45055 [==============================] - 1s 17us/step - loss: 0.4717 - acc: 0.7813 - val_loss: 0.4663 - val_acc: 0.7819\n",
      "Epoch 28/250\n",
      "45055/45055 [==============================] - 1s 17us/step - loss: 0.4709 - acc: 0.7807 - val_loss: 0.4653 - val_acc: 0.7850\n",
      "Epoch 29/250\n",
      "45055/45055 [==============================] - 1s 17us/step - loss: 0.4706 - acc: 0.7811 - val_loss: 0.4661 - val_acc: 0.7827\n",
      "Epoch 30/250\n",
      "45055/45055 [==============================] - 1s 17us/step - loss: 0.4702 - acc: 0.7801 - val_loss: 0.4670 - val_acc: 0.7836\n",
      "Epoch 31/250\n",
      "45055/45055 [==============================] - 1s 17us/step - loss: 0.4703 - acc: 0.7806 - val_loss: 0.4657 - val_acc: 0.7813\n",
      "Epoch 32/250\n",
      "45055/45055 [==============================] - 1s 17us/step - loss: 0.4697 - acc: 0.7806 - val_loss: 0.4661 - val_acc: 0.7835\n",
      "Epoch 33/250\n",
      "45055/45055 [==============================] - 1s 17us/step - loss: 0.4694 - acc: 0.7808 - val_loss: 0.4655 - val_acc: 0.7835\n",
      "Epoch 34/250\n",
      "45055/45055 [==============================] - 1s 17us/step - loss: 0.4685 - acc: 0.7813 - val_loss: 0.4659 - val_acc: 0.7837\n",
      "Epoch 35/250\n",
      "45055/45055 [==============================] - 1s 17us/step - loss: 0.4691 - acc: 0.7812 - val_loss: 0.4665 - val_acc: 0.7835\n",
      "Epoch 36/250\n",
      "45055/45055 [==============================] - 1s 17us/step - loss: 0.4690 - acc: 0.7804 - val_loss: 0.4671 - val_acc: 0.7811\n",
      "Epoch 37/250\n",
      "45055/45055 [==============================] - 1s 17us/step - loss: 0.4685 - acc: 0.7811 - val_loss: 0.4683 - val_acc: 0.7823\n",
      "Epoch 38/250\n",
      "45055/45055 [==============================] - 1s 17us/step - loss: 0.4681 - acc: 0.7814 - val_loss: 0.4670 - val_acc: 0.7819\n",
      "Epoch 39/250\n",
      "45055/45055 [==============================] - 1s 20us/step - loss: 0.4684 - acc: 0.7825 - val_loss: 0.4677 - val_acc: 0.7797\n",
      "Epoch 40/250\n",
      "45055/45055 [==============================] - 1s 23us/step - loss: 0.4681 - acc: 0.7808 - val_loss: 0.4675 - val_acc: 0.7817\n",
      "Epoch 41/250\n",
      "45055/45055 [==============================] - 1s 23us/step - loss: 0.4683 - acc: 0.7826 - val_loss: 0.4672 - val_acc: 0.7833\n",
      "Epoch 42/250\n",
      "45055/45055 [==============================] - 1s 20us/step - loss: 0.4672 - acc: 0.7821 - val_loss: 0.4666 - val_acc: 0.7847\n",
      "Epoch 43/250\n",
      "45055/45055 [==============================] - 1s 21us/step - loss: 0.4677 - acc: 0.7826 - val_loss: 0.4669 - val_acc: 0.7825\n",
      "Epoch 44/250\n",
      "45055/45055 [==============================] - 1s 20us/step - loss: 0.4674 - acc: 0.7816 - val_loss: 0.4688 - val_acc: 0.7820\n",
      "Epoch 45/250\n",
      "45055/45055 [==============================] - 1s 21us/step - loss: 0.4671 - acc: 0.7815 - val_loss: 0.4673 - val_acc: 0.7833\n",
      "Epoch 46/250\n",
      "45055/45055 [==============================] - 1s 22us/step - loss: 0.4667 - acc: 0.7820 - val_loss: 0.4683 - val_acc: 0.7847\n",
      "Epoch 47/250\n",
      "45055/45055 [==============================] - 1s 22us/step - loss: 0.4665 - acc: 0.7822 - val_loss: 0.4680 - val_acc: 0.7835\n",
      "Epoch 48/250\n",
      "45055/45055 [==============================] - 1s 22us/step - loss: 0.4667 - acc: 0.7828 - val_loss: 0.4689 - val_acc: 0.7808\n",
      "Epoch 49/250\n",
      "45055/45055 [==============================] - 1s 21us/step - loss: 0.4670 - acc: 0.7832 - val_loss: 0.4674 - val_acc: 0.7825\n",
      "Epoch 50/250\n",
      "45055/45055 [==============================] - 1s 21us/step - loss: 0.4664 - acc: 0.7831 - val_loss: 0.4669 - val_acc: 0.7844\n",
      "Epoch 51/250\n",
      "45055/45055 [==============================] - 1s 21us/step - loss: 0.4660 - acc: 0.7828 - val_loss: 0.4686 - val_acc: 0.7802\n",
      "Epoch 52/250\n",
      "45055/45055 [==============================] - 1s 21us/step - loss: 0.4658 - acc: 0.7834 - val_loss: 0.4696 - val_acc: 0.7799\n",
      "Epoch 53/250\n",
      "45055/45055 [==============================] - 1s 21us/step - loss: 0.4662 - acc: 0.7822 - val_loss: 0.4683 - val_acc: 0.7826\n",
      "Epoch 54/250\n",
      "45055/45055 [==============================] - 1s 22us/step - loss: 0.4658 - acc: 0.7828 - val_loss: 0.4681 - val_acc: 0.7828\n",
      "Epoch 55/250\n",
      "45055/45055 [==============================] - 1s 23us/step - loss: 0.4659 - acc: 0.7838 - val_loss: 0.4674 - val_acc: 0.7821\n",
      "Epoch 56/250\n",
      "45055/45055 [==============================] - 1s 25us/step - loss: 0.4644 - acc: 0.7840 - val_loss: 0.4678 - val_acc: 0.7846\n",
      "Epoch 57/250\n",
      "45055/45055 [==============================] - 1s 21us/step - loss: 0.4639 - acc: 0.7851 - val_loss: 0.4680 - val_acc: 0.7823\n",
      "Epoch 58/250\n",
      "45055/45055 [==============================] - 1s 22us/step - loss: 0.4642 - acc: 0.7843 - val_loss: 0.4688 - val_acc: 0.7818\n",
      "Epoch 59/250\n"
     ]
    },
    {
     "name": "stdout",
     "output_type": "stream",
     "text": [
      "45055/45055 [==============================] - 1s 20us/step - loss: 0.4636 - acc: 0.7836 - val_loss: 0.4698 - val_acc: 0.7817\n",
      "Epoch 60/250\n",
      "45055/45055 [==============================] - 1s 19us/step - loss: 0.4649 - acc: 0.7848 - val_loss: 0.4674 - val_acc: 0.7823\n",
      "Epoch 61/250\n",
      "45055/45055 [==============================] - 1s 19us/step - loss: 0.4649 - acc: 0.7829 - val_loss: 0.4680 - val_acc: 0.7821\n",
      "Epoch 62/250\n",
      "45055/45055 [==============================] - 1s 20us/step - loss: 0.4636 - acc: 0.7846 - val_loss: 0.4708 - val_acc: 0.7795\n",
      "Epoch 63/250\n",
      "45055/45055 [==============================] - 1s 20us/step - loss: 0.4632 - acc: 0.7846 - val_loss: 0.4687 - val_acc: 0.7834\n",
      "Epoch 64/250\n",
      "45055/45055 [==============================] - 1s 20us/step - loss: 0.4641 - acc: 0.7847 - val_loss: 0.4688 - val_acc: 0.7833\n",
      "Epoch 65/250\n",
      "45055/45055 [==============================] - 1s 19us/step - loss: 0.4635 - acc: 0.7856 - val_loss: 0.4685 - val_acc: 0.7831\n",
      "Epoch 66/250\n",
      "45055/45055 [==============================] - 1s 19us/step - loss: 0.4639 - acc: 0.7840 - val_loss: 0.4686 - val_acc: 0.7814\n",
      "Epoch 67/250\n",
      "45055/45055 [==============================] - 1s 19us/step - loss: 0.4630 - acc: 0.7850 - val_loss: 0.4693 - val_acc: 0.7807\n",
      "Epoch 68/250\n",
      "45055/45055 [==============================] - 1s 19us/step - loss: 0.4624 - acc: 0.7850 - val_loss: 0.4681 - val_acc: 0.7795\n",
      "Epoch 69/250\n",
      "45055/45055 [==============================] - 1s 20us/step - loss: 0.4619 - acc: 0.7855 - val_loss: 0.4687 - val_acc: 0.7815\n",
      "Epoch 70/250\n",
      "45055/45055 [==============================] - 1s 20us/step - loss: 0.4623 - acc: 0.7847 - val_loss: 0.4688 - val_acc: 0.7805\n",
      "Epoch 71/250\n",
      "45055/45055 [==============================] - 1s 20us/step - loss: 0.4625 - acc: 0.7840 - val_loss: 0.4688 - val_acc: 0.7821\n",
      "Epoch 72/250\n",
      "45055/45055 [==============================] - 1s 20us/step - loss: 0.4627 - acc: 0.7856 - val_loss: 0.4694 - val_acc: 0.7819\n",
      "Epoch 73/250\n",
      "45055/45055 [==============================] - 1s 20us/step - loss: 0.4625 - acc: 0.7852 - val_loss: 0.4691 - val_acc: 0.7816\n",
      "Epoch 74/250\n",
      "45055/45055 [==============================] - 1s 20us/step - loss: 0.4616 - acc: 0.7865 - val_loss: 0.4707 - val_acc: 0.7831\n",
      "Epoch 75/250\n",
      "45055/45055 [==============================] - 1s 20us/step - loss: 0.4617 - acc: 0.7856 - val_loss: 0.4710 - val_acc: 0.7797\n",
      "Epoch 76/250\n",
      "45055/45055 [==============================] - 1s 20us/step - loss: 0.4615 - acc: 0.7858 - val_loss: 0.4694 - val_acc: 0.7823\n",
      "Epoch 77/250\n",
      "45055/45055 [==============================] - 1s 20us/step - loss: 0.4621 - acc: 0.7842 - val_loss: 0.4705 - val_acc: 0.7811\n",
      "Epoch 78/250\n",
      "45055/45055 [==============================] - 1s 21us/step - loss: 0.4615 - acc: 0.7877 - val_loss: 0.4699 - val_acc: 0.7813\n",
      "Epoch 79/250\n",
      "45055/45055 [==============================] - 1s 20us/step - loss: 0.4616 - acc: 0.7866 - val_loss: 0.4696 - val_acc: 0.7817\n",
      "Epoch 80/250\n",
      "45055/45055 [==============================] - 1s 21us/step - loss: 0.4614 - acc: 0.7855 - val_loss: 0.4690 - val_acc: 0.7819\n",
      "Epoch 81/250\n",
      "45055/45055 [==============================] - 1s 20us/step - loss: 0.4618 - acc: 0.7857 - val_loss: 0.4703 - val_acc: 0.7821\n",
      "Epoch 82/250\n",
      "45055/45055 [==============================] - 1s 20us/step - loss: 0.4608 - acc: 0.7859 - val_loss: 0.4694 - val_acc: 0.7799\n",
      "Epoch 83/250\n",
      "45055/45055 [==============================] - 1s 20us/step - loss: 0.4611 - acc: 0.7873 - val_loss: 0.4710 - val_acc: 0.7813\n",
      "Epoch 84/250\n",
      "45055/45055 [==============================] - 1s 19us/step - loss: 0.4613 - acc: 0.7854 - val_loss: 0.4686 - val_acc: 0.7829\n",
      "Epoch 85/250\n",
      "45055/45055 [==============================] - 1s 20us/step - loss: 0.4611 - acc: 0.7867 - val_loss: 0.4695 - val_acc: 0.7823\n",
      "Epoch 86/250\n",
      "45055/45055 [==============================] - 1s 19us/step - loss: 0.4599 - acc: 0.7872 - val_loss: 0.4718 - val_acc: 0.7789\n",
      "Epoch 87/250\n",
      "45055/45055 [==============================] - 1s 20us/step - loss: 0.4597 - acc: 0.7875 - val_loss: 0.4705 - val_acc: 0.7793\n",
      "Epoch 88/250\n",
      "45055/45055 [==============================] - 1s 19us/step - loss: 0.4605 - acc: 0.7877 - val_loss: 0.4694 - val_acc: 0.7794\n",
      "Epoch 89/250\n",
      "45055/45055 [==============================] - 1s 19us/step - loss: 0.4614 - acc: 0.7878 - val_loss: 0.4703 - val_acc: 0.7797\n",
      "Epoch 90/250\n",
      "45055/45055 [==============================] - 1s 19us/step - loss: 0.4599 - acc: 0.7873 - val_loss: 0.4701 - val_acc: 0.7840\n",
      "Epoch 91/250\n",
      "45055/45055 [==============================] - 1s 19us/step - loss: 0.4594 - acc: 0.7871 - val_loss: 0.4706 - val_acc: 0.7779\n",
      "Epoch 92/250\n",
      "45055/45055 [==============================] - 1s 19us/step - loss: 0.4610 - acc: 0.7868 - val_loss: 0.4698 - val_acc: 0.7829\n",
      "Epoch 93/250\n",
      "45055/45055 [==============================] - 1s 19us/step - loss: 0.4599 - acc: 0.7870 - val_loss: 0.4709 - val_acc: 0.7815\n",
      "Epoch 94/250\n",
      "45055/45055 [==============================] - 1s 19us/step - loss: 0.4597 - acc: 0.7879 - val_loss: 0.4703 - val_acc: 0.7837\n",
      "Epoch 95/250\n",
      "45055/45055 [==============================] - 1s 19us/step - loss: 0.4594 - acc: 0.7877 - val_loss: 0.4694 - val_acc: 0.7803\n",
      "Epoch 96/250\n",
      "45055/45055 [==============================] - 1s 19us/step - loss: 0.4593 - acc: 0.7877 - val_loss: 0.4721 - val_acc: 0.7802\n",
      "Epoch 97/250\n",
      "45055/45055 [==============================] - 1s 19us/step - loss: 0.4594 - acc: 0.7891 - val_loss: 0.4708 - val_acc: 0.7806\n",
      "Epoch 98/250\n",
      "45055/45055 [==============================] - 1s 20us/step - loss: 0.4591 - acc: 0.7883 - val_loss: 0.4716 - val_acc: 0.7803\n",
      "Epoch 99/250\n",
      "45055/45055 [==============================] - 1s 20us/step - loss: 0.4587 - acc: 0.7881 - val_loss: 0.4717 - val_acc: 0.7803\n",
      "Epoch 100/250\n",
      "45055/45055 [==============================] - 1s 19us/step - loss: 0.4587 - acc: 0.7880 - val_loss: 0.4703 - val_acc: 0.7805\n",
      "Epoch 101/250\n",
      "45055/45055 [==============================] - 1s 20us/step - loss: 0.4582 - acc: 0.7876 - val_loss: 0.4713 - val_acc: 0.7795\n",
      "Epoch 102/250\n",
      "45055/45055 [==============================] - 1s 19us/step - loss: 0.4592 - acc: 0.7868 - val_loss: 0.4710 - val_acc: 0.7793\n",
      "Epoch 103/250\n",
      "45055/45055 [==============================] - 1s 20us/step - loss: 0.4586 - acc: 0.7883 - val_loss: 0.4717 - val_acc: 0.7821\n",
      "Epoch 104/250\n",
      "45055/45055 [==============================] - 1s 21us/step - loss: 0.4590 - acc: 0.7883 - val_loss: 0.4717 - val_acc: 0.7801\n",
      "Epoch 105/250\n",
      "45055/45055 [==============================] - 1s 20us/step - loss: 0.4565 - acc: 0.7899 - val_loss: 0.4717 - val_acc: 0.7815\n",
      "Epoch 106/250\n",
      "45055/45055 [==============================] - 1s 20us/step - loss: 0.4574 - acc: 0.7890 - val_loss: 0.4703 - val_acc: 0.7821\n",
      "Epoch 107/250\n",
      "45055/45055 [==============================] - 1s 21us/step - loss: 0.4577 - acc: 0.7884 - val_loss: 0.4719 - val_acc: 0.7794\n",
      "Epoch 108/250\n",
      "45055/45055 [==============================] - 1s 22us/step - loss: 0.4584 - acc: 0.7876 - val_loss: 0.4730 - val_acc: 0.7794\n",
      "Epoch 109/250\n",
      "45055/45055 [==============================] - 1s 25us/step - loss: 0.4577 - acc: 0.7888 - val_loss: 0.4722 - val_acc: 0.7805\n",
      "Epoch 110/250\n",
      "45055/45055 [==============================] - 1s 20us/step - loss: 0.4575 - acc: 0.7897 - val_loss: 0.4729 - val_acc: 0.7790\n",
      "Epoch 111/250\n",
      "45055/45055 [==============================] - 1s 21us/step - loss: 0.4571 - acc: 0.7887 - val_loss: 0.4739 - val_acc: 0.7793\n",
      "Epoch 112/250\n",
      "45055/45055 [==============================] - 1s 21us/step - loss: 0.4571 - acc: 0.7893 - val_loss: 0.4714 - val_acc: 0.7806\n",
      "Epoch 113/250\n",
      "45055/45055 [==============================] - 1s 22us/step - loss: 0.4577 - acc: 0.7878 - val_loss: 0.4712 - val_acc: 0.7803\n",
      "Epoch 114/250\n",
      "45055/45055 [==============================] - 1s 21us/step - loss: 0.4566 - acc: 0.7888 - val_loss: 0.4730 - val_acc: 0.7791\n",
      "Epoch 115/250\n",
      "45055/45055 [==============================] - 1s 21us/step - loss: 0.4571 - acc: 0.7889 - val_loss: 0.4727 - val_acc: 0.7799\n",
      "Epoch 116/250\n",
      "45055/45055 [==============================] - 1s 20us/step - loss: 0.4574 - acc: 0.7888 - val_loss: 0.4721 - val_acc: 0.7797\n",
      "Epoch 117/250\n",
      "45055/45055 [==============================] - 1s 20us/step - loss: 0.4561 - acc: 0.7889 - val_loss: 0.4735 - val_acc: 0.7802\n"
     ]
    },
    {
     "name": "stdout",
     "output_type": "stream",
     "text": [
      "Epoch 118/250\n",
      "45055/45055 [==============================] - 1s 19us/step - loss: 0.4580 - acc: 0.7887 - val_loss: 0.4716 - val_acc: 0.7809\n",
      "Epoch 119/250\n",
      "45055/45055 [==============================] - 1s 21us/step - loss: 0.4559 - acc: 0.7894 - val_loss: 0.4728 - val_acc: 0.7807\n",
      "Epoch 120/250\n",
      "45055/45055 [==============================] - 1s 19us/step - loss: 0.4575 - acc: 0.7887 - val_loss: 0.4727 - val_acc: 0.7788\n",
      "Epoch 121/250\n",
      "45055/45055 [==============================] - 1s 21us/step - loss: 0.4578 - acc: 0.7886 - val_loss: 0.4734 - val_acc: 0.7795\n",
      "Epoch 122/250\n",
      "45055/45055 [==============================] - 1s 21us/step - loss: 0.4567 - acc: 0.7895 - val_loss: 0.4726 - val_acc: 0.7817\n",
      "Epoch 123/250\n",
      "45055/45055 [==============================] - 1s 21us/step - loss: 0.4571 - acc: 0.7891 - val_loss: 0.4725 - val_acc: 0.7799\n",
      "Epoch 124/250\n",
      "45055/45055 [==============================] - 1s 20us/step - loss: 0.4566 - acc: 0.7899 - val_loss: 0.4732 - val_acc: 0.7765\n",
      "Epoch 125/250\n",
      "45055/45055 [==============================] - 1s 19us/step - loss: 0.4565 - acc: 0.7899 - val_loss: 0.4731 - val_acc: 0.7815\n",
      "Epoch 126/250\n",
      "45055/45055 [==============================] - 1s 21us/step - loss: 0.4564 - acc: 0.7900 - val_loss: 0.4738 - val_acc: 0.7780\n",
      "Epoch 127/250\n",
      "45055/45055 [==============================] - 1s 19us/step - loss: 0.4564 - acc: 0.7898 - val_loss: 0.4739 - val_acc: 0.7789\n",
      "Epoch 128/250\n",
      "45055/45055 [==============================] - 1s 18us/step - loss: 0.4558 - acc: 0.7899 - val_loss: 0.4728 - val_acc: 0.7801\n",
      "Epoch 129/250\n",
      "45055/45055 [==============================] - 1s 18us/step - loss: 0.4538 - acc: 0.7909 - val_loss: 0.4745 - val_acc: 0.7789\n",
      "Epoch 130/250\n",
      "45055/45055 [==============================] - 1s 17us/step - loss: 0.4556 - acc: 0.7906 - val_loss: 0.4734 - val_acc: 0.7788\n",
      "Epoch 131/250\n",
      "45055/45055 [==============================] - 1s 19us/step - loss: 0.4551 - acc: 0.7884 - val_loss: 0.4741 - val_acc: 0.7777\n",
      "Epoch 132/250\n",
      "45055/45055 [==============================] - 1s 19us/step - loss: 0.4555 - acc: 0.7908 - val_loss: 0.4753 - val_acc: 0.7771\n",
      "Epoch 133/250\n",
      "45055/45055 [==============================] - 1s 21us/step - loss: 0.4559 - acc: 0.7907 - val_loss: 0.4726 - val_acc: 0.7805\n",
      "Epoch 134/250\n",
      "45055/45055 [==============================] - 1s 19us/step - loss: 0.4552 - acc: 0.7902 - val_loss: 0.4745 - val_acc: 0.7794\n",
      "Epoch 135/250\n",
      "45055/45055 [==============================] - 1s 20us/step - loss: 0.4563 - acc: 0.7896 - val_loss: 0.4733 - val_acc: 0.7788\n",
      "Epoch 136/250\n",
      "45055/45055 [==============================] - 1s 19us/step - loss: 0.4540 - acc: 0.7912 - val_loss: 0.4758 - val_acc: 0.7760\n",
      "Epoch 137/250\n",
      "45055/45055 [==============================] - 1s 19us/step - loss: 0.4549 - acc: 0.7914 - val_loss: 0.4742 - val_acc: 0.7795\n",
      "Epoch 138/250\n",
      "45055/45055 [==============================] - 1s 19us/step - loss: 0.4548 - acc: 0.7907 - val_loss: 0.4735 - val_acc: 0.7800\n",
      "Epoch 139/250\n",
      "45055/45055 [==============================] - 1s 20us/step - loss: 0.4539 - acc: 0.7915 - val_loss: 0.4731 - val_acc: 0.7813\n",
      "Epoch 140/250\n",
      "45055/45055 [==============================] - 1s 19us/step - loss: 0.4546 - acc: 0.7911 - val_loss: 0.4744 - val_acc: 0.7787\n",
      "Epoch 141/250\n",
      "45055/45055 [==============================] - 1s 19us/step - loss: 0.4544 - acc: 0.7921 - val_loss: 0.4753 - val_acc: 0.7796\n",
      "Epoch 142/250\n",
      "45055/45055 [==============================] - 1s 19us/step - loss: 0.4547 - acc: 0.7916 - val_loss: 0.4736 - val_acc: 0.7779\n",
      "Epoch 143/250\n",
      "45055/45055 [==============================] - 1s 19us/step - loss: 0.4529 - acc: 0.7907 - val_loss: 0.4779 - val_acc: 0.7794\n",
      "Epoch 144/250\n",
      "45055/45055 [==============================] - 1s 19us/step - loss: 0.4543 - acc: 0.7918 - val_loss: 0.4746 - val_acc: 0.7795\n",
      "Epoch 145/250\n",
      "45055/45055 [==============================] - 1s 19us/step - loss: 0.4547 - acc: 0.7918 - val_loss: 0.4740 - val_acc: 0.7795\n",
      "Epoch 146/250\n",
      "45055/45055 [==============================] - 1s 19us/step - loss: 0.4531 - acc: 0.7910 - val_loss: 0.4752 - val_acc: 0.7789\n",
      "Epoch 147/250\n",
      "45055/45055 [==============================] - 1s 20us/step - loss: 0.4541 - acc: 0.7912 - val_loss: 0.4744 - val_acc: 0.7792\n",
      "Epoch 148/250\n",
      "45055/45055 [==============================] - 1s 20us/step - loss: 0.4537 - acc: 0.7919 - val_loss: 0.4743 - val_acc: 0.7796\n",
      "Epoch 149/250\n",
      "45055/45055 [==============================] - 1s 21us/step - loss: 0.4535 - acc: 0.7928 - val_loss: 0.4745 - val_acc: 0.7788\n",
      "Epoch 150/250\n",
      "45055/45055 [==============================] - 1s 20us/step - loss: 0.4537 - acc: 0.7922 - val_loss: 0.4743 - val_acc: 0.7795\n",
      "Epoch 151/250\n",
      "45055/45055 [==============================] - 1s 20us/step - loss: 0.4537 - acc: 0.7929 - val_loss: 0.4749 - val_acc: 0.7790\n",
      "Epoch 152/250\n",
      "45055/45055 [==============================] - 1s 20us/step - loss: 0.4535 - acc: 0.7918 - val_loss: 0.4741 - val_acc: 0.7807\n",
      "Epoch 153/250\n",
      "45055/45055 [==============================] - 1s 20us/step - loss: 0.4525 - acc: 0.7913 - val_loss: 0.4760 - val_acc: 0.7787\n",
      "Epoch 154/250\n",
      "45055/45055 [==============================] - 1s 20us/step - loss: 0.4523 - acc: 0.7928 - val_loss: 0.4761 - val_acc: 0.7778\n",
      "Epoch 155/250\n",
      "45055/45055 [==============================] - 1s 20us/step - loss: 0.4524 - acc: 0.7925 - val_loss: 0.4761 - val_acc: 0.7783\n",
      "Epoch 156/250\n",
      "45055/45055 [==============================] - 1s 19us/step - loss: 0.4530 - acc: 0.7928 - val_loss: 0.4761 - val_acc: 0.7807\n",
      "Epoch 157/250\n",
      "45055/45055 [==============================] - 1s 20us/step - loss: 0.4522 - acc: 0.7923 - val_loss: 0.4761 - val_acc: 0.7779\n",
      "Epoch 158/250\n",
      "45055/45055 [==============================] - 1s 21us/step - loss: 0.4532 - acc: 0.7921 - val_loss: 0.4728 - val_acc: 0.7801\n",
      "Epoch 159/250\n",
      "45055/45055 [==============================] - 1s 20us/step - loss: 0.4529 - acc: 0.7926 - val_loss: 0.4767 - val_acc: 0.7771\n",
      "Epoch 160/250\n",
      "45055/45055 [==============================] - 1s 20us/step - loss: 0.4525 - acc: 0.7935 - val_loss: 0.4764 - val_acc: 0.7777\n",
      "Epoch 161/250\n",
      "45055/45055 [==============================] - 1s 20us/step - loss: 0.4511 - acc: 0.7922 - val_loss: 0.4760 - val_acc: 0.7794\n",
      "Epoch 162/250\n",
      "45055/45055 [==============================] - 1s 20us/step - loss: 0.4529 - acc: 0.7929 - val_loss: 0.4753 - val_acc: 0.7785\n",
      "Epoch 163/250\n",
      "45055/45055 [==============================] - 1s 20us/step - loss: 0.4522 - acc: 0.7925 - val_loss: 0.4763 - val_acc: 0.7788\n",
      "Epoch 164/250\n",
      "45055/45055 [==============================] - 1s 19us/step - loss: 0.4519 - acc: 0.7932 - val_loss: 0.4768 - val_acc: 0.7787\n",
      "Epoch 165/250\n",
      "45055/45055 [==============================] - 1s 19us/step - loss: 0.4520 - acc: 0.7923 - val_loss: 0.4757 - val_acc: 0.7796\n",
      "Epoch 166/250\n",
      "45055/45055 [==============================] - 1s 20us/step - loss: 0.4522 - acc: 0.7917 - val_loss: 0.4754 - val_acc: 0.7760\n",
      "Epoch 167/250\n",
      "45055/45055 [==============================] - 1s 21us/step - loss: 0.4524 - acc: 0.7930 - val_loss: 0.4781 - val_acc: 0.7789\n",
      "Epoch 168/250\n",
      "45055/45055 [==============================] - 1s 20us/step - loss: 0.4525 - acc: 0.7930 - val_loss: 0.4751 - val_acc: 0.7770\n",
      "Epoch 169/250\n",
      "45055/45055 [==============================] - 1s 20us/step - loss: 0.4512 - acc: 0.7936 - val_loss: 0.4765 - val_acc: 0.7752\n",
      "Epoch 170/250\n",
      "45055/45055 [==============================] - 1s 20us/step - loss: 0.4526 - acc: 0.7920 - val_loss: 0.4753 - val_acc: 0.7777\n",
      "Epoch 171/250\n",
      "45055/45055 [==============================] - 1s 20us/step - loss: 0.4530 - acc: 0.7913 - val_loss: 0.4780 - val_acc: 0.7771\n",
      "Epoch 172/250\n",
      "45055/45055 [==============================] - 1s 20us/step - loss: 0.4523 - acc: 0.7914 - val_loss: 0.4770 - val_acc: 0.7756\n",
      "Epoch 173/250\n",
      "45055/45055 [==============================] - 1s 21us/step - loss: 0.4519 - acc: 0.7938 - val_loss: 0.4763 - val_acc: 0.7790\n",
      "Epoch 174/250\n",
      "45055/45055 [==============================] - 1s 20us/step - loss: 0.4518 - acc: 0.7934 - val_loss: 0.4776 - val_acc: 0.7771\n",
      "Epoch 175/250\n",
      "45055/45055 [==============================] - 1s 21us/step - loss: 0.4518 - acc: 0.7930 - val_loss: 0.4773 - val_acc: 0.7767\n",
      "Epoch 176/250\n"
     ]
    },
    {
     "name": "stdout",
     "output_type": "stream",
     "text": [
      "45055/45055 [==============================] - 1s 20us/step - loss: 0.4512 - acc: 0.7927 - val_loss: 0.4772 - val_acc: 0.7771\n",
      "Epoch 177/250\n",
      "45055/45055 [==============================] - 1s 19us/step - loss: 0.4524 - acc: 0.7908 - val_loss: 0.4774 - val_acc: 0.7776\n",
      "Epoch 178/250\n",
      "45055/45055 [==============================] - 1s 19us/step - loss: 0.4528 - acc: 0.7931 - val_loss: 0.4769 - val_acc: 0.7792\n",
      "Epoch 179/250\n",
      "45055/45055 [==============================] - 1s 19us/step - loss: 0.4517 - acc: 0.7924 - val_loss: 0.4773 - val_acc: 0.7783\n",
      "Epoch 180/250\n",
      "45055/45055 [==============================] - 1s 20us/step - loss: 0.4513 - acc: 0.7937 - val_loss: 0.4783 - val_acc: 0.7770\n",
      "Epoch 181/250\n",
      "45055/45055 [==============================] - 1s 20us/step - loss: 0.4506 - acc: 0.7929 - val_loss: 0.4764 - val_acc: 0.7797\n",
      "Epoch 182/250\n",
      "45055/45055 [==============================] - 1s 20us/step - loss: 0.4521 - acc: 0.7931 - val_loss: 0.4773 - val_acc: 0.7762\n",
      "Epoch 183/250\n",
      "45055/45055 [==============================] - 1s 20us/step - loss: 0.4506 - acc: 0.7930 - val_loss: 0.4780 - val_acc: 0.7783\n",
      "Epoch 184/250\n",
      "45055/45055 [==============================] - 1s 21us/step - loss: 0.4511 - acc: 0.7927 - val_loss: 0.4770 - val_acc: 0.7771\n",
      "Epoch 185/250\n",
      "45055/45055 [==============================] - 1s 20us/step - loss: 0.4522 - acc: 0.7935 - val_loss: 0.4752 - val_acc: 0.7779\n",
      "Epoch 186/250\n",
      "45055/45055 [==============================] - 1s 20us/step - loss: 0.4518 - acc: 0.7938 - val_loss: 0.4775 - val_acc: 0.7781\n",
      "Epoch 187/250\n",
      "45055/45055 [==============================] - 1s 21us/step - loss: 0.4493 - acc: 0.7952 - val_loss: 0.4776 - val_acc: 0.7793\n",
      "Epoch 188/250\n",
      "45055/45055 [==============================] - 1s 20us/step - loss: 0.4522 - acc: 0.7927 - val_loss: 0.4766 - val_acc: 0.7776\n",
      "Epoch 189/250\n",
      "45055/45055 [==============================] - 1s 20us/step - loss: 0.4503 - acc: 0.7942 - val_loss: 0.4765 - val_acc: 0.7772\n",
      "Epoch 190/250\n",
      "45055/45055 [==============================] - 1s 20us/step - loss: 0.4504 - acc: 0.7934 - val_loss: 0.4767 - val_acc: 0.7781\n",
      "Epoch 191/250\n",
      "45055/45055 [==============================] - 1s 20us/step - loss: 0.4499 - acc: 0.7936 - val_loss: 0.4781 - val_acc: 0.7763\n",
      "Epoch 192/250\n",
      "45055/45055 [==============================] - 1s 20us/step - loss: 0.4503 - acc: 0.7938 - val_loss: 0.4786 - val_acc: 0.7770\n",
      "Epoch 193/250\n",
      "45055/45055 [==============================] - 1s 20us/step - loss: 0.4512 - acc: 0.7930 - val_loss: 0.4766 - val_acc: 0.7784\n",
      "Epoch 194/250\n",
      "45055/45055 [==============================] - 1s 20us/step - loss: 0.4504 - acc: 0.7948 - val_loss: 0.4782 - val_acc: 0.7772\n",
      "Epoch 195/250\n",
      "45055/45055 [==============================] - 1s 20us/step - loss: 0.4505 - acc: 0.7953 - val_loss: 0.4768 - val_acc: 0.7800\n",
      "Epoch 196/250\n",
      "45055/45055 [==============================] - 1s 20us/step - loss: 0.4516 - acc: 0.7936 - val_loss: 0.4765 - val_acc: 0.7794\n",
      "Epoch 197/250\n",
      "45055/45055 [==============================] - 1s 20us/step - loss: 0.4488 - acc: 0.7945 - val_loss: 0.4789 - val_acc: 0.7771\n",
      "Epoch 198/250\n",
      "45055/45055 [==============================] - 1s 20us/step - loss: 0.4495 - acc: 0.7943 - val_loss: 0.4768 - val_acc: 0.7785\n",
      "Epoch 199/250\n",
      "45055/45055 [==============================] - 1s 20us/step - loss: 0.4504 - acc: 0.7947 - val_loss: 0.4780 - val_acc: 0.7790\n",
      "Epoch 200/250\n",
      "45055/45055 [==============================] - 1s 20us/step - loss: 0.4494 - acc: 0.7944 - val_loss: 0.4774 - val_acc: 0.7792\n",
      "Epoch 201/250\n",
      "45055/45055 [==============================] - 1s 21us/step - loss: 0.4498 - acc: 0.7947 - val_loss: 0.4768 - val_acc: 0.7787\n",
      "Epoch 202/250\n",
      "45055/45055 [==============================] - 1s 19us/step - loss: 0.4491 - acc: 0.7958 - val_loss: 0.4783 - val_acc: 0.7768\n",
      "Epoch 203/250\n",
      "45055/45055 [==============================] - 1s 20us/step - loss: 0.4489 - acc: 0.7943 - val_loss: 0.4792 - val_acc: 0.7775\n",
      "Epoch 204/250\n",
      "45055/45055 [==============================] - 1s 19us/step - loss: 0.4506 - acc: 0.7942 - val_loss: 0.4779 - val_acc: 0.7795\n",
      "Epoch 205/250\n",
      "45055/45055 [==============================] - 1s 21us/step - loss: 0.4494 - acc: 0.7936 - val_loss: 0.4775 - val_acc: 0.7777\n",
      "Epoch 206/250\n",
      "45055/45055 [==============================] - 1s 20us/step - loss: 0.4492 - acc: 0.7949 - val_loss: 0.4804 - val_acc: 0.7790\n",
      "Epoch 207/250\n",
      "45055/45055 [==============================] - 1s 20us/step - loss: 0.4485 - acc: 0.7958 - val_loss: 0.4772 - val_acc: 0.7776\n",
      "Epoch 208/250\n",
      "45055/45055 [==============================] - 1s 20us/step - loss: 0.4498 - acc: 0.7937 - val_loss: 0.4779 - val_acc: 0.7789\n",
      "Epoch 209/250\n",
      "45055/45055 [==============================] - 1s 19us/step - loss: 0.4490 - acc: 0.7938 - val_loss: 0.4782 - val_acc: 0.7784\n",
      "Epoch 210/250\n",
      "45055/45055 [==============================] - 1s 19us/step - loss: 0.4493 - acc: 0.7950 - val_loss: 0.4788 - val_acc: 0.7776\n",
      "Epoch 211/250\n",
      "45055/45055 [==============================] - 1s 20us/step - loss: 0.4493 - acc: 0.7947 - val_loss: 0.4765 - val_acc: 0.7797\n",
      "Epoch 212/250\n",
      "45055/45055 [==============================] - 1s 20us/step - loss: 0.4485 - acc: 0.7966 - val_loss: 0.4776 - val_acc: 0.7777\n",
      "Epoch 213/250\n",
      "45055/45055 [==============================] - 1s 20us/step - loss: 0.4493 - acc: 0.7943 - val_loss: 0.4764 - val_acc: 0.7776\n",
      "Epoch 214/250\n",
      "45055/45055 [==============================] - 1s 21us/step - loss: 0.4494 - acc: 0.7933 - val_loss: 0.4776 - val_acc: 0.7781\n",
      "Epoch 215/250\n",
      "45055/45055 [==============================] - 1s 19us/step - loss: 0.4484 - acc: 0.7944 - val_loss: 0.4777 - val_acc: 0.7773\n",
      "Epoch 216/250\n",
      "45055/45055 [==============================] - 1s 20us/step - loss: 0.4487 - acc: 0.7962 - val_loss: 0.4781 - val_acc: 0.7781\n",
      "Epoch 217/250\n",
      "45055/45055 [==============================] - 1s 20us/step - loss: 0.4493 - acc: 0.7950 - val_loss: 0.4772 - val_acc: 0.7791\n",
      "Epoch 218/250\n",
      "45055/45055 [==============================] - 1s 20us/step - loss: 0.4486 - acc: 0.7929 - val_loss: 0.4776 - val_acc: 0.7785\n",
      "Epoch 219/250\n",
      "45055/45055 [==============================] - 1s 20us/step - loss: 0.4490 - acc: 0.7939 - val_loss: 0.4778 - val_acc: 0.7787\n",
      "Epoch 220/250\n",
      "45055/45055 [==============================] - 1s 20us/step - loss: 0.4477 - acc: 0.7949 - val_loss: 0.4788 - val_acc: 0.7768\n",
      "Epoch 221/250\n",
      "45055/45055 [==============================] - 1s 20us/step - loss: 0.4485 - acc: 0.7961 - val_loss: 0.4786 - val_acc: 0.7771\n",
      "Epoch 222/250\n",
      "45055/45055 [==============================] - 1s 20us/step - loss: 0.4494 - acc: 0.7942 - val_loss: 0.4783 - val_acc: 0.7774\n",
      "Epoch 223/250\n",
      "45055/45055 [==============================] - 1s 20us/step - loss: 0.4496 - acc: 0.7960 - val_loss: 0.4792 - val_acc: 0.7787\n",
      "Epoch 224/250\n",
      "45055/45055 [==============================] - 1s 19us/step - loss: 0.4475 - acc: 0.7966 - val_loss: 0.4800 - val_acc: 0.7767\n",
      "Epoch 225/250\n",
      "45055/45055 [==============================] - 1s 20us/step - loss: 0.4488 - acc: 0.7944 - val_loss: 0.4787 - val_acc: 0.7773\n",
      "Epoch 226/250\n",
      "45055/45055 [==============================] - 1s 19us/step - loss: 0.4488 - acc: 0.7959 - val_loss: 0.4775 - val_acc: 0.7788\n",
      "Epoch 227/250\n",
      "45055/45055 [==============================] - 1s 19us/step - loss: 0.4492 - acc: 0.7948 - val_loss: 0.4792 - val_acc: 0.7773\n",
      "Epoch 228/250\n",
      "45055/45055 [==============================] - 1s 20us/step - loss: 0.4475 - acc: 0.7956 - val_loss: 0.4797 - val_acc: 0.7769\n",
      "Epoch 229/250\n",
      "45055/45055 [==============================] - 1s 20us/step - loss: 0.4477 - acc: 0.7948 - val_loss: 0.4783 - val_acc: 0.7769\n",
      "Epoch 230/250\n",
      "45055/45055 [==============================] - 1s 20us/step - loss: 0.4483 - acc: 0.7943 - val_loss: 0.4781 - val_acc: 0.7784\n",
      "Epoch 231/250\n",
      "45055/45055 [==============================] - 1s 19us/step - loss: 0.4477 - acc: 0.7959 - val_loss: 0.4795 - val_acc: 0.7782\n",
      "Epoch 232/250\n",
      "45055/45055 [==============================] - 1s 20us/step - loss: 0.4480 - acc: 0.7955 - val_loss: 0.4769 - val_acc: 0.7786\n",
      "Epoch 233/250\n",
      "45055/45055 [==============================] - 1s 20us/step - loss: 0.4472 - acc: 0.7965 - val_loss: 0.4786 - val_acc: 0.7767\n",
      "Epoch 234/250\n"
     ]
    },
    {
     "name": "stdout",
     "output_type": "stream",
     "text": [
      "45055/45055 [==============================] - 1s 19us/step - loss: 0.4478 - acc: 0.7961 - val_loss: 0.4781 - val_acc: 0.7779\n",
      "Epoch 235/250\n",
      "45055/45055 [==============================] - 1s 19us/step - loss: 0.4480 - acc: 0.7950 - val_loss: 0.4769 - val_acc: 0.7798\n",
      "Epoch 236/250\n",
      "45055/45055 [==============================] - 1s 20us/step - loss: 0.4473 - acc: 0.7954 - val_loss: 0.4798 - val_acc: 0.7771\n",
      "Epoch 237/250\n",
      "45055/45055 [==============================] - 1s 20us/step - loss: 0.4476 - acc: 0.7951 - val_loss: 0.4815 - val_acc: 0.7795\n",
      "Epoch 238/250\n",
      "45055/45055 [==============================] - 1s 20us/step - loss: 0.4487 - acc: 0.7946 - val_loss: 0.4789 - val_acc: 0.7764\n",
      "Epoch 239/250\n",
      "45055/45055 [==============================] - 1s 20us/step - loss: 0.4474 - acc: 0.7947 - val_loss: 0.4810 - val_acc: 0.7767\n",
      "Epoch 240/250\n",
      "45055/45055 [==============================] - 1s 21us/step - loss: 0.4490 - acc: 0.7958 - val_loss: 0.4785 - val_acc: 0.7761\n",
      "Epoch 241/250\n",
      "45055/45055 [==============================] - 1s 20us/step - loss: 0.4475 - acc: 0.7957 - val_loss: 0.4809 - val_acc: 0.7779\n",
      "Epoch 242/250\n",
      "45055/45055 [==============================] - 1s 20us/step - loss: 0.4465 - acc: 0.7954 - val_loss: 0.4796 - val_acc: 0.7784\n",
      "Epoch 243/250\n",
      "45055/45055 [==============================] - 1s 20us/step - loss: 0.4459 - acc: 0.7959 - val_loss: 0.4795 - val_acc: 0.7782\n",
      "Epoch 244/250\n",
      "45055/45055 [==============================] - 1s 20us/step - loss: 0.4467 - acc: 0.7963 - val_loss: 0.4806 - val_acc: 0.7767\n",
      "Epoch 245/250\n",
      "45055/45055 [==============================] - 1s 19us/step - loss: 0.4475 - acc: 0.7956 - val_loss: 0.4806 - val_acc: 0.7776\n",
      "Epoch 246/250\n",
      "45055/45055 [==============================] - 1s 19us/step - loss: 0.4475 - acc: 0.7966 - val_loss: 0.4808 - val_acc: 0.7783\n",
      "Epoch 247/250\n",
      "45055/45055 [==============================] - 1s 19us/step - loss: 0.4470 - acc: 0.7946 - val_loss: 0.4808 - val_acc: 0.7768\n",
      "Epoch 248/250\n",
      "45055/45055 [==============================] - 1s 20us/step - loss: 0.4472 - acc: 0.7946 - val_loss: 0.4804 - val_acc: 0.7788\n",
      "Epoch 249/250\n",
      "45055/45055 [==============================] - 1s 20us/step - loss: 0.4458 - acc: 0.7987 - val_loss: 0.4789 - val_acc: 0.7779\n",
      "Epoch 250/250\n",
      "45055/45055 [==============================] - 1s 20us/step - loss: 0.4464 - acc: 0.7961 - val_loss: 0.4805 - val_acc: 0.7771\n"
     ]
    }
   ],
   "source": [
    "history = model.fit(\n",
    "    lr_extract_inputs(train), \n",
    "    lr_extract_outputs(train),\n",
    "    epochs=250,\n",
    "    batch_size=128,\n",
    "    validation_data=(\n",
    "        lr_extract_inputs(test),\n",
    "        lr_extract_outputs(test),\n",
    "    )\n",
    ")"
   ]
  },
  {
   "cell_type": "code",
   "execution_count": 27,
   "metadata": {},
   "outputs": [
    {
     "data": {
      "image/png": "[encoded data removed]",
      "text/plain": [
       "<Figure size 432x288 with 1 Axes>"
      ]
     },
     "metadata": {},
     "output_type": "display_data"
    }
   ],
   "source": [
    "plt.plot(history.history['acc'], label='train')\n",
    "plt.plot(history.history['val_acc'], label='test')\n",
    "plt.title('Accuracy over train epochs')\n",
    "plt.ylabel('Accuracy')\n",
    "plt.xlabel('Epoch')\n",
    "plt.legend(loc='upper left')\n",
    "plt.show()"
   ]
  },
  {
   "cell_type": "code",
   "execution_count": 28,
   "metadata": {},
   "outputs": [
    {
     "name": "stdout",
     "output_type": "stream",
     "text": [
      "train ################################################################################\n",
      "Accuracy: 0.802907557429808\n",
      "\n"
     ]
    },
    {
     "data": {
      "image/png": "[encoded data removed]",
      "text/plain": [
       "<Figure size 216x288 with 1 Axes>"
      ]
     },
     "metadata": {},
     "output_type": "display_data"
    },
    {
     "name": "stdout",
     "output_type": "stream",
     "text": [
      "test ################################################################################\n",
      "Accuracy: 0.7771489446700846\n",
      "\n"
     ]
    },
    {
     "data": {
      "image/png": "[encoded data removed]",
      "text/plain": [
       "<Figure size 216x288 with 1 Axes>"
      ]
     },
     "metadata": {},
     "output_type": "display_data"
    },
    {
     "name": "stdout",
     "output_type": "stream",
     "text": [
      "validation ################################################################################\n",
      "Accuracy: 0.7791317086163271\n",
      "\n"
     ]
    },
    {
     "data": {
      "image/png": "[encoded data removed]",
      "text/plain": [
       "<Figure size 216x288 with 1 Axes>"
      ]
     },
     "metadata": {},
     "output_type": "display_data"
    }
   ],
   "source": [
    "evaluate_model(model, lr_extract_inputs, lr_extract_outputs, nn=True)"
   ]
  },
  {
   "cell_type": "markdown",
   "metadata": {},
   "source": [
    "El modelo de red neuronal arroja un accuracy que varia entre 75% y 77%. Esto lo observamos probando varios modelos y alternativas en las funciones de activación y capas extras.\n",
    "Es un resultado aceptable ya que se encuentra por encima del baseline y además es lo que venimos logrando con el resto de los modelos."
   ]
  },
  {
   "cell_type": "markdown",
   "metadata": {},
   "source": [
    "### ¿Qué le decimos a nuestro cliente?\n",
    "Los accuracy en todos los modelos son casi iguales. Por tanto, nos vamos a dejar llevar por la performance del algoritmo y así podríamos llegar a abaratar costos de hw y procesamiento.\n",
    "Vamos a quedarnos con el algoritmo de <b>regresión logística</b> ya que es el más simple de todos y anda bastante bien.\n",
    "A nuestro cliente vamos a darle el valor de accuracy del conjunto de validation con la salvedad de que vamos a generar X cantidad de predicciones y vamos a sacar un promedio de las mismas."
   ]
  },
  {
   "cell_type": "code",
   "execution_count": 29,
   "metadata": {},
   "outputs": [],
   "source": [
    "def customer_metric(iterations=10):\n",
    "    accuracy_history = []\n",
    "    for i in list(range(0, iterations)):\n",
    "        outputs = lr_extract_outputs(validation)\n",
    "        predictions = lr_model.predict(lr_extract_inputs(validation))\n",
    "        accuracy_history.append(accuracy_score(outputs, predictions))\n",
    "    \n",
    "    return sum(accuracy_history)/len(accuracy_history)\n",
    "    "
   ]
  },
  {
   "cell_type": "code",
   "execution_count": 34,
   "metadata": {},
   "outputs": [
    {
     "name": "stdout",
     "output_type": "stream",
     "text": [
      "Metrica para el cliente: 0.7731388999866827%\n"
     ]
    }
   ],
   "source": [
    "print(\"Metrica para el cliente: {}%\".format(customer_metric()))"
   ]
  }
 ],
 "metadata": {
  "kernelspec": {
   "display_name": "Python 3",
   "language": "python",
   "name": "python3"
  },
  "language_info": {
   "codemirror_mode": {
    "name": "ipython",
    "version": 3
   },
   "file_extension": ".py",
   "mimetype": "text/x-python",
   "name": "python",
   "nbconvert_exporter": "python",
   "pygments_lexer": "ipython3",
   "version": "3.5.2"
  }
 },
 "nbformat": 4,
 "nbformat_minor": 2
}
